{
 "cells": [
  {
   "cell_type": "code",
   "execution_count": 1,
   "id": "aff60ef8-9e8e-4bd5-abe2-3568b242aba0",
   "metadata": {},
   "outputs": [],
   "source": [
    "'''\n",
    "narrowing SIU reports from 2017/18 to only those with the following keywords\n",
    "the list of all the reports to scrape are in an csv file in reports_to_scrape folder downloaded from their site\n",
    "Ontario - Special Investigations Unit (SIU Annual Report 2021-2022 and Special Investigations Unit (SIU) director’s reports from 2005 to November 2018 | Ontario.ca) \n",
    "Firearm injuries\n",
    "Custody injuries\n",
    "Other injuries/deaths\n",
    "Vehicle injuries\n",
    "Use of force\n",
    "Unlawful or unnecessary exercise of authority \n",
    "Unnecessary force\n",
    "Unnecessary use of force\n",
    "Assault\n",
    "Sexual assault\n",
    "Harm\n",
    "Excessive force\n",
    "Injury\n",
    "'''\n",
    "\n",
    "# import libraries\n",
    "import pandas as pd\n",
    "import numpy as np\n",
    "from urllib.request import urlopen\n",
    "from bs4 import BeautifulSoup\n",
    "import re"
   ]
  },
  {
   "cell_type": "code",
   "execution_count": 2,
   "id": "13c5e56f-558a-44ea-becb-51f151cb4783",
   "metadata": {},
   "outputs": [
    {
     "data": {
      "text/html": [
       "<div>\n",
       "<style scoped>\n",
       "    .dataframe tbody tr th:only-of-type {\n",
       "        vertical-align: middle;\n",
       "    }\n",
       "\n",
       "    .dataframe tbody tr th {\n",
       "        vertical-align: top;\n",
       "    }\n",
       "\n",
       "    .dataframe thead th {\n",
       "        text-align: right;\n",
       "    }\n",
       "</style>\n",
       "<table border=\"1\" class=\"dataframe\">\n",
       "  <thead>\n",
       "    <tr style=\"text-align: right;\">\n",
       "      <th></th>\n",
       "      <th>Case number</th>\n",
       "      <th>Special Investigations Unit incident date</th>\n",
       "      <th>Special Investigations Unit published date</th>\n",
       "    </tr>\n",
       "  </thead>\n",
       "  <tbody>\n",
       "    <tr>\n",
       "      <th>0</th>\n",
       "      <td>&lt;a href=\"/page/siu-directors-report-case-15-tf...</td>\n",
       "      <td>2015-07-25</td>\n",
       "      <td>2016-06-29</td>\n",
       "    </tr>\n",
       "    <tr>\n",
       "      <th>1</th>\n",
       "      <td>&lt;a href=\"/page/siu-directors-report-case-09-of...</td>\n",
       "      <td>2009-04-22</td>\n",
       "      <td>2009-07-07</td>\n",
       "    </tr>\n",
       "    <tr>\n",
       "      <th>2</th>\n",
       "      <td>&lt;a href=\"/page/siu-directors-report-case-05-tf...</td>\n",
       "      <td>2005-05-27</td>\n",
       "      <td>2005-08-25</td>\n",
       "    </tr>\n",
       "    <tr>\n",
       "      <th>3</th>\n",
       "      <td>&lt;a href=\"/page/siu-directors-report-case-05-of...</td>\n",
       "      <td>2005-10-18</td>\n",
       "      <td>2005-12-07</td>\n",
       "    </tr>\n",
       "    <tr>\n",
       "      <th>4</th>\n",
       "      <td>&lt;a href=\"/page/siu-directors-report-case-06-of...</td>\n",
       "      <td>2006-04-13</td>\n",
       "      <td>2006-07-24</td>\n",
       "    </tr>\n",
       "  </tbody>\n",
       "</table>\n",
       "</div>"
      ],
      "text/plain": [
       "                                         Case number  \\\n",
       "0  <a href=\"/page/siu-directors-report-case-15-tf...   \n",
       "1  <a href=\"/page/siu-directors-report-case-09-of...   \n",
       "2  <a href=\"/page/siu-directors-report-case-05-tf...   \n",
       "3  <a href=\"/page/siu-directors-report-case-05-of...   \n",
       "4  <a href=\"/page/siu-directors-report-case-06-of...   \n",
       "\n",
       "  Special Investigations Unit incident date  \\\n",
       "0                                2015-07-25   \n",
       "1                                2009-04-22   \n",
       "2                                2005-05-27   \n",
       "3                                2005-10-18   \n",
       "4                                2006-04-13   \n",
       "\n",
       "  Special Investigations Unit published date  \n",
       "0                                 2016-06-29  \n",
       "1                                 2009-07-07  \n",
       "2                                 2005-08-25  \n",
       "3                                 2005-12-07  \n",
       "4                                 2006-07-24  "
      ]
     },
     "execution_count": 2,
     "metadata": {},
     "output_type": "execute_result"
    }
   ],
   "source": [
    "# import pages to scrape from the csv file\n",
    "df = pd.read_csv(\"reports_to_scrape/on_siu_2005_2017.csv\")\n",
    "df.head()"
   ]
  },
  {
   "cell_type": "code",
   "execution_count": 3,
   "id": "7b2f7f2a-b8d6-45dd-bcd2-9483befd6b1f",
   "metadata": {},
   "outputs": [
    {
     "data": {
      "text/plain": [
       "79"
      ]
     },
     "execution_count": 3,
     "metadata": {},
     "output_type": "execute_result"
    }
   ],
   "source": [
    "len(df)"
   ]
  },
  {
   "cell_type": "code",
   "execution_count": 4,
   "id": "9ce92b4a-dbd1-4897-be55-32b5e8f54684",
   "metadata": {},
   "outputs": [],
   "source": [
    "# base url for page is: https://www.ontario.ca/\n",
    "baseurl = \"https://www.ontario.ca\""
   ]
  },
  {
   "cell_type": "code",
   "execution_count": 5,
   "id": "cfd8d41a-4bd7-41bd-99bf-0aeda77b186f",
   "metadata": {},
   "outputs": [],
   "source": [
    "# get the link from the case number part of the df\n",
    "\n",
    "cases = df[\"Case number\"].tolist()\n",
    "index = 0\n",
    "for case in cases:\n",
    "    # print(case)\n",
    "\n",
    "    soup = BeautifulSoup(case, \"html.parser\")\n",
    "    link = soup.find(\"a\")['href']\n",
    "\n",
    "    # print(link)\n",
    "    url = baseurl + link\n",
    "    \n",
    "    # scrape the first directors report 17-OFD-379\n",
    "    page = urlopen(url)\n",
    "    html = page.read().decode(\"utf-8\")\n",
    "    soup = BeautifulSoup(html, \"html.parser\")\n",
    "    # print(soup.find(\"title\"))\n",
    "    \n",
    "    # find if the page contains any of the keywords\n",
    "    contains_words = False\n",
    "    keywords = [\"Firearm injuries\", \"Custody injuries\", \"Other injuries/deaths\", \"Vehicle injuries\", \"Use of force\", \n",
    "                \"Unlawful or unnecessary exercise of authority\", \"Unnecessary force\", \"Unnecessary use of force\",\n",
    "                \"Assault\", \"Sexual assault\", \"Harm\", \"Excessive force\", \"Injury\"]\n",
    "\n",
    "    for i in keywords:\n",
    "        results = soup.body.find_all(string=re.compile('.*{0}.*'.format(i)), recursive=True)\n",
    "        # print('Found the word \"{0}\" {1} times\\n'.format(i, len(results)))\n",
    "        if len(results) > 0:\n",
    "            contains_words = True\n",
    "    \n",
    "    if contains_words == False:\n",
    "        df = df.drop(index)\n",
    "    \n",
    "    index += 1"
   ]
  },
  {
   "cell_type": "code",
   "execution_count": 6,
   "id": "68c0e3f5-4ef3-481f-8730-740724618426",
   "metadata": {},
   "outputs": [
    {
     "data": {
      "text/plain": [
       "<bound method NDFrame.head of                                           Case number  \\\n",
       "2   <a href=\"/page/siu-directors-report-case-05-tf...   \n",
       "12  <a href=\"/page/siu-directors-report-case-15-of...   \n",
       "14  <a href=\"/page/siu-directors-report-case-10-pf...   \n",
       "25  <a href=\"/page/siu-directors-report-case-10-of...   \n",
       "32  <a href=\"/page/siu-directors-report-case-11-of...   \n",
       "47  <a href=\"/page/siu-directors-report-case-09-tf...   \n",
       "59  <a href=\"/page/siu-directors-report-case-13-pf...   \n",
       "70  <a href=\"/page/siu-directors-report-case-15-tc...   \n",
       "72  <a href=\"/page/siu-directors-report-case-10-oo...   \n",
       "74  <a href=\"/page/siu-directors-report-case-13-tc...   \n",
       "\n",
       "   Special Investigations Unit incident date  \\\n",
       "2                                 2005-05-27   \n",
       "12                                2015-04-04   \n",
       "14                                2010-05-10   \n",
       "25                                2010-08-25   \n",
       "32                                2011-06-22   \n",
       "47                                2009-12-27   \n",
       "59                                2013-02-07   \n",
       "70                                2015-11-07   \n",
       "72                                2010-01-07   \n",
       "74                                2013-03-17   \n",
       "\n",
       "   Special Investigations Unit published date  \n",
       "2                                  2005-08-25  \n",
       "12                                 2015-11-26  \n",
       "14                                 2010-09-29  \n",
       "25                                 2011-01-11  \n",
       "32                                 2011-10-25  \n",
       "47                                 2010-02-17  \n",
       "59                                 2013-04-25  \n",
       "70                                 2017-03-02  \n",
       "72                                 2010-02-22  \n",
       "74                                 2013-07-29  >"
      ]
     },
     "execution_count": 6,
     "metadata": {},
     "output_type": "execute_result"
    }
   ],
   "source": [
    "df.head"
   ]
  },
  {
   "cell_type": "code",
   "execution_count": 7,
   "id": "f4c84b12-fe01-43c9-8153-76864d3ad2ee",
   "metadata": {},
   "outputs": [
    {
     "data": {
      "text/plain": [
       "10"
      ]
     },
     "execution_count": 7,
     "metadata": {},
     "output_type": "execute_result"
    }
   ],
   "source": [
    "len(df)"
   ]
  },
  {
   "cell_type": "code",
   "execution_count": 8,
   "id": "7ec838e0-b08b-4be8-ba72-5852568e5c2b",
   "metadata": {},
   "outputs": [],
   "source": [
    "df.to_csv(\"reports_to_scrape/on_siu_2005_2017_w_keywords.csv\")"
   ]
  },
  {
   "cell_type": "code",
   "execution_count": null,
   "id": "865d19e0-0911-4081-8393-da7b62fc7ab4",
   "metadata": {},
   "outputs": [],
   "source": []
  }
 ],
 "metadata": {
  "kernelspec": {
   "display_name": "Python 3 (ipykernel)",
   "language": "python",
   "name": "python3"
  },
  "language_info": {
   "codemirror_mode": {
    "name": "ipython",
    "version": 3
   },
   "file_extension": ".py",
   "mimetype": "text/x-python",
   "name": "python",
   "nbconvert_exporter": "python",
   "pygments_lexer": "ipython3",
   "version": "3.9.12"
  }
 },
 "nbformat": 4,
 "nbformat_minor": 5
}
