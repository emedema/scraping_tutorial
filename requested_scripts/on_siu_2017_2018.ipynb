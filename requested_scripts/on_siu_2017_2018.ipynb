{
 "cells": [
  {
   "cell_type": "code",
   "execution_count": 54,
   "id": "192bed8f-237f-4804-9322-6211ff7c0390",
   "metadata": {},
   "outputs": [],
   "source": [
    "# scraping the Ontario SIU Directors Reports from 2017 to 2018\n",
    "# the reports to scrape are in an csv file in reports_to_scrape folder downloaded from their site\n",
    "\n",
    "# import libraries\n",
    "import pandas as pd\n",
    "import numpy as np\n",
    "from urllib.request import Request, urlopen\n",
    "from bs4 import BeautifulSoup\n",
    "import bs4\n",
    "import re\n",
    "from tqdm import tqdm"
   ]
  },
  {
   "cell_type": "code",
   "execution_count": 55,
   "id": "6897b532-310c-471e-bb87-49a717a13225",
   "metadata": {},
   "outputs": [],
   "source": [
    "def get_inner_text(tag):\n",
    "    if isinstance(tag, bs4.element.NavigableString):\n",
    "        return tag\n",
    "    \n",
    "    if len(tag.contents) > 0:\n",
    "        results = []\n",
    "        \n",
    "        for content in tag.contents:\n",
    "            text = get_inner_text(content)\n",
    "            if text is not None:\n",
    "                results.append(text)\n",
    "            \n",
    "        return ''.join(results)\n",
    "    \n",
    "    return tag.string  "
   ]
  },
  {
   "cell_type": "code",
   "execution_count": 56,
   "id": "9342ecdb-ac08-484f-b6b3-7a60b270c0d7",
   "metadata": {},
   "outputs": [
    {
     "data": {
      "text/html": [
       "<div>\n",
       "<style scoped>\n",
       "    .dataframe tbody tr th:only-of-type {\n",
       "        vertical-align: middle;\n",
       "    }\n",
       "\n",
       "    .dataframe tbody tr th {\n",
       "        vertical-align: top;\n",
       "    }\n",
       "\n",
       "    .dataframe thead th {\n",
       "        text-align: right;\n",
       "    }\n",
       "</style>\n",
       "<table border=\"1\" class=\"dataframe\">\n",
       "  <thead>\n",
       "    <tr style=\"text-align: right;\">\n",
       "      <th></th>\n",
       "      <th>Unnamed: 0</th>\n",
       "      <th>Case number</th>\n",
       "      <th>Special Investigations Unit incident date</th>\n",
       "      <th>Special Investigations Unit published date</th>\n",
       "    </tr>\n",
       "  </thead>\n",
       "  <tbody>\n",
       "    <tr>\n",
       "      <th>0</th>\n",
       "      <td>0</td>\n",
       "      <td>&lt;a href=\"/page/siu-directors-report-case-17-of...</td>\n",
       "      <td>2017-12-30</td>\n",
       "      <td>2018-10-05</td>\n",
       "    </tr>\n",
       "    <tr>\n",
       "      <th>1</th>\n",
       "      <td>1</td>\n",
       "      <td>&lt;a href=\"/page/siu-directors-report-case-17-ov...</td>\n",
       "      <td>2017-10-11</td>\n",
       "      <td>2018-10-02</td>\n",
       "    </tr>\n",
       "    <tr>\n",
       "      <th>2</th>\n",
       "      <td>2</td>\n",
       "      <td>&lt;a href=\"/page/siu-directors-report-case-17-tc...</td>\n",
       "      <td>2017-11-08</td>\n",
       "      <td>2018-10-02</td>\n",
       "    </tr>\n",
       "    <tr>\n",
       "      <th>3</th>\n",
       "      <td>3</td>\n",
       "      <td>&lt;a href=\"/page/siu-directors-report-case-17-of...</td>\n",
       "      <td>2017-10-27</td>\n",
       "      <td>2018-09-26</td>\n",
       "    </tr>\n",
       "    <tr>\n",
       "      <th>4</th>\n",
       "      <td>4</td>\n",
       "      <td>&lt;a href=\"/page/siu-directors-report-case-18-pv...</td>\n",
       "      <td>2018-06-09</td>\n",
       "      <td>2018-09-25</td>\n",
       "    </tr>\n",
       "  </tbody>\n",
       "</table>\n",
       "</div>"
      ],
      "text/plain": [
       "   Unnamed: 0                                        Case number  \\\n",
       "0           0  <a href=\"/page/siu-directors-report-case-17-of...   \n",
       "1           1  <a href=\"/page/siu-directors-report-case-17-ov...   \n",
       "2           2  <a href=\"/page/siu-directors-report-case-17-tc...   \n",
       "3           3  <a href=\"/page/siu-directors-report-case-17-of...   \n",
       "4           4  <a href=\"/page/siu-directors-report-case-18-pv...   \n",
       "\n",
       "  Special Investigations Unit incident date  \\\n",
       "0                                2017-12-30   \n",
       "1                                2017-10-11   \n",
       "2                                2017-11-08   \n",
       "3                                2017-10-27   \n",
       "4                                2018-06-09   \n",
       "\n",
       "  Special Investigations Unit published date  \n",
       "0                                 2018-10-05  \n",
       "1                                 2018-10-02  \n",
       "2                                 2018-10-02  \n",
       "3                                 2018-09-26  \n",
       "4                                 2018-09-25  "
      ]
     },
     "execution_count": 56,
     "metadata": {},
     "output_type": "execute_result"
    }
   ],
   "source": [
    "# import pages to scrape from the csv file\n",
    "df = pd.read_csv(\"reports_to_scrape/on_siu_2018_w_keywords.csv\")\n",
    "df.head()"
   ]
  },
  {
   "cell_type": "code",
   "execution_count": 57,
   "id": "a36109e4-37ba-47f0-90af-e2d95755a56c",
   "metadata": {},
   "outputs": [],
   "source": [
    "# base url for page is: https://www.ontario.ca/\n",
    "baseurl = \"https://www.ontario.ca\""
   ]
  },
  {
   "cell_type": "code",
   "execution_count": 58,
   "id": "3ca0b41e-cbff-42e4-a723-8a7c4653e15f",
   "metadata": {},
   "outputs": [
    {
     "name": "stdout",
     "output_type": "stream",
     "text": [
      "<a href=\"/page/siu-directors-report-case-18-pvi-175\">18-PVI-175</a>\n",
      "/page/siu-directors-report-case-18-pvi-175\n"
     ]
    }
   ],
   "source": [
    "# get the link from the case number part of the df\n",
    "\n",
    "cases = df[\"Case number\"].tolist()\n",
    "print(cases[4])\n",
    "\n",
    "soup = BeautifulSoup(cases[4], \"html.parser\")\n",
    "link = soup.find(\"a\")['href']\n",
    "\n",
    "print(link)"
   ]
  },
  {
   "cell_type": "code",
   "execution_count": 59,
   "id": "8f9c2c7a-48e0-43b7-a00c-559575fbb52b",
   "metadata": {},
   "outputs": [
    {
     "data": {
      "text/plain": [
       "'https://www.ontario.ca/page/siu-directors-report-case-18-pvi-175'"
      ]
     },
     "execution_count": 59,
     "metadata": {},
     "output_type": "execute_result"
    }
   ],
   "source": [
    "url = baseurl + link\n",
    "url"
   ]
  },
  {
   "cell_type": "code",
   "execution_count": 60,
   "id": "f5904b27-8915-4f21-b294-36e3e07bb991",
   "metadata": {},
   "outputs": [
    {
     "name": "stdout",
     "output_type": "stream",
     "text": [
      "<title>SIU Director’s Report - Case # 18-PVI-175 | ontario.ca</title>\n"
     ]
    }
   ],
   "source": [
    "# scrape the first directors report 17-OFD-379\n",
    "\n",
    "hdr = {'User-Agent': 'Mozilla/5.0'}\n",
    "req = Request(url,headers=hdr)\n",
    "page = urlopen(req)\n",
    "html = page.read().decode(\"utf-8\")\n",
    "soup = BeautifulSoup(html, \"html.parser\")\n",
    "print(soup.find(\"title\"))"
   ]
  },
  {
   "cell_type": "code",
   "execution_count": 61,
   "id": "f7182c9e-dee3-401e-993b-e4382e9d0ed0",
   "metadata": {},
   "outputs": [
    {
     "data": {
      "text/plain": [
       "'On June\\xa010,\\xa02018, at 12:29\\xa0a.m., the Ontario Provincial Police (OPP) reported the vehicle injury of the Complainant.'"
      ]
     },
     "execution_count": 61,
     "metadata": {},
     "output_type": "execute_result"
    }
   ],
   "source": [
    "# Information we are looking for:\n",
    "# Province, city, police service, officer name, year, consequences for civilians (injuries), \n",
    "# consequences, if any, for officers (fine, dismissal, none, etc.), \n",
    "# investigation outcome (charge, acquittal complaint dismissal, etc.), and reason for police call. \n",
    "\n",
    "province = \"Ontario\"\n",
    "\n",
    "# a lot of the information we might be looking for can be found in section 3 of the report\n",
    "text = soup.find_all(\"h3\")[3].next_sibling.get_text()\n",
    "text"
   ]
  },
  {
   "cell_type": "code",
   "execution_count": 62,
   "id": "d1c1d99c-7d98-400d-9c38-226abcb0b191",
   "metadata": {},
   "outputs": [
    {
     "name": "stdout",
     "output_type": "stream",
     "text": [
      "2018\n"
     ]
    }
   ],
   "source": [
    "def find_year(text):\n",
    "    match = re.search(r\"(20\\d{2})\", text)\n",
    "    if match is not None:\n",
    "        return match.group(1)\n",
    "\n",
    "\n",
    "year = find_year(text)\n",
    "print(year)"
   ]
  },
  {
   "cell_type": "code",
   "execution_count": 63,
   "id": "b9f1f23b-09c1-4e17-a067-e5382ef86c64",
   "metadata": {},
   "outputs": [],
   "source": [
    "# list from https://www.oacp.ca/en/about-us/ontario-police-organizations.aspx\n",
    "ontario_police_services = [\n",
    "    'Akwesasne Mohawk Police Service',\n",
    "    'Anishinabek Police Service',\n",
    "    'Aylmer Police Service',\n",
    "    'Barrie Police Service',\n",
    "    'Belleville Police Service',\n",
    "    'Brantford Police Service',\n",
    "    'Brockville Police Service',\n",
    "    'Chatham Kent Police Service',\n",
    "    'City of Kawartha Lakes Police Service',\n",
    "    'Cobourg Police Service',\n",
    "    'Cornwall Police Service',\n",
    "    'Deep River Police Service',\n",
    "    'Dryden Police Service',\n",
    "    'Greater Sudbury Police Service',\n",
    "    'Guelph Police Service',\n",
    "    'Halton Regional Police Service',\n",
    "    'Hamilton Police Service',\n",
    "    'Hanover Police Service',\n",
    "    'Kingston Police',\n",
    "    'Lac Seul Police Service',\n",
    "    'LaSalle Police Service',\n",
    "    'London Police Service',\n",
    "    'Niagara Parks Police',\n",
    "    'Niagara Regional Police Service',\n",
    "    'Nishnawbe-Aski Police Service',\n",
    "    'North Bay Police Service',\n",
    "    'Ontario Provincial Police',\n",
    "    'Owen Sound Police Service',\n",
    "    'Ottawa Police Service',\n",
    "    'Peterborough Police Service',\n",
    "    'Peel Regional Police',\n",
    "    'Port Hope Police Service',\n",
    "    'Rama Police Service',\n",
    "    'Sarnia Police Service',\n",
    "    'Royal Canadian Mounted Police',\n",
    "    'Sault Ste. Marie Police Service',\n",
    "    'Saugeen Shores Police Service',\n",
    "    'Smiths Falls Police Service',\n",
    "    'Six Nations Police Service',\n",
    "    'St. Thomas Police Service',\n",
    "    'Strathroy-Caradoc Police Service',\n",
    "    'South Simcoe Police Service',\n",
    "    'Timmins Police Service',\n",
    "    'Stratford Police Service',\n",
    "    'Thunder Bay Police Service',\n",
    "    'Treaty Three Police Service',\n",
    "    'Toronto Police Service',\n",
    "    'Waterloo Regional Police Service',\n",
    "    'U.C.C.M. Anishnaabe Police',\n",
    "    'Wikwemikong Tribal Police Service',\n",
    "    'West Grey Police Service',\n",
    "    'Woodstock Police Service',\n",
    "    'Windsor Police Service',\n",
    "    'York Regional Police'\n",
    "]"
   ]
  },
  {
   "cell_type": "code",
   "execution_count": 64,
   "id": "f0ff1637-8d2b-4d37-a215-b26a0e90678f",
   "metadata": {},
   "outputs": [],
   "source": [
    "def find_police_service(text):\n",
    "    for service_name in ontario_police_services:\n",
    "        if service_name in text:\n",
    "            return service_name"
   ]
  },
  {
   "cell_type": "code",
   "execution_count": 65,
   "id": "e9532f53-65ff-4bd7-92bd-72703d5d55f5",
   "metadata": {},
   "outputs": [],
   "source": [
    "municipalities_df = pd.read_csv(\"mmah-list-of-ontario-municipalities-en-utf8-2022-10-05.csv\")\n",
    "\n",
    "def get_municipality_name(tag):\n",
    "    a_soup = BeautifulSoup(tag, \"html.parser\")\n",
    "    \n",
    "    if isinstance(a_soup, bs4.element.Tag):\n",
    "        full_name = get_inner_text(a_soup)\n",
    "    else:\n",
    "        full_name = tag\n",
    "        \n",
    "    \n",
    "        \n",
    "    return full_name.split(\", \")[0]\n",
    "    \n",
    "\n",
    "list_of_municipalities_in_ontario = list(municipalities_df[\"Municipality\"].apply(get_municipality_name))"
   ]
  },
  {
   "cell_type": "code",
   "execution_count": 66,
   "id": "9d01a3b0-5826-4502-a931-f4b5e5b90cde",
   "metadata": {},
   "outputs": [],
   "source": [
    "incident_narrative_title = soup.find(\"h2\", string=\"Incident narrative\")"
   ]
  },
  {
   "cell_type": "code",
   "execution_count": 67,
   "id": "da4ec4f7-011e-43d1-af62-ee8e31a1a9c4",
   "metadata": {},
   "outputs": [
    {
     "name": "stdout",
     "output_type": "stream",
     "text": [
      "[<p>On June 9, 2018, at around 10:00 p.m., the Complainant and the <abbr title=\"Subject Officer\">SO</abbr> were involved in a motor vehicle collision at the intersection of Bruce County Road 3 and Bruce County Road 2 near Walkerton. The Complainant was operating a motorcycle northbound on Bruce County Road 3. The <abbr title=\"Subject Officer\">SO</abbr> was driving southbound on Bruce County Road 3 and made a sudden left hand turn towards Bruce County Road 2 – travelling into the path of the Complainant. The Complainant was travelling at a speed slightly over the 80 km/h speed limit and was unable to stop. He collided with the side of the <abbr title=\"Subject Officer\">SO</abbr>’s police cruiser, was propelled off his motorcycle and landed in the roadway. As a result of the collision, the Complainant sustained serious injuries. The <abbr title=\"Subject Officer\">SO</abbr> says he did not see the Complainant and takes responsibility for the collision.</p>]\n"
     ]
    }
   ],
   "source": [
    "next_sibling = incident_narrative_title.next_sibling\n",
    "incident_narrative = [next_sibling]\n",
    "\n",
    "while next_sibling.next_sibling.name == \"p\":\n",
    "    next_sibling = next_sibling.next_sibling\n",
    "    incident_narrative.append(next_sibling)\n",
    "    \n",
    "print(incident_narrative)"
   ]
  },
  {
   "cell_type": "code",
   "execution_count": 68,
   "id": "58ccbfe8-052e-4def-981a-2c7ea86af903",
   "metadata": {},
   "outputs": [],
   "source": [
    "def find_city(soup):\n",
    "    incident_narrative_title = soup.find(\"h2\", string=\"Incident narrative\")\n",
    "    \n",
    "    \n",
    "    next_sibling = incident_narrative_title.next_sibling\n",
    "    incident_narratives = [next_sibling]\n",
    "    \n",
    "\n",
    "    while next_sibling.next_sibling.name == \"p\":\n",
    "        next_sibling = next_sibling.next_sibling\n",
    "        incident_narratives.append(next_sibling)\n",
    "        \n",
    "    for p in incident_narratives:\n",
    "        for municipality in list_of_municipalities_in_ontario:\n",
    "            if municipality in get_inner_text(p):\n",
    "                return municipality"
   ]
  },
  {
   "cell_type": "code",
   "execution_count": 69,
   "id": "efa822f9-fed9-487f-9acb-ff268287b88a",
   "metadata": {},
   "outputs": [
    {
     "data": {
      "text/plain": [
       "'Bruce'"
      ]
     },
     "execution_count": 69,
     "metadata": {},
     "output_type": "execute_result"
    }
   ],
   "source": [
    "find_city(soup)"
   ]
  },
  {
   "cell_type": "code",
   "execution_count": 70,
   "id": "0bb23997-980e-4a7d-94cd-415dd4fbfaab",
   "metadata": {},
   "outputs": [
    {
     "name": "stdout",
     "output_type": "stream",
     "text": [
      "On June 10, 2018, at 12:29 a.m., the Ontario Provincial Police (OPP) reported the vehicle injury of the Complainant.\n"
     ]
    },
    {
     "data": {
      "text/plain": [
       "'reported vehicle injury of Complainant'"
      ]
     },
     "execution_count": 70,
     "metadata": {},
     "output_type": "execute_result"
    }
   ],
   "source": [
    "# officer name is not included in accordance with section 21 of FIPPA\n",
    "# moving onto civilian consquences, this can be found in the text we have\n",
    "# apparent its not always consistent where this info is\n",
    "print(text)\n",
    "temp = text.split(\".\")\n",
    "for i in temp:\n",
    "    if police_service in i:\n",
    "        pattern = \"\\).*\"\n",
    "        match_results = re.search(pattern, i, re.IGNORECASE)\n",
    "        civilian_consequences = match_results.group()\n",
    "        civilian_consequences = re.sub(\"\\) \", \"\", civilian_consequences).strip()\n",
    "        civilian_consequences = re.sub(\"the \", \"\", civilian_consequences).strip()\n",
    "civilian_consequences"
   ]
  },
  {
   "cell_type": "code",
   "execution_count": 71,
   "id": "780a5c5e-46b7-44bc-a14a-54d361470b18",
   "metadata": {},
   "outputs": [],
   "source": [
    "# find consequences for officer\n",
    "# personally, I can't find an area of these reports that mention consequences for the officers"
   ]
  },
  {
   "cell_type": "code",
   "execution_count": 72,
   "id": "7db78201-90c1-41ec-ae93-75da1f8a01f2",
   "metadata": {},
   "outputs": [],
   "source": [
    "def find_decision_date(soup):\n",
    "    body = soup.find(\"div\", class_=\"body-field\")\n",
    "    decision_date_element = body.contents[-3]\n",
    "    decision_date = decision_date_element.string\n",
    "    \n",
    "    if decision_date is not None:\n",
    "        decision_date = decision_date.replace(\"\\xa0\", \" \")"
   ]
  },
  {
   "cell_type": "code",
   "execution_count": 73,
   "id": "0f37f94e-fbc6-49bd-91d5-c4ef886513bc",
   "metadata": {},
   "outputs": [],
   "source": [
    "def find_investigation_outcome(soup):\n",
    "    # investigation outcome\n",
    "    # this is found in the director's analysis section/last paragraph of the report\n",
    "    all_h2 = soup.find_all(\"h2\")\n",
    "\n",
    "    \n",
    "    mandate = None\n",
    "    for h2 in all_h2:\n",
    "        if h2.find(text=re.compile(\"Mandate of the\")):\n",
    "            mandate = h2\n",
    "            break\n",
    "            \n",
    "    if mandate is None:\n",
    "        return None\n",
    "    \n",
    "    \n",
    "    \n",
    "    decision_paragraph = mandate.parent.contents[-4]\n",
    "    decision_final_paragraph_text = get_inner_text(decision_paragraph)\n",
    "\n",
    "    return decision_final_paragraph_text"
   ]
  },
  {
   "cell_type": "code",
   "execution_count": 74,
   "id": "2f9b10bf-4959-4f7e-a7e8-0105f626f192",
   "metadata": {},
   "outputs": [
    {
     "data": {
      "text/plain": [
       "'In sum, while it is clear that the SO’s left turn created a risk of danger which had very significant consequencesfootnote 8[8], there is simply insufficient evidence that the SO’s driving meets the high threshold required to find a marked departure from the standard of care. I am therefore unable to form grounds to believe the SO committed a criminal offence in relation to the collision and the file will be closed.'"
      ]
     },
     "execution_count": 74,
     "metadata": {},
     "output_type": "execute_result"
    }
   ],
   "source": [
    "\n",
    "find_investigation_outcome(soup)"
   ]
  },
  {
   "cell_type": "code",
   "execution_count": 75,
   "id": "d875c987-be8d-4698-8dea-b9bf10dbf9a2",
   "metadata": {},
   "outputs": [],
   "source": [
    "# reason for police investigation\n",
    "# not really sure about this one\n"
   ]
  },
  {
   "cell_type": "code",
   "execution_count": 76,
   "id": "0285fe52-a442-4fac-96a8-8d35d32d2a63",
   "metadata": {},
   "outputs": [
    {
     "name": "stderr",
     "output_type": "stream",
     "text": [
      "100%|███████████████████████████████████████████████████████████████████████████████████████████████████████████████████████████████████████████████████████████████████| 290/290 [05:53<00:00,  1.22s/it]\n"
     ]
    }
   ],
   "source": [
    "results = []\n",
    "for case in tqdm(cases):\n",
    "    link_soup = BeautifulSoup(case, \"html.parser\")\n",
    "    link = link_soup.find(\"a\")['href']\n",
    "    url = baseurl + link\n",
    "    \n",
    "    hdr = {'User-Agent': 'Mozilla/5.0'}\n",
    "    req = Request(url,headers=hdr)\n",
    "    page = urlopen(req)\n",
    "    html = page.read().decode(\"utf-8\")\n",
    "    soup = BeautifulSoup(html, \"html.parser\")\n",
    "    \n",
    "    province = \"Ontario\"\n",
    "\n",
    "    # a lot of the information we might be looking for can be found in section 3 of the report\n",
    "    text = soup.find_all(\"h3\")[3].next_sibling.get_text()\n",
    "    \n",
    "    year = find_year(text)\n",
    "    police_service = find_police_service(text)\n",
    "    \n",
    "    city = find_city(soup)\n",
    "    \n",
    "    investigation_outcome = find_investigation_outcome(soup)\n",
    "    \n",
    "    results.append([year, police_service, city, province, investigation_outcome, url])\n",
    "    \n",
    "results_df = pd.DataFrame(results, columns=['Year',  'Police Service', 'City', 'Province', 'Investigation Final Decision', 'Link'])\n",
    "    "
   ]
  },
  {
   "cell_type": "code",
   "execution_count": 77,
   "id": "e3f8468c-d7b5-4f1a-908d-2fac1e8a4222",
   "metadata": {},
   "outputs": [
    {
     "data": {
      "text/html": [
       "<div>\n",
       "<style scoped>\n",
       "    .dataframe tbody tr th:only-of-type {\n",
       "        vertical-align: middle;\n",
       "    }\n",
       "\n",
       "    .dataframe tbody tr th {\n",
       "        vertical-align: top;\n",
       "    }\n",
       "\n",
       "    .dataframe thead th {\n",
       "        text-align: right;\n",
       "    }\n",
       "</style>\n",
       "<table border=\"1\" class=\"dataframe\">\n",
       "  <thead>\n",
       "    <tr style=\"text-align: right;\">\n",
       "      <th></th>\n",
       "      <th>Year</th>\n",
       "      <th>Police Service</th>\n",
       "      <th>City</th>\n",
       "      <th>Province</th>\n",
       "      <th>Investigation Final Decision</th>\n",
       "      <th>Link</th>\n",
       "    </tr>\n",
       "  </thead>\n",
       "  <tbody>\n",
       "    <tr>\n",
       "      <th>0</th>\n",
       "      <td>2017</td>\n",
       "      <td>Peel Regional Police</td>\n",
       "      <td>Mississauga</td>\n",
       "      <td>Ontario</td>\n",
       "      <td>I find, therefore, on this record, that the th...</td>\n",
       "      <td>https://www.ontario.ca/page/siu-directors-repo...</td>\n",
       "    </tr>\n",
       "    <tr>\n",
       "      <th>1</th>\n",
       "      <td>2017</td>\n",
       "      <td>Ottawa Police Service</td>\n",
       "      <td>Ottawa</td>\n",
       "      <td>Ontario</td>\n",
       "      <td>In conclusion, on the evidence before me, I fi...</td>\n",
       "      <td>https://www.ontario.ca/page/siu-directors-repo...</td>\n",
       "    </tr>\n",
       "    <tr>\n",
       "      <th>2</th>\n",
       "      <td>2017</td>\n",
       "      <td>Toronto Police Service</td>\n",
       "      <td>Toronto</td>\n",
       "      <td>Ontario</td>\n",
       "      <td>In conclusion, I find that the evidence is ins...</td>\n",
       "      <td>https://www.ontario.ca/page/siu-directors-repo...</td>\n",
       "    </tr>\n",
       "    <tr>\n",
       "      <th>3</th>\n",
       "      <td>2017</td>\n",
       "      <td>Cobourg Police Service</td>\n",
       "      <td>None</td>\n",
       "      <td>Ontario</td>\n",
       "      <td>criminal law and instead find there are no gro...</td>\n",
       "      <td>https://www.ontario.ca/page/siu-directors-repo...</td>\n",
       "    </tr>\n",
       "    <tr>\n",
       "      <th>4</th>\n",
       "      <td>2018</td>\n",
       "      <td>Ontario Provincial Police</td>\n",
       "      <td>Bruce</td>\n",
       "      <td>Ontario</td>\n",
       "      <td>In sum, while it is clear that the SO’s left t...</td>\n",
       "      <td>https://www.ontario.ca/page/siu-directors-repo...</td>\n",
       "    </tr>\n",
       "  </tbody>\n",
       "</table>\n",
       "</div>"
      ],
      "text/plain": [
       "   Year             Police Service         City Province  \\\n",
       "0  2017       Peel Regional Police  Mississauga  Ontario   \n",
       "1  2017      Ottawa Police Service       Ottawa  Ontario   \n",
       "2  2017     Toronto Police Service      Toronto  Ontario   \n",
       "3  2017     Cobourg Police Service         None  Ontario   \n",
       "4  2018  Ontario Provincial Police        Bruce  Ontario   \n",
       "\n",
       "                        Investigation Final Decision  \\\n",
       "0  I find, therefore, on this record, that the th...   \n",
       "1  In conclusion, on the evidence before me, I fi...   \n",
       "2  In conclusion, I find that the evidence is ins...   \n",
       "3  criminal law and instead find there are no gro...   \n",
       "4  In sum, while it is clear that the SO’s left t...   \n",
       "\n",
       "                                                Link  \n",
       "0  https://www.ontario.ca/page/siu-directors-repo...  \n",
       "1  https://www.ontario.ca/page/siu-directors-repo...  \n",
       "2  https://www.ontario.ca/page/siu-directors-repo...  \n",
       "3  https://www.ontario.ca/page/siu-directors-repo...  \n",
       "4  https://www.ontario.ca/page/siu-directors-repo...  "
      ]
     },
     "execution_count": 77,
     "metadata": {},
     "output_type": "execute_result"
    }
   ],
   "source": [
    "results_df.head()"
   ]
  },
  {
   "cell_type": "code",
   "execution_count": 78,
   "id": "9d48c903-6cf7-40e2-a2ed-478106d04a14",
   "metadata": {},
   "outputs": [
    {
     "ename": "PermissionError",
     "evalue": "[Errno 13] Permission denied: 'results_on_2018.csv'",
     "output_type": "error",
     "traceback": [
      "\u001b[1;31m---------------------------------------------------------------------------\u001b[0m",
      "\u001b[1;31mPermissionError\u001b[0m                           Traceback (most recent call last)",
      "Input \u001b[1;32mIn [78]\u001b[0m, in \u001b[0;36m<module>\u001b[1;34m\u001b[0m\n\u001b[1;32m----> 1\u001b[0m \u001b[43mresults_df\u001b[49m\u001b[38;5;241;43m.\u001b[39;49m\u001b[43mto_csv\u001b[49m\u001b[43m(\u001b[49m\u001b[38;5;124;43m\"\u001b[39;49m\u001b[38;5;124;43mresults_on_2018.csv\u001b[39;49m\u001b[38;5;124;43m\"\u001b[39;49m\u001b[43m,\u001b[49m\u001b[43m \u001b[49m\u001b[43mindex\u001b[49m\u001b[38;5;241;43m=\u001b[39;49m\u001b[38;5;28;43;01mFalse\u001b[39;49;00m\u001b[43m)\u001b[49m\n",
      "File \u001b[1;32mc:\\users\\rohan\\appdata\\local\\programs\\python\\python39\\lib\\site-packages\\pandas\\core\\generic.py:3551\u001b[0m, in \u001b[0;36mNDFrame.to_csv\u001b[1;34m(self, path_or_buf, sep, na_rep, float_format, columns, header, index, index_label, mode, encoding, compression, quoting, quotechar, line_terminator, chunksize, date_format, doublequote, escapechar, decimal, errors, storage_options)\u001b[0m\n\u001b[0;32m   3540\u001b[0m df \u001b[38;5;241m=\u001b[39m \u001b[38;5;28mself\u001b[39m \u001b[38;5;28;01mif\u001b[39;00m \u001b[38;5;28misinstance\u001b[39m(\u001b[38;5;28mself\u001b[39m, ABCDataFrame) \u001b[38;5;28;01melse\u001b[39;00m \u001b[38;5;28mself\u001b[39m\u001b[38;5;241m.\u001b[39mto_frame()\n\u001b[0;32m   3542\u001b[0m formatter \u001b[38;5;241m=\u001b[39m DataFrameFormatter(\n\u001b[0;32m   3543\u001b[0m     frame\u001b[38;5;241m=\u001b[39mdf,\n\u001b[0;32m   3544\u001b[0m     header\u001b[38;5;241m=\u001b[39mheader,\n\u001b[1;32m   (...)\u001b[0m\n\u001b[0;32m   3548\u001b[0m     decimal\u001b[38;5;241m=\u001b[39mdecimal,\n\u001b[0;32m   3549\u001b[0m )\n\u001b[1;32m-> 3551\u001b[0m \u001b[38;5;28;01mreturn\u001b[39;00m \u001b[43mDataFrameRenderer\u001b[49m\u001b[43m(\u001b[49m\u001b[43mformatter\u001b[49m\u001b[43m)\u001b[49m\u001b[38;5;241;43m.\u001b[39;49m\u001b[43mto_csv\u001b[49m\u001b[43m(\u001b[49m\n\u001b[0;32m   3552\u001b[0m \u001b[43m    \u001b[49m\u001b[43mpath_or_buf\u001b[49m\u001b[43m,\u001b[49m\n\u001b[0;32m   3553\u001b[0m \u001b[43m    \u001b[49m\u001b[43mline_terminator\u001b[49m\u001b[38;5;241;43m=\u001b[39;49m\u001b[43mline_terminator\u001b[49m\u001b[43m,\u001b[49m\n\u001b[0;32m   3554\u001b[0m \u001b[43m    \u001b[49m\u001b[43msep\u001b[49m\u001b[38;5;241;43m=\u001b[39;49m\u001b[43msep\u001b[49m\u001b[43m,\u001b[49m\n\u001b[0;32m   3555\u001b[0m \u001b[43m    \u001b[49m\u001b[43mencoding\u001b[49m\u001b[38;5;241;43m=\u001b[39;49m\u001b[43mencoding\u001b[49m\u001b[43m,\u001b[49m\n\u001b[0;32m   3556\u001b[0m \u001b[43m    \u001b[49m\u001b[43merrors\u001b[49m\u001b[38;5;241;43m=\u001b[39;49m\u001b[43merrors\u001b[49m\u001b[43m,\u001b[49m\n\u001b[0;32m   3557\u001b[0m \u001b[43m    \u001b[49m\u001b[43mcompression\u001b[49m\u001b[38;5;241;43m=\u001b[39;49m\u001b[43mcompression\u001b[49m\u001b[43m,\u001b[49m\n\u001b[0;32m   3558\u001b[0m \u001b[43m    \u001b[49m\u001b[43mquoting\u001b[49m\u001b[38;5;241;43m=\u001b[39;49m\u001b[43mquoting\u001b[49m\u001b[43m,\u001b[49m\n\u001b[0;32m   3559\u001b[0m \u001b[43m    \u001b[49m\u001b[43mcolumns\u001b[49m\u001b[38;5;241;43m=\u001b[39;49m\u001b[43mcolumns\u001b[49m\u001b[43m,\u001b[49m\n\u001b[0;32m   3560\u001b[0m \u001b[43m    \u001b[49m\u001b[43mindex_label\u001b[49m\u001b[38;5;241;43m=\u001b[39;49m\u001b[43mindex_label\u001b[49m\u001b[43m,\u001b[49m\n\u001b[0;32m   3561\u001b[0m \u001b[43m    \u001b[49m\u001b[43mmode\u001b[49m\u001b[38;5;241;43m=\u001b[39;49m\u001b[43mmode\u001b[49m\u001b[43m,\u001b[49m\n\u001b[0;32m   3562\u001b[0m \u001b[43m    \u001b[49m\u001b[43mchunksize\u001b[49m\u001b[38;5;241;43m=\u001b[39;49m\u001b[43mchunksize\u001b[49m\u001b[43m,\u001b[49m\n\u001b[0;32m   3563\u001b[0m \u001b[43m    \u001b[49m\u001b[43mquotechar\u001b[49m\u001b[38;5;241;43m=\u001b[39;49m\u001b[43mquotechar\u001b[49m\u001b[43m,\u001b[49m\n\u001b[0;32m   3564\u001b[0m \u001b[43m    \u001b[49m\u001b[43mdate_format\u001b[49m\u001b[38;5;241;43m=\u001b[39;49m\u001b[43mdate_format\u001b[49m\u001b[43m,\u001b[49m\n\u001b[0;32m   3565\u001b[0m \u001b[43m    \u001b[49m\u001b[43mdoublequote\u001b[49m\u001b[38;5;241;43m=\u001b[39;49m\u001b[43mdoublequote\u001b[49m\u001b[43m,\u001b[49m\n\u001b[0;32m   3566\u001b[0m \u001b[43m    \u001b[49m\u001b[43mescapechar\u001b[49m\u001b[38;5;241;43m=\u001b[39;49m\u001b[43mescapechar\u001b[49m\u001b[43m,\u001b[49m\n\u001b[0;32m   3567\u001b[0m \u001b[43m    \u001b[49m\u001b[43mstorage_options\u001b[49m\u001b[38;5;241;43m=\u001b[39;49m\u001b[43mstorage_options\u001b[49m\u001b[43m,\u001b[49m\n\u001b[0;32m   3568\u001b[0m \u001b[43m\u001b[49m\u001b[43m)\u001b[49m\n",
      "File \u001b[1;32mc:\\users\\rohan\\appdata\\local\\programs\\python\\python39\\lib\\site-packages\\pandas\\io\\formats\\format.py:1180\u001b[0m, in \u001b[0;36mDataFrameRenderer.to_csv\u001b[1;34m(self, path_or_buf, encoding, sep, columns, index_label, mode, compression, quoting, quotechar, line_terminator, chunksize, date_format, doublequote, escapechar, errors, storage_options)\u001b[0m\n\u001b[0;32m   1159\u001b[0m     created_buffer \u001b[38;5;241m=\u001b[39m \u001b[38;5;28;01mFalse\u001b[39;00m\n\u001b[0;32m   1161\u001b[0m csv_formatter \u001b[38;5;241m=\u001b[39m CSVFormatter(\n\u001b[0;32m   1162\u001b[0m     path_or_buf\u001b[38;5;241m=\u001b[39mpath_or_buf,\n\u001b[0;32m   1163\u001b[0m     line_terminator\u001b[38;5;241m=\u001b[39mline_terminator,\n\u001b[1;32m   (...)\u001b[0m\n\u001b[0;32m   1178\u001b[0m     formatter\u001b[38;5;241m=\u001b[39m\u001b[38;5;28mself\u001b[39m\u001b[38;5;241m.\u001b[39mfmt,\n\u001b[0;32m   1179\u001b[0m )\n\u001b[1;32m-> 1180\u001b[0m \u001b[43mcsv_formatter\u001b[49m\u001b[38;5;241;43m.\u001b[39;49m\u001b[43msave\u001b[49m\u001b[43m(\u001b[49m\u001b[43m)\u001b[49m\n\u001b[0;32m   1182\u001b[0m \u001b[38;5;28;01mif\u001b[39;00m created_buffer:\n\u001b[0;32m   1183\u001b[0m     \u001b[38;5;28;01massert\u001b[39;00m \u001b[38;5;28misinstance\u001b[39m(path_or_buf, StringIO)\n",
      "File \u001b[1;32mc:\\users\\rohan\\appdata\\local\\programs\\python\\python39\\lib\\site-packages\\pandas\\io\\formats\\csvs.py:241\u001b[0m, in \u001b[0;36mCSVFormatter.save\u001b[1;34m(self)\u001b[0m\n\u001b[0;32m    237\u001b[0m \u001b[38;5;124;03m\"\"\"\u001b[39;00m\n\u001b[0;32m    238\u001b[0m \u001b[38;5;124;03mCreate the writer & save.\u001b[39;00m\n\u001b[0;32m    239\u001b[0m \u001b[38;5;124;03m\"\"\"\u001b[39;00m\n\u001b[0;32m    240\u001b[0m \u001b[38;5;66;03m# apply compression and byte/text conversion\u001b[39;00m\n\u001b[1;32m--> 241\u001b[0m \u001b[38;5;28;01mwith\u001b[39;00m \u001b[43mget_handle\u001b[49m\u001b[43m(\u001b[49m\n\u001b[0;32m    242\u001b[0m \u001b[43m    \u001b[49m\u001b[38;5;28;43mself\u001b[39;49m\u001b[38;5;241;43m.\u001b[39;49m\u001b[43mfilepath_or_buffer\u001b[49m\u001b[43m,\u001b[49m\n\u001b[0;32m    243\u001b[0m \u001b[43m    \u001b[49m\u001b[38;5;28;43mself\u001b[39;49m\u001b[38;5;241;43m.\u001b[39;49m\u001b[43mmode\u001b[49m\u001b[43m,\u001b[49m\n\u001b[0;32m    244\u001b[0m \u001b[43m    \u001b[49m\u001b[43mencoding\u001b[49m\u001b[38;5;241;43m=\u001b[39;49m\u001b[38;5;28;43mself\u001b[39;49m\u001b[38;5;241;43m.\u001b[39;49m\u001b[43mencoding\u001b[49m\u001b[43m,\u001b[49m\n\u001b[0;32m    245\u001b[0m \u001b[43m    \u001b[49m\u001b[43merrors\u001b[49m\u001b[38;5;241;43m=\u001b[39;49m\u001b[38;5;28;43mself\u001b[39;49m\u001b[38;5;241;43m.\u001b[39;49m\u001b[43merrors\u001b[49m\u001b[43m,\u001b[49m\n\u001b[0;32m    246\u001b[0m \u001b[43m    \u001b[49m\u001b[43mcompression\u001b[49m\u001b[38;5;241;43m=\u001b[39;49m\u001b[38;5;28;43mself\u001b[39;49m\u001b[38;5;241;43m.\u001b[39;49m\u001b[43mcompression\u001b[49m\u001b[43m,\u001b[49m\n\u001b[0;32m    247\u001b[0m \u001b[43m    \u001b[49m\u001b[43mstorage_options\u001b[49m\u001b[38;5;241;43m=\u001b[39;49m\u001b[38;5;28;43mself\u001b[39;49m\u001b[38;5;241;43m.\u001b[39;49m\u001b[43mstorage_options\u001b[49m\u001b[43m,\u001b[49m\n\u001b[0;32m    248\u001b[0m \u001b[43m\u001b[49m\u001b[43m)\u001b[49m \u001b[38;5;28;01mas\u001b[39;00m handles:\n\u001b[0;32m    249\u001b[0m \n\u001b[0;32m    250\u001b[0m     \u001b[38;5;66;03m# Note: self.encoding is irrelevant here\u001b[39;00m\n\u001b[0;32m    251\u001b[0m     \u001b[38;5;28mself\u001b[39m\u001b[38;5;241m.\u001b[39mwriter \u001b[38;5;241m=\u001b[39m csvlib\u001b[38;5;241m.\u001b[39mwriter(\n\u001b[0;32m    252\u001b[0m         handles\u001b[38;5;241m.\u001b[39mhandle,\n\u001b[0;32m    253\u001b[0m         lineterminator\u001b[38;5;241m=\u001b[39m\u001b[38;5;28mself\u001b[39m\u001b[38;5;241m.\u001b[39mline_terminator,\n\u001b[1;32m   (...)\u001b[0m\n\u001b[0;32m    258\u001b[0m         quotechar\u001b[38;5;241m=\u001b[39m\u001b[38;5;28mself\u001b[39m\u001b[38;5;241m.\u001b[39mquotechar,\n\u001b[0;32m    259\u001b[0m     )\n\u001b[0;32m    261\u001b[0m     \u001b[38;5;28mself\u001b[39m\u001b[38;5;241m.\u001b[39m_save()\n",
      "File \u001b[1;32mc:\\users\\rohan\\appdata\\local\\programs\\python\\python39\\lib\\site-packages\\pandas\\io\\common.py:786\u001b[0m, in \u001b[0;36mget_handle\u001b[1;34m(path_or_buf, mode, encoding, compression, memory_map, is_text, errors, storage_options)\u001b[0m\n\u001b[0;32m    781\u001b[0m \u001b[38;5;28;01melif\u001b[39;00m \u001b[38;5;28misinstance\u001b[39m(handle, \u001b[38;5;28mstr\u001b[39m):\n\u001b[0;32m    782\u001b[0m     \u001b[38;5;66;03m# Check whether the filename is to be opened in binary mode.\u001b[39;00m\n\u001b[0;32m    783\u001b[0m     \u001b[38;5;66;03m# Binary mode does not support 'encoding' and 'newline'.\u001b[39;00m\n\u001b[0;32m    784\u001b[0m     \u001b[38;5;28;01mif\u001b[39;00m ioargs\u001b[38;5;241m.\u001b[39mencoding \u001b[38;5;129;01mand\u001b[39;00m \u001b[38;5;124m\"\u001b[39m\u001b[38;5;124mb\u001b[39m\u001b[38;5;124m\"\u001b[39m \u001b[38;5;129;01mnot\u001b[39;00m \u001b[38;5;129;01min\u001b[39;00m ioargs\u001b[38;5;241m.\u001b[39mmode:\n\u001b[0;32m    785\u001b[0m         \u001b[38;5;66;03m# Encoding\u001b[39;00m\n\u001b[1;32m--> 786\u001b[0m         handle \u001b[38;5;241m=\u001b[39m \u001b[38;5;28;43mopen\u001b[39;49m\u001b[43m(\u001b[49m\n\u001b[0;32m    787\u001b[0m \u001b[43m            \u001b[49m\u001b[43mhandle\u001b[49m\u001b[43m,\u001b[49m\n\u001b[0;32m    788\u001b[0m \u001b[43m            \u001b[49m\u001b[43mioargs\u001b[49m\u001b[38;5;241;43m.\u001b[39;49m\u001b[43mmode\u001b[49m\u001b[43m,\u001b[49m\n\u001b[0;32m    789\u001b[0m \u001b[43m            \u001b[49m\u001b[43mencoding\u001b[49m\u001b[38;5;241;43m=\u001b[39;49m\u001b[43mioargs\u001b[49m\u001b[38;5;241;43m.\u001b[39;49m\u001b[43mencoding\u001b[49m\u001b[43m,\u001b[49m\n\u001b[0;32m    790\u001b[0m \u001b[43m            \u001b[49m\u001b[43merrors\u001b[49m\u001b[38;5;241;43m=\u001b[39;49m\u001b[43merrors\u001b[49m\u001b[43m,\u001b[49m\n\u001b[0;32m    791\u001b[0m \u001b[43m            \u001b[49m\u001b[43mnewline\u001b[49m\u001b[38;5;241;43m=\u001b[39;49m\u001b[38;5;124;43m\"\u001b[39;49m\u001b[38;5;124;43m\"\u001b[39;49m\u001b[43m,\u001b[49m\n\u001b[0;32m    792\u001b[0m \u001b[43m        \u001b[49m\u001b[43m)\u001b[49m\n\u001b[0;32m    793\u001b[0m     \u001b[38;5;28;01melse\u001b[39;00m:\n\u001b[0;32m    794\u001b[0m         \u001b[38;5;66;03m# Binary mode\u001b[39;00m\n\u001b[0;32m    795\u001b[0m         handle \u001b[38;5;241m=\u001b[39m \u001b[38;5;28mopen\u001b[39m(handle, ioargs\u001b[38;5;241m.\u001b[39mmode)\n",
      "\u001b[1;31mPermissionError\u001b[0m: [Errno 13] Permission denied: 'results_on_2018.csv'"
     ]
    }
   ],
   "source": [
    "results_df.to_csv(\"results_on_2018.csv\", index=False)"
   ]
  },
  {
   "cell_type": "code",
   "execution_count": null,
   "id": "06cc43fb-27b7-459e-9678-4888a0941266",
   "metadata": {},
   "outputs": [],
   "source": []
  }
 ],
 "metadata": {
  "kernelspec": {
   "display_name": "Python 3 (ipykernel)",
   "language": "python",
   "name": "python3"
  },
  "language_info": {
   "codemirror_mode": {
    "name": "ipython",
    "version": 3
   },
   "file_extension": ".py",
   "mimetype": "text/x-python",
   "name": "python",
   "nbconvert_exporter": "python",
   "pygments_lexer": "ipython3",
   "version": "3.9.5"
  }
 },
 "nbformat": 4,
 "nbformat_minor": 5
}
