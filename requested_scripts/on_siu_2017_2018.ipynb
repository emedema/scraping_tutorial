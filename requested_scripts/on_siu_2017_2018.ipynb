{
    "cells": [
        {
            "cell_type": "code",
            "execution_count": 168,
            "id": "192bed8f-237f-4804-9322-6211ff7c0390",
            "metadata": {},
            "outputs": [],
            "source": [
                "# scraping the Ontario SIU Directors Reports from 2017 to 2018\n",
                "# the reports to scrape are in an csv file in reports_to_scrape folder downloaded from their site\n",
                "\n",
                "# import libraries\n",
                "import pandas as pd\n",
                "import numpy as np\n",
                "from urllib.request import Request, urlopen\n",
                "from bs4 import BeautifulSoup\n",
                "import re\n",
                "from tqdm import tqdm"
            ]
        },
        {
            "cell_type": "code",
            "execution_count": 4,
            "id": "9342ecdb-ac08-484f-b6b3-7a60b270c0d7",
            "metadata": {},
            "outputs": [
                {
                    "data": {
                        "text/html": [
                            "<div>\n",
                            "<style scoped>\n",
                            "    .dataframe tbody tr th:only-of-type {\n",
                            "        vertical-align: middle;\n",
                            "    }\n",
                            "\n",
                            "    .dataframe tbody tr th {\n",
                            "        vertical-align: top;\n",
                            "    }\n",
                            "\n",
                            "    .dataframe thead th {\n",
                            "        text-align: right;\n",
                            "    }\n",
                            "</style>\n",
                            "<table border=\"1\" class=\"dataframe\">\n",
                            "  <thead>\n",
                            "    <tr style=\"text-align: right;\">\n",
                            "      <th></th>\n",
                            "      <th>Unnamed: 0</th>\n",
                            "      <th>Case number</th>\n",
                            "      <th>Special Investigations Unit incident date</th>\n",
                            "      <th>Special Investigations Unit published date</th>\n",
                            "    </tr>\n",
                            "  </thead>\n",
                            "  <tbody>\n",
                            "    <tr>\n",
                            "      <th>0</th>\n",
                            "      <td>0</td>\n",
                            "      <td>&lt;a href=\"/page/siu-directors-report-case-17-of...</td>\n",
                            "      <td>2017-12-30</td>\n",
                            "      <td>2018-10-05</td>\n",
                            "    </tr>\n",
                            "    <tr>\n",
                            "      <th>1</th>\n",
                            "      <td>1</td>\n",
                            "      <td>&lt;a href=\"/page/siu-directors-report-case-17-ov...</td>\n",
                            "      <td>2017-10-11</td>\n",
                            "      <td>2018-10-02</td>\n",
                            "    </tr>\n",
                            "    <tr>\n",
                            "      <th>2</th>\n",
                            "      <td>2</td>\n",
                            "      <td>&lt;a href=\"/page/siu-directors-report-case-17-tc...</td>\n",
                            "      <td>2017-11-08</td>\n",
                            "      <td>2018-10-02</td>\n",
                            "    </tr>\n",
                            "    <tr>\n",
                            "      <th>3</th>\n",
                            "      <td>3</td>\n",
                            "      <td>&lt;a href=\"/page/siu-directors-report-case-17-of...</td>\n",
                            "      <td>2017-10-27</td>\n",
                            "      <td>2018-09-26</td>\n",
                            "    </tr>\n",
                            "    <tr>\n",
                            "      <th>4</th>\n",
                            "      <td>4</td>\n",
                            "      <td>&lt;a href=\"/page/siu-directors-report-case-18-pv...</td>\n",
                            "      <td>2018-06-09</td>\n",
                            "      <td>2018-09-25</td>\n",
                            "    </tr>\n",
                            "  </tbody>\n",
                            "</table>\n",
                            "</div>"
                        ],
                        "text/plain": [
                            "   Unnamed: 0                                        Case number  \\\n",
                            "0           0  <a href=\"/page/siu-directors-report-case-17-of...   \n",
                            "1           1  <a href=\"/page/siu-directors-report-case-17-ov...   \n",
                            "2           2  <a href=\"/page/siu-directors-report-case-17-tc...   \n",
                            "3           3  <a href=\"/page/siu-directors-report-case-17-of...   \n",
                            "4           4  <a href=\"/page/siu-directors-report-case-18-pv...   \n",
                            "\n",
                            "  Special Investigations Unit incident date  \\\n",
                            "0                                2017-12-30   \n",
                            "1                                2017-10-11   \n",
                            "2                                2017-11-08   \n",
                            "3                                2017-10-27   \n",
                            "4                                2018-06-09   \n",
                            "\n",
                            "  Special Investigations Unit published date  \n",
                            "0                                 2018-10-05  \n",
                            "1                                 2018-10-02  \n",
                            "2                                 2018-10-02  \n",
                            "3                                 2018-09-26  \n",
                            "4                                 2018-09-25  "
                        ]
                    },
                    "execution_count": 4,
                    "metadata": {},
                    "output_type": "execute_result"
                }
            ],
            "source": [
                "# import pages to scrape from the csv file\n",
                "df = pd.read_csv(\"reports_to_scrape/on_siu_2018_w_keywords.csv\")\n",
                "df.head()"
            ]
        },
        {
            "cell_type": "code",
            "execution_count": 5,
            "id": "a36109e4-37ba-47f0-90af-e2d95755a56c",
            "metadata": {},
            "outputs": [],
            "source": [
                "# base url for page is: https://www.ontario.ca/\n",
                "baseurl = \"https://www.ontario.ca\""
            ]
        },
        {
            "cell_type": "code",
            "execution_count": 179,
            "id": "3ca0b41e-cbff-42e4-a723-8a7c4653e15f",
            "metadata": {},
            "outputs": [
                {
                    "name": "stdout",
                    "output_type": "stream",
                    "text": [
                        "<a href=\"/page/siu-directors-report-case-18-pvi-175\">18-PVI-175</a>\n",
                        "/page/siu-directors-report-case-18-pvi-175\n"
                    ]
                }
            ],
            "source": [
                "# get the link from the case number part of the df\n",
                "\n",
                "cases = df[\"Case number\"].tolist()\n",
                "print(cases[4])\n",
                "\n",
                "soup = BeautifulSoup(cases[4], \"html.parser\")\n",
                "link = soup.find(\"a\")['href']\n",
                "\n",
                "print(link)"
            ]
        },
        {
            "cell_type": "code",
            "execution_count": 180,
            "id": "8f9c2c7a-48e0-43b7-a00c-559575fbb52b",
            "metadata": {},
            "outputs": [
                {
                    "data": {
                        "text/plain": [
                            "'https://www.ontario.ca/page/siu-directors-report-case-18-pvi-175'"
                        ]
                    },
                    "execution_count": 180,
                    "metadata": {},
                    "output_type": "execute_result"
                }
            ],
            "source": [
                "url = baseurl + link\n",
                "url"
            ]
        },
        {
            "cell_type": "code",
            "execution_count": 181,
            "id": "f5904b27-8915-4f21-b294-36e3e07bb991",
            "metadata": {},
            "outputs": [
                {
                    "name": "stdout",
                    "output_type": "stream",
                    "text": [
                        "<title>SIU Director’s Report - Case # 18-PVI-175 | ontario.ca</title>\n"
                    ]
                }
            ],
            "source": [
                "# scrape the first directors report 17-OFD-379\n",
                "\n",
                "hdr = {'User-Agent': 'Mozilla/5.0'}\n",
                "req = Request(url,headers=hdr)\n",
                "page = urlopen(req)\n",
                "html = page.read().decode(\"utf-8\")\n",
                "soup = BeautifulSoup(html, \"html.parser\")\n",
                "print(soup.find(\"title\"))"
            ]
        },
        {
            "cell_type": "code",
            "execution_count": 182,
            "id": "f7182c9e-dee3-401e-993b-e4382e9d0ed0",
            "metadata": {},
            "outputs": [
                {
                    "data": {
                        "text/plain": [
                            "'On June\\xa010,\\xa02018, at 12:29\\xa0a.m., the Ontario Provincial Police (OPP) reported the vehicle injury of the Complainant.'"
                        ]
                    },
                    "execution_count": 182,
                    "metadata": {},
                    "output_type": "execute_result"
                }
            ],
            "source": [
                "# Information we are looking for:\n",
                "# Province, city, police service, officer name, year, consequences for civilians (injuries), \n",
                "# consequences, if any, for officers (fine, dismissal, none, etc.), \n",
                "# investigation outcome (charge, acquittal complaint dismissal, etc.), and reason for police call. \n",
                "\n",
                "province = \"Ontario\"\n",
                "\n",
                "# a lot of the information we might be looking for can be found in section 3 of the report\n",
                "text = soup.find_all(\"h3\")[3].next_sibling.get_text()\n",
                "text"
            ]
        },
        {
            "cell_type": "code",
            "execution_count": 164,
            "id": "d1c1d99c-7d98-400d-9c38-226abcb0b191",
            "metadata": {},
            "outputs": [
                {
                    "name": "stdout",
                    "output_type": "stream",
                    "text": [
                        "2018\n"
                    ]
                }
            ],
            "source": [
                "def find_year(text):\n",
                "    match = re.search(r\"(20\\d{2})\", text)\n",
                "    if match is not None:\n",
                "        return match.group(1)\n",
                "\n",
                "\n",
                "year = find_year(text)\n",
                "print(year)"
            ]
        },
        {
            "cell_type": "code",
            "execution_count": 11,
            "id": "b9f1f23b-09c1-4e17-a067-e5382ef86c64",
            "metadata": {},
            "outputs": [
                {
                    "data": {
                        "text/plain": [
                            "'Ontario Provincial Police (OPP)'"
                        ]
                    },
                    "execution_count": 11,
                    "metadata": {},
                    "output_type": "execute_result"
                }
            ],
            "source": [
                "try:\n",
                "    pattern = \"the.*?notified\"\n",
                "    match_results = re.search(pattern, text, re.IGNORECASE)\n",
                "    police_service = match_results.group()\n",
                "    police_service = re.sub(\"the \", \"\", police_service)\n",
                "    police_service = re.sub(\" notified\", \"\", police_service)\n",
                "except:\n",
                "    pattern = \"the.*?reported\"\n",
                "    match_results = re.search(pattern, text, re.IGNORECASE)\n",
                "    police_service = match_results.group()\n",
                "    police_service = re.sub(\"the \", \"\", police_service)\n",
                "    police_service = re.sub(\" reported\", \"\", police_service)\n",
                "police_service"
            ]
        },
        {
            "cell_type": "code",
            "execution_count": 110,
            "id": "e9532f53-65ff-4bd7-92bd-72703d5d55f5",
            "metadata": {},
            "outputs": [],
            "source": [
                "municipalities_df = pd.read_csv(\"mmah-list-of-ontario-municipalities-en-utf8-2022-10-05.csv\")\n",
                "\n",
                "def get_municipality_name(tag):\n",
                "    a_soup = BeautifulSoup(tag, \"html.parser\")\n",
                "    \n",
                "    if isinstance(a_soup, bs4.element.Tag):\n",
                "        full_name = get_inner_text(a_soup)\n",
                "    else:\n",
                "        full_name = tag\n",
                "        \n",
                "    \n",
                "        \n",
                "    return full_name.split(\", \")[0]\n",
                "    \n",
                "\n",
                "list_of_municipalities_in_ontario = list(municipalities_df[\"Municipality\"].apply(get_municipality_name))"
            ]
        },
        {
            "cell_type": "code",
            "execution_count": 124,
            "id": "9d01a3b0-5826-4502-a931-f4b5e5b90cde",
            "metadata": {},
            "outputs": [],
            "source": [
                "incident_narrative_title = soup.find(\"h2\", string=\"Incident narrative\")"
            ]
        },
        {
            "cell_type": "code",
            "execution_count": 128,
            "id": "da4ec4f7-011e-43d1-af62-ee8e31a1a9c4",
            "metadata": {},
            "outputs": [
                {
                    "name": "stdout",
                    "output_type": "stream",
                    "text": [
                        "[<p>On June 9, 2018, at around 10:00 p.m., the Complainant and the <abbr title=\"Subject Officer\">SO</abbr> were involved in a motor vehicle collision at the intersection of Bruce County Road 3 and Bruce County Road 2 near Walkerton. The Complainant was operating a motorcycle northbound on Bruce County Road 3. The <abbr title=\"Subject Officer\">SO</abbr> was driving southbound on Bruce County Road 3 and made a sudden left hand turn towards Bruce County Road 2 – travelling into the path of the Complainant. The Complainant was travelling at a speed slightly over the 80 km/h speed limit and was unable to stop. He collided with the side of the <abbr title=\"Subject Officer\">SO</abbr>’s police cruiser, was propelled off his motorcycle and landed in the roadway. As a result of the collision, the Complainant sustained serious injuries. The <abbr title=\"Subject Officer\">SO</abbr> says he did not see the Complainant and takes responsibility for the collision.</p>]\n"
                    ]
                }
            ],
            "source": [
                "next_sibling = incident_narrative_title.next_sibling\n",
                "incident_narrative = [next_sibling]\n",
                "\n",
                "while next_sibling.next_sibling.name == \"p\":\n",
                "    next_sibling = next_sibling.next_sibling\n",
                "    incident_narrative.append(next_sibling)\n",
                "    \n",
                "print(incident_narrative)"
            ]
        },
        {
            "cell_type": "code",
            "execution_count": 225,
            "id": "58ccbfe8-052e-4def-981a-2c7ea86af903",
            "metadata": {},
            "outputs": [],
            "source": [
                "def find_city(soup):\n",
                "    incident_narrative_title = soup.find(\"h2\", string=\"Incident narrative\")\n",
                "    \n",
                "    \n",
                "    next_sibling = incident_narrative_title.next_sibling\n",
                "    incident_narratives = [next_sibling]\n",
                "    \n",
                "\n",
                "    while next_sibling.next_sibling.name == \"p\":\n",
                "        next_sibling = next_sibling.next_sibling\n",
                "        incident_narratives.append(next_sibling)\n",
                "        \n",
                "    for p in incident_narratives:\n",
                "        for municipality in list_of_municipalities_in_ontario:\n",
                "            if municipality in get_inner_text(p):\n",
                "                return municipality"
            ]
        },
        {
            "cell_type": "code",
            "execution_count": 226,
            "id": "efa822f9-fed9-487f-9acb-ff268287b88a",
            "metadata": {},
            "outputs": [
                {
                    "data": {
                        "text/plain": [
                            "'Hamilton'"
                        ]
                    },
                    "execution_count": 226,
                    "metadata": {},
                    "output_type": "execute_result"
                }
            ],
            "source": [
                "find_city(soup)"
            ]
        },
        {
            "cell_type": "code",
            "execution_count": 139,
            "id": "0bb23997-980e-4a7d-94cd-415dd4fbfaab",
            "metadata": {},
            "outputs": [
                {
                    "name": "stdout",
                    "output_type": "stream",
                    "text": [
                        "On June 10, 2018, at 12:29 a.m., the Ontario Provincial Police (OPP) reported the vehicle injury of the Complainant.\n"
                    ]
                },
                {
                    "data": {
                        "text/plain": [
                            "'reported vehicle injury of Complainant'"
                        ]
                    },
                    "execution_count": 139,
                    "metadata": {},
                    "output_type": "execute_result"
                }
            ],
            "source": [
                "# officer name is not included in accordance with section 21 of FIPPA\n",
                "# moving onto civilian consquences, this can be found in the text we have\n",
                "# apparent its not always consistent where this info is\n",
                "print(text)\n",
                "temp = text.split(\".\")\n",
                "for i in temp:\n",
                "    if police_service in i:\n",
                "        pattern = \"\\).*\"\n",
                "        match_results = re.search(pattern, i, re.IGNORECASE)\n",
                "        civilian_consequences = match_results.group()\n",
                "        civilian_consequences = re.sub(\"\\) \", \"\", civilian_consequences).strip()\n",
                "        civilian_consequences = re.sub(\"the \", \"\", civilian_consequences).strip()\n",
                "civilian_consequences"
            ]
        },
        {
            "cell_type": "code",
            "execution_count": 14,
            "id": "780a5c5e-46b7-44bc-a14a-54d361470b18",
            "metadata": {},
            "outputs": [],
            "source": [
                "# find consequences for officer\n",
                "# personally, I can't find an area of these reports that mention consequences for the officers"
            ]
        },
        {
            "cell_type": "code",
            "execution_count": 166,
            "id": "7db78201-90c1-41ec-ae93-75da1f8a01f2",
            "metadata": {},
            "outputs": [],
            "source": [
                "def find_decision_date(soup):\n",
                "    body = soup.find(\"div\", class_=\"body-field\")\n",
                "    decision_date_element = body.contents[-3]\n",
                "    decision_date = decision_date_element.string\n",
                "    \n",
                "    if decision_date is not None:\n",
                "        decision_date = decision_date.replace(\"\\xa0\", \" \")"
            ]
        },
        {
            "cell_type": "code",
            "execution_count": 210,
            "id": "0f37f94e-fbc6-49bd-91d5-c4ef886513bc",
            "metadata": {},
            "outputs": [],
            "source": [
                "def find_investigation_outcome(soup):\n",
                "    # investigation outcome\n",
                "    # this is found in the director's analysis section/last paragraph of the report\n",
                "    all_h2 = soup.find_all(\"h2\")\n",
                "\n",
                "    \n",
                "    mandate = None\n",
                "    for h2 in all_h2:\n",
                "        if h2.find(text=re.compile(\"Mandate of the\")):\n",
                "            mandate = h2\n",
                "            break\n",
                "            \n",
                "    if mandate is None:\n",
                "        return None\n",
                "    \n",
                "    \n",
                "    \n",
                "    decision_paragraph = mandate.parent.contents[-4]\n",
                "    decision_final_paragraph_text = get_inner_text(decision_paragraph)\n",
                "\n",
                "    return decision_final_paragraph_text"
            ]
        },
        {
            "cell_type": "code",
            "execution_count": 211,
            "id": "2f9b10bf-4959-4f7e-a7e8-0105f626f192",
            "metadata": {},
            "outputs": [
                {
                    "data": {
                        "text/plain": [
                            "'In the final analysis, I am satisfied for the foregoing reasons that the man’s detention and the manner in which it was carried out were lawful notwithstanding the injury which he suffered, even were I to find that the officers caused the injury, which I am not inclined to do. I am, therefore, satisfied on reasonable grounds on this record that the actions exercised by the officers fell within the limits prescribed by the criminal law and there are no grounds for proceeding with charges in this case.'"
                        ]
                    },
                    "execution_count": 211,
                    "metadata": {},
                    "output_type": "execute_result"
                }
            ],
            "source": [
                "\n",
                "find_investigation_outcome(soup)"
            ]
        },
        {
            "cell_type": "code",
            "execution_count": 16,
            "id": "d875c987-be8d-4698-8dea-b9bf10dbf9a2",
            "metadata": {},
            "outputs": [],
            "source": [
                "# reason for police investigation\n",
                "# not really sure about this one\n"
            ]
        },
        {
            "cell_type": "code",
            "execution_count": 227,
            "id": "0285fe52-a442-4fac-96a8-8d35d32d2a63",
            "metadata": {},
            "outputs": [
                {
                    "name": "stderr",
                    "output_type": "stream",
                    "text": [
                        "100%|████████████████████████████████████████████████████████████████████████████████| 290/290 [01:39<00:00,  2.90it/s]\n"
                    ]
                }
            ],
            "source": [
                "results = []\n",
                "for case in tqdm(cases):\n",
                "    link_soup = BeautifulSoup(case, \"html.parser\")\n",
                "    link = link_soup.find(\"a\")['href']\n",
                "    url = baseurl + link\n",
                "    \n",
                "    hdr = {'User-Agent': 'Mozilla/5.0'}\n",
                "    req = Request(url,headers=hdr)\n",
                "    page = urlopen(req)\n",
                "    html = page.read().decode(\"utf-8\")\n",
                "    soup = BeautifulSoup(html, \"html.parser\")\n",
                "    \n",
                "    province = \"Ontario\"\n",
                "\n",
                "    # a lot of the information we might be looking for can be found in section 3 of the report\n",
                "    text = soup.find_all(\"h3\")[3].next_sibling.get_text()\n",
                "    \n",
                "    year = find_year(text)\n",
                "    police_service = find_police_service(text)\n",
                "    \n",
                "    city = find_city(soup)\n",
                "    \n",
                "    investigation_outcome = find_investigation_outcome(soup)\n",
                "    \n",
                "    results.append([year, police_service, city, province, investigation_outcome])\n",
                "    \n",
                "results_df = pd.DataFrame(results, columns=['Year', 'Police Service', 'City', 'Province', 'Investigation Final Decision'])\n",
                "    "
            ]
        },
        {
            "cell_type": "code",
            "execution_count": 228,
            "id": "e3f8468c-d7b5-4f1a-908d-2fac1e8a4222",
            "metadata": {},
            "outputs": [
                {
                    "data": {
                        "text/html": [
                            "<div>\n",
                            "<style scoped>\n",
                            "    .dataframe tbody tr th:only-of-type {\n",
                            "        vertical-align: middle;\n",
                            "    }\n",
                            "\n",
                            "    .dataframe tbody tr th {\n",
                            "        vertical-align: top;\n",
                            "    }\n",
                            "\n",
                            "    .dataframe thead th {\n",
                            "        text-align: right;\n",
                            "    }\n",
                            "</style>\n",
                            "<table border=\"1\" class=\"dataframe\">\n",
                            "  <thead>\n",
                            "    <tr style=\"text-align: right;\">\n",
                            "      <th></th>\n",
                            "      <th>Year</th>\n",
                            "      <th>Police Service</th>\n",
                            "      <th>City</th>\n",
                            "      <th>Province</th>\n",
                            "      <th>Investigation Final Decision</th>\n",
                            "    </tr>\n",
                            "  </thead>\n",
                            "  <tbody>\n",
                            "    <tr>\n",
                            "      <th>0</th>\n",
                            "      <td>2017</td>\n",
                            "      <td>Peel Regional Police</td>\n",
                            "      <td>Mississauga</td>\n",
                            "      <td>Ontario</td>\n",
                            "      <td>I find, therefore, on this record, that the th...</td>\n",
                            "    </tr>\n",
                            "    <tr>\n",
                            "      <th>1</th>\n",
                            "      <td>2017</td>\n",
                            "      <td>Ottawa Police Service</td>\n",
                            "      <td>Ottawa</td>\n",
                            "      <td>Ontario</td>\n",
                            "      <td>In conclusion, on the evidence before me, I fi...</td>\n",
                            "    </tr>\n",
                            "    <tr>\n",
                            "      <th>2</th>\n",
                            "      <td>2017</td>\n",
                            "      <td>Toronto Police Service</td>\n",
                            "      <td>Toronto</td>\n",
                            "      <td>Ontario</td>\n",
                            "      <td>In conclusion, I find that the evidence is ins...</td>\n",
                            "    </tr>\n",
                            "    <tr>\n",
                            "      <th>3</th>\n",
                            "      <td>2017</td>\n",
                            "      <td>Cobourg Police Service</td>\n",
                            "      <td>None</td>\n",
                            "      <td>Ontario</td>\n",
                            "      <td>criminal law and instead find there are no gro...</td>\n",
                            "    </tr>\n",
                            "    <tr>\n",
                            "      <th>4</th>\n",
                            "      <td>2018</td>\n",
                            "      <td>Ontario Provincial Police</td>\n",
                            "      <td>Bruce</td>\n",
                            "      <td>Ontario</td>\n",
                            "      <td>In sum, while it is clear that the SO’s left t...</td>\n",
                            "    </tr>\n",
                            "  </tbody>\n",
                            "</table>\n",
                            "</div>"
                        ],
                        "text/plain": [
                            "   Year             Police Service         City Province  \\\n",
                            "0  2017       Peel Regional Police  Mississauga  Ontario   \n",
                            "1  2017      Ottawa Police Service       Ottawa  Ontario   \n",
                            "2  2017     Toronto Police Service      Toronto  Ontario   \n",
                            "3  2017     Cobourg Police Service         None  Ontario   \n",
                            "4  2018  Ontario Provincial Police        Bruce  Ontario   \n",
                            "\n",
                            "                        Investigation Final Decision  \n",
                            "0  I find, therefore, on this record, that the th...  \n",
                            "1  In conclusion, on the evidence before me, I fi...  \n",
                            "2  In conclusion, I find that the evidence is ins...  \n",
                            "3  criminal law and instead find there are no gro...  \n",
                            "4  In sum, while it is clear that the SO’s left t...  "
                        ]
                    },
                    "execution_count": 228,
                    "metadata": {},
                    "output_type": "execute_result"
                }
            ],
            "source": [
                "results_df.head()"
            ]
        },
        {
            "cell_type": "code",
            "execution_count": 230,
            "id": "9d48c903-6cf7-40e2-a2ed-478106d04a14",
            "metadata": {},
            "outputs": [],
            "source": [
                "results_df.to_csv(\"results_on_2018.csv\", index=False)"
            ]
        },
        {
            "cell_type": "code",
            "execution_count": null,
            "id": "06cc43fb-27b7-459e-9678-4888a0941266",
            "metadata": {},
            "outputs": [],
            "source": []
        }
    ],
    "metadata": {
        "kernelspec": {
            "display_name": "Python 3 (ipykernel)",
            "language": "python",
            "name": "python3"
        },
        "language_info": {
            "codemirror_mode": {
                "name": "ipython",
                "version": 3
            },
            "file_extension": ".py",
            "mimetype": "text/x-python",
            "name": "python",
            "nbconvert_exporter": "python",
            "pygments_lexer": "ipython3",
            "version": "3.9.12"
        }
    },
    "nbformat": 4,
    "nbformat_minor": 5
}
