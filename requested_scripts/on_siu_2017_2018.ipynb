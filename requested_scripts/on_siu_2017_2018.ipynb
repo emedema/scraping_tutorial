{
 "cells": [
  {
   "cell_type": "code",
   "execution_count": 66,
   "id": "192bed8f-237f-4804-9322-6211ff7c0390",
   "metadata": {},
   "outputs": [],
   "source": [
    "# scraping the Ontario SIU Directors Reports from 2017 to 2018\n",
    "# the reports to scrape are in an csv file in reports_to_scrape folder downloaded from their site\n",
    "\n",
    "# import libraries\n",
    "import pandas as pd\n",
    "import numpy as np\n",
    "from urllib.request import Request, urlopen\n",
    "import bs4\n",
    "from bs4 import BeautifulSoup\n",
    "import re"
   ]
  },
  {
   "cell_type": "code",
   "execution_count": 107,
   "id": "553288a7-def7-42c2-a5c7-8c5c8d29dd0d",
   "metadata": {},
   "outputs": [],
   "source": [
    "def get_inner_text(tag):\n",
    "    if isinstance(tag, bs4.element.NavigableString):\n",
    "        return tag\n",
    "    \n",
    "    if len(tag.contents) > 0:\n",
    "        results = []\n",
    "        \n",
    "        for content in tag.contents:\n",
    "            text = get_inner_text(content)\n",
    "            if text is not None:\n",
    "                results.append(text)\n",
    "            \n",
    "        return ''.join(results)\n",
    "    \n",
    "    return tag.string        "
   ]
  },
  {
   "cell_type": "code",
   "execution_count": 2,
   "id": "9342ecdb-ac08-484f-b6b3-7a60b270c0d7",
   "metadata": {},
   "outputs": [
    {
     "data": {
      "text/html": [
       "<div>\n",
       "<style scoped>\n",
       "    .dataframe tbody tr th:only-of-type {\n",
       "        vertical-align: middle;\n",
       "    }\n",
       "\n",
       "    .dataframe tbody tr th {\n",
       "        vertical-align: top;\n",
       "    }\n",
       "\n",
       "    .dataframe thead th {\n",
       "        text-align: right;\n",
       "    }\n",
       "</style>\n",
       "<table border=\"1\" class=\"dataframe\">\n",
       "  <thead>\n",
       "    <tr style=\"text-align: right;\">\n",
       "      <th></th>\n",
       "      <th>Unnamed: 0</th>\n",
       "      <th>Case number</th>\n",
       "      <th>Special Investigations Unit incident date</th>\n",
       "      <th>Special Investigations Unit published date</th>\n",
       "    </tr>\n",
       "  </thead>\n",
       "  <tbody>\n",
       "    <tr>\n",
       "      <th>0</th>\n",
       "      <td>0</td>\n",
       "      <td>&lt;a href=\"/page/siu-directors-report-case-17-of...</td>\n",
       "      <td>2017-12-30</td>\n",
       "      <td>2018-10-05</td>\n",
       "    </tr>\n",
       "    <tr>\n",
       "      <th>1</th>\n",
       "      <td>1</td>\n",
       "      <td>&lt;a href=\"/page/siu-directors-report-case-17-ov...</td>\n",
       "      <td>2017-10-11</td>\n",
       "      <td>2018-10-02</td>\n",
       "    </tr>\n",
       "    <tr>\n",
       "      <th>2</th>\n",
       "      <td>2</td>\n",
       "      <td>&lt;a href=\"/page/siu-directors-report-case-17-tc...</td>\n",
       "      <td>2017-11-08</td>\n",
       "      <td>2018-10-02</td>\n",
       "    </tr>\n",
       "    <tr>\n",
       "      <th>3</th>\n",
       "      <td>3</td>\n",
       "      <td>&lt;a href=\"/page/siu-directors-report-case-17-of...</td>\n",
       "      <td>2017-10-27</td>\n",
       "      <td>2018-09-26</td>\n",
       "    </tr>\n",
       "    <tr>\n",
       "      <th>4</th>\n",
       "      <td>4</td>\n",
       "      <td>&lt;a href=\"/page/siu-directors-report-case-18-pv...</td>\n",
       "      <td>2018-06-09</td>\n",
       "      <td>2018-09-25</td>\n",
       "    </tr>\n",
       "  </tbody>\n",
       "</table>\n",
       "</div>"
      ],
      "text/plain": [
       "   Unnamed: 0                                        Case number  \\\n",
       "0           0  <a href=\"/page/siu-directors-report-case-17-of...   \n",
       "1           1  <a href=\"/page/siu-directors-report-case-17-ov...   \n",
       "2           2  <a href=\"/page/siu-directors-report-case-17-tc...   \n",
       "3           3  <a href=\"/page/siu-directors-report-case-17-of...   \n",
       "4           4  <a href=\"/page/siu-directors-report-case-18-pv...   \n",
       "\n",
       "  Special Investigations Unit incident date  \\\n",
       "0                                2017-12-30   \n",
       "1                                2017-10-11   \n",
       "2                                2017-11-08   \n",
       "3                                2017-10-27   \n",
       "4                                2018-06-09   \n",
       "\n",
       "  Special Investigations Unit published date  \n",
       "0                                 2018-10-05  \n",
       "1                                 2018-10-02  \n",
       "2                                 2018-10-02  \n",
       "3                                 2018-09-26  \n",
       "4                                 2018-09-25  "
      ]
     },
     "execution_count": 2,
     "metadata": {},
     "output_type": "execute_result"
    }
   ],
   "source": [
    "# import pages to scrape from the csv file\n",
    "df = pd.read_csv(\"reports_to_scrape/on_siu_2018_w_keywords.csv\")\n",
    "df.head()"
   ]
  },
  {
   "cell_type": "code",
   "execution_count": 3,
   "id": "a36109e4-37ba-47f0-90af-e2d95755a56c",
   "metadata": {},
   "outputs": [],
   "source": [
    "# base url for page is: https://www.ontario.ca/\n",
    "baseurl = \"https://www.ontario.ca\""
   ]
  },
  {
   "cell_type": "code",
   "execution_count": 4,
   "id": "3ca0b41e-cbff-42e4-a723-8a7c4653e15f",
   "metadata": {},
   "outputs": [
    {
     "name": "stdout",
     "output_type": "stream",
     "text": [
      "<a href=\"/page/siu-directors-report-case-18-pvi-175\">18-PVI-175</a>\n",
      "/page/siu-directors-report-case-18-pvi-175\n"
     ]
    }
   ],
   "source": [
    "# get the link from the case number part of the df\n",
    "\n",
    "cases = df[\"Case number\"].tolist()\n",
    "print(cases[4])\n",
    "\n",
    "soup = BeautifulSoup(cases[4], \"html.parser\")\n",
    "link = soup.find(\"a\")['href']\n",
    "\n",
    "print(link)"
   ]
  },
  {
   "cell_type": "code",
   "execution_count": 5,
   "id": "8f9c2c7a-48e0-43b7-a00c-559575fbb52b",
   "metadata": {},
   "outputs": [
    {
     "data": {
      "text/plain": [
       "'https://www.ontario.ca/page/siu-directors-report-case-18-pvi-175'"
      ]
     },
     "execution_count": 5,
     "metadata": {},
     "output_type": "execute_result"
    }
   ],
   "source": [
    "url = baseurl + link\n",
    "url"
   ]
  },
  {
   "cell_type": "code",
   "execution_count": 6,
   "id": "f5904b27-8915-4f21-b294-36e3e07bb991",
   "metadata": {},
   "outputs": [
    {
     "name": "stdout",
     "output_type": "stream",
     "text": [
      "<title>SIU Director’s Report - Case # 18-PVI-175 | ontario.ca</title>\n"
     ]
    }
   ],
   "source": [
    "# scrape the first directors report 17-OFD-379\n",
    "\n",
    "hdr = {'User-Agent': 'Mozilla/5.0'}\n",
    "req = Request(url,headers=hdr)\n",
    "page = urlopen(req)\n",
    "html = page.read().decode(\"utf-8\")\n",
    "soup = BeautifulSoup(html, \"html.parser\")\n",
    "print(soup.find(\"title\"))"
   ]
  },
  {
   "cell_type": "code",
   "execution_count": 7,
   "id": "f7182c9e-dee3-401e-993b-e4382e9d0ed0",
   "metadata": {},
   "outputs": [
    {
     "data": {
      "text/plain": [
       "'On June\\xa010,\\xa02018, at 12:29\\xa0a.m., the Ontario Provincial Police (OPP) reported the vehicle injury of the Complainant.'"
      ]
     },
     "execution_count": 7,
     "metadata": {},
     "output_type": "execute_result"
    }
   ],
   "source": [
    "# Information we are looking for:\n",
    "# Province, city, police service, officer name, year, consequences for civilians (injuries), \n",
    "# consequences, if any, for officers (fine, dismissal, none, etc.), \n",
    "# investigation outcome (charge, acquittal complaint dismissal, etc.), and reason for police call. \n",
    "\n",
    "province = \"Ontario\"\n",
    "\n",
    "# a lot of the information we might be looking for can be found in section 3 of the report\n",
    "text = soup.find_all(\"h3\")[3].next_sibling.get_text()\n",
    "text"
   ]
  },
  {
   "cell_type": "code",
   "execution_count": 81,
   "id": "d1c1d99c-7d98-400d-9c38-226abcb0b191",
   "metadata": {},
   "outputs": [
    {
     "data": {
      "text/plain": [
       "'2018'"
      ]
     },
     "execution_count": 81,
     "metadata": {},
     "output_type": "execute_result"
    }
   ],
   "source": [
    "def find_year(text):\n",
    "    return re.search(r\"(\\d{4})\", text).group(1)\n",
    "\n",
    "year = find_year(text)\n",
    "year"
   ]
  },
  {
   "cell_type": "code",
   "execution_count": 73,
   "id": "ca291e7f-69a4-48e6-8226-26d9e8826329",
   "metadata": {},
   "outputs": [],
   "source": [
    "# police service\n",
    "\n",
    "# list from https://www.oacp.ca/en/about-us/ontario-police-organizations.aspx\n",
    "ontario_police_services = [\n",
    "    'Akwesasne Mohawk Police Service',\n",
    "    'Anishinabek Police Service',\n",
    "    'Aylmer Police Service',\n",
    "    'Barrie Police Service',\n",
    "    'Belleville Police Service',\n",
    "    'Brantford Police Service',\n",
    "    'Brockville Police Service',\n",
    "    'Chatham Kent Police Service',\n",
    "    'City of Kawartha Lakes Police Service',\n",
    "    'Cobourg Police Service',\n",
    "    'Cornwall Police Service',\n",
    "    'Deep River Police Service',\n",
    "    'Dryden Police Service',\n",
    "    'Greater Sudbury Police Service',\n",
    "    'Guelph Police Service',\n",
    "    'Halton Regional Police Service',\n",
    "    'Hamilton Police Service',\n",
    "    'Hanover Police Service',\n",
    "    'Kingston Police',\n",
    "    'Lac Seul Police Service',\n",
    "    'LaSalle Police Service',\n",
    "    'London Police Service',\n",
    "    'Niagara Parks Police',\n",
    "    'Niagara Regional Police Service',\n",
    "    'Nishnawbe-Aski Police Service',\n",
    "    'North Bay Police Service',\n",
    "    'Ontario Provincial Police',\n",
    "    'Owen Sound Police Service',\n",
    "    'Ottawa Police Service',\n",
    "    'Peterborough Police Service',\n",
    "    'Peel Regional Police',\n",
    "    'Port Hope Police Service',\n",
    "    'Rama Police Service',\n",
    "    'Sarnia Police Service',\n",
    "    'Royal Canadian Mounted Police',\n",
    "    'Sault Ste. Marie Police Service',\n",
    "    'Saugeen Shores Police Service',\n",
    "    'Smiths Falls Police Service',\n",
    "    'Six Nations Police Service',\n",
    "    'St. Thomas Police Service',\n",
    "    'Strathroy-Caradoc Police Service',\n",
    "    'South Simcoe Police Service',\n",
    "    'Timmins Police Service',\n",
    "    'Stratford Police Service',\n",
    "    'Thunder Bay Police Service',\n",
    "    'Treaty Three Police Service',\n",
    "    'Toronto Police Service',\n",
    "    'Waterloo Regional Police Service',\n",
    "    'U.C.C.M. Anishnaabe Police',\n",
    "    'Wikwemikong Tribal Police Service',\n",
    "    'West Grey Police Service',\n",
    "    'Woodstock Police Service',\n",
    "    'Windsor Police Service',\n",
    "    'York Regional Police'\n",
    "]"
   ]
  },
  {
   "cell_type": "code",
   "execution_count": 77,
   "id": "7ab20a30-658f-4d4f-bcbf-807fc7dce00d",
   "metadata": {},
   "outputs": [
    {
     "data": {
      "text/plain": [
       "'Ontario Provincial Police'"
      ]
     },
     "execution_count": 77,
     "metadata": {},
     "output_type": "execute_result"
    }
   ],
   "source": [
    "def find_police_service(text):\n",
    "    for service_name in ontario_police_services:\n",
    "        if service_name in text:\n",
    "            return service_name\n",
    "        \n",
    "police_service = find_police_service(text)\n",
    "police_service"
   ]
  },
  {
   "cell_type": "code",
   "execution_count": 9,
   "id": "b9f1f23b-09c1-4e17-a067-e5382ef86c64",
   "metadata": {},
   "outputs": [
    {
     "data": {
      "text/plain": [
       "'Ontario Provincial Police (OPP)'"
      ]
     },
     "execution_count": 9,
     "metadata": {},
     "output_type": "execute_result"
    }
   ],
   "source": [
    "try:\n",
    "    pattern = \"the.*?notified\"\n",
    "    match_results = re.search(pattern, text, re.IGNORECASE)\n",
    "    police_service = match_results.group()\n",
    "    police_service = re.sub(\"the \", \"\", police_service)\n",
    "    police_service = re.sub(\" notified\", \"\", police_service)\n",
    "except:\n",
    "    pattern = \"the.*?reported\"\n",
    "    match_results = re.search(pattern, text, re.IGNORECASE)\n",
    "    police_service = match_results.group()\n",
    "    police_service = re.sub(\"the \", \"\", police_service)\n",
    "    police_service = re.sub(\" reported\", \"\", police_service)\n",
    "police_service"
   ]
  },
  {
   "cell_type": "code",
   "execution_count": 110,
   "id": "e9532f53-65ff-4bd7-92bd-72703d5d55f5",
   "metadata": {},
   "outputs": [],
   "source": [
    "municipalities_df = pd.read_csv(\"mmah-list-of-ontario-municipalities-en-utf8-2022-10-05.csv\")\n",
    "\n",
    "def get_municipality_name(tag):\n",
    "    a_soup = BeautifulSoup(tag, \"html.parser\")\n",
    "    \n",
    "    if isinstance(a_soup, bs4.element.Tag):\n",
    "        full_name = get_inner_text(a_soup)\n",
    "    else:\n",
    "        full_name = tag\n",
    "        \n",
    "    \n",
    "        \n",
    "    return full_name.split(\", \")[0]\n",
    "    \n",
    "\n",
    "list_of_municipalities_in_ontario = list(municipalities_df[\"Municipality\"].apply(get_municipality_name))"
   ]
  },
  {
   "cell_type": "code",
   "execution_count": 124,
   "id": "9d01a3b0-5826-4502-a931-f4b5e5b90cde",
   "metadata": {},
   "outputs": [],
   "source": [
    "incident_narrative_title = soup.find(\"h2\", string=\"Incident narrative\")"
   ]
  },
  {
   "cell_type": "code",
   "execution_count": 128,
   "id": "da4ec4f7-011e-43d1-af62-ee8e31a1a9c4",
   "metadata": {},
   "outputs": [
    {
     "name": "stdout",
     "output_type": "stream",
     "text": [
      "[<p>On June 9, 2018, at around 10:00 p.m., the Complainant and the <abbr title=\"Subject Officer\">SO</abbr> were involved in a motor vehicle collision at the intersection of Bruce County Road 3 and Bruce County Road 2 near Walkerton. The Complainant was operating a motorcycle northbound on Bruce County Road 3. The <abbr title=\"Subject Officer\">SO</abbr> was driving southbound on Bruce County Road 3 and made a sudden left hand turn towards Bruce County Road 2 – travelling into the path of the Complainant. The Complainant was travelling at a speed slightly over the 80 km/h speed limit and was unable to stop. He collided with the side of the <abbr title=\"Subject Officer\">SO</abbr>’s police cruiser, was propelled off his motorcycle and landed in the roadway. As a result of the collision, the Complainant sustained serious injuries. The <abbr title=\"Subject Officer\">SO</abbr> says he did not see the Complainant and takes responsibility for the collision.</p>]\n"
     ]
    }
   ],
   "source": [
    "next_sibling = incident_narrative_title.next_sibling\n",
    "incident_narrative = [next_sibling]\n",
    "\n",
    "while next_sibling.next_sibling.name == \"p\":\n",
    "    next_sibling = next_sibling.next_sibling\n",
    "    incident_narrative.append(next_sibling)\n",
    "    \n",
    "print(incident_narrative)"
   ]
  },
  {
   "cell_type": "code",
   "execution_count": 137,
   "id": "58ccbfe8-052e-4def-981a-2c7ea86af903",
   "metadata": {},
   "outputs": [],
   "source": [
    "def find_city(soup):\n",
    "    incident_narrative_title = soup.find(\"h2\", string=\"Incident narrative\")\n",
    "    \n",
    "    next_sibling = incident_narrative_title.next_sibling\n",
    "    incident_narratives = [next_sibling]\n",
    "\n",
    "    while next_sibling.next_sibling.name == \"p\":\n",
    "        next_sibling = next_sibling.next_sibling\n",
    "        incident_narratives.append(next_sibling)\n",
    "        \n",
    "    for p in incident_narratives:\n",
    "        for municipality in list_of_municipalities_in_ontario:\n",
    "            match = re.search(municipality, str(p), re.IGNORECASE)\n",
    "            if match is not None:\n",
    "                return match[0]"
   ]
  },
  {
   "cell_type": "code",
   "execution_count": 138,
   "id": "efa822f9-fed9-487f-9acb-ff268287b88a",
   "metadata": {},
   "outputs": [
    {
     "data": {
      "text/plain": [
       "'Bruce'"
      ]
     },
     "execution_count": 138,
     "metadata": {},
     "output_type": "execute_result"
    }
   ],
   "source": [
    "find_city(soup)"
   ]
  },
  {
   "cell_type": "code",
   "execution_count": 10,
   "id": "90653028-eadf-4f52-aa92-d69309c4701c",
   "metadata": {},
   "outputs": [
    {
     "data": {
      "text/plain": [
       "nan"
      ]
     },
     "execution_count": 10,
     "metadata": {},
     "output_type": "execute_result"
    }
   ],
   "source": [
    "import string\n",
    "# find the city\n",
    "webpage = soup.get_text()\n",
    "\n",
    "#text = webpage.split(\"City of \")[1]\n",
    "split_str = webpage.partition('City of')\n",
    "word_after_cityof = split_str[2].strip().split(\" \")\n",
    "city = word_after_cityof[0].strip(string.punctuation)\n",
    "if city == \"\":\n",
    "    city = np.nan\n",
    "city\n",
    "# row['beds'] = number_of_beds #append column to existing row"
   ]
  },
  {
   "cell_type": "code",
   "execution_count": 11,
   "id": "0bb23997-980e-4a7d-94cd-415dd4fbfaab",
   "metadata": {},
   "outputs": [
    {
     "name": "stdout",
     "output_type": "stream",
     "text": [
      "On June 10, 2018, at 12:29 a.m., the Ontario Provincial Police (OPP) reported the vehicle injury of the Complainant.\n"
     ]
    },
    {
     "data": {
      "text/plain": [
       "'reported vehicle injury of Complainant'"
      ]
     },
     "execution_count": 11,
     "metadata": {},
     "output_type": "execute_result"
    }
   ],
   "source": [
    "# officer name is not included in accordance with section 21 of FIPPA\n",
    "# moving onto civilian consquences, this can be found in the text we have\n",
    "print(text)\n",
    "temp = text.split(\".\")\n",
    "for i in temp:\n",
    "    if police_service in i:\n",
    "        pattern = \"\\).*\"\n",
    "        match_results = re.search(pattern, i, re.IGNORECASE)\n",
    "        civilian_consequences = match_results.group()\n",
    "        civilian_consequences = re.sub(\"\\) \", \"\", civilian_consequences).strip()\n",
    "        civilian_consequences = re.sub(\"the \", \"\", civilian_consequences).strip()\n",
    "civilian_consequences"
   ]
  },
  {
   "cell_type": "code",
   "execution_count": 12,
   "id": "780a5c5e-46b7-44bc-a14a-54d361470b18",
   "metadata": {},
   "outputs": [],
   "source": [
    "# find consequences for officer\n",
    "# personally, I can't find an area of these reports that mention consequences for the officers"
   ]
  },
  {
   "cell_type": "code",
   "execution_count": 29,
   "id": "8bbdabae-1d6b-4a95-9792-12c3e693e1b5",
   "metadata": {},
   "outputs": [
    {
     "data": {
      "text/plain": [
       "<h2>Analysis and director’s decision</h2>"
      ]
     },
     "execution_count": 29,
     "metadata": {},
     "output_type": "execute_result"
    }
   ],
   "source": [
    "# investigation outcome\n",
    "# this is found in the director's analysis section/last paragraph of the report\n",
    "analysis_and_directors_decision = soup.find(\"h2\", string=\"Analysis and director’s decision\")\n",
    "analysis_and_directors_decision"
   ]
  },
  {
   "cell_type": "code",
   "execution_count": 49,
   "id": "a9a43acf-980d-4e00-a02f-1ebbef5d38cc",
   "metadata": {},
   "outputs": [],
   "source": [
    "decision_date_element = analysis_and_directors_decision.parent.contents[-3]\n",
    "decision_date = decision_date_element.string\n",
    "decision_date = decision_date.replace(\"\\xa0\", \" \")\n",
    "\n",
    "if not decision_date.startswith(\"Date:\"):\n",
    "    print(\"Unable to find date element\")"
   ]
  },
  {
   "cell_type": "code",
   "execution_count": 50,
   "id": "4d097228-732d-4b76-ba38-8253e77b4b8c",
   "metadata": {},
   "outputs": [
    {
     "data": {
      "text/plain": [
       "'Date: September 25, 2018'"
      ]
     },
     "execution_count": 50,
     "metadata": {},
     "output_type": "execute_result"
    }
   ],
   "source": [
    "decision_date"
   ]
  },
  {
   "cell_type": "code",
   "execution_count": 56,
   "id": "af4aaa4b-3872-47f3-9b19-62359442413e",
   "metadata": {},
   "outputs": [
    {
     "data": {
      "text/plain": [
       "['In sum, while it is clear that the ',\n",
       " <abbr title=\"Subject Officer\">SO</abbr>,\n",
       " '’s left turn created a risk of danger which had very significant consequences',\n",
       " <onesite-ref number=\"8\"><sup number=\"8\"><a href=\"#foot-8\" id=\"ref-8\" onclick=\"(onesiteRef(this));\" rel=\"footnote\"><span class=\"show-for-sr\">footnote 8</span><span aria-hidden=\"true\">[8]</span></a></sup></onesite-ref>,\n",
       " ', there is simply insufficient evidence that the ',\n",
       " <abbr title=\"Subject Officer\">SO</abbr>,\n",
       " '’s driving meets the high threshold required to find a marked departure from the standard of care. I am therefore unable to form grounds to believe the ',\n",
       " <abbr title=\"Subject Officer\">SO</abbr>,\n",
       " ' committed a criminal offence in relation to the collision and the file will be closed.']"
      ]
     },
     "execution_count": 56,
     "metadata": {},
     "output_type": "execute_result"
    }
   ],
   "source": [
    "decision_final_paragraph = decision_date_element.previous_sibling\n",
    "decision_final_paragraph.contents"
   ]
  },
  {
   "cell_type": "code",
   "execution_count": 72,
   "id": "cef67c83-3f91-4478-ba53-f0a0fd5dbd2a",
   "metadata": {},
   "outputs": [
    {
     "data": {
      "text/plain": [
       "'In sum, while it is clear that the SO’s left turn created a risk of danger which had very significant consequencesfootnote 8[8], there is simply insufficient evidence that the SO’s driving meets the high threshold required to find a marked departure from the standard of care. I am therefore unable to form grounds to believe the SO committed a criminal offence in relation to the collision and the file will be closed.'"
      ]
     },
     "execution_count": 72,
     "metadata": {},
     "output_type": "execute_result"
    }
   ],
   "source": [
    "decision_final_paragraph_text = get_inner_text(decision_final_paragraph)\n",
    "decision_final_paragraph_text"
   ]
  },
  {
   "cell_type": "code",
   "execution_count": 16,
   "id": "d875c987-be8d-4698-8dea-b9bf10dbf9a2",
   "metadata": {},
   "outputs": [],
   "source": [
    "# reason for police investigation\n",
    "# not really sure about this one\n"
   ]
  },
  {
   "cell_type": "code",
   "execution_count": null,
   "id": "0285fe52-a442-4fac-96a8-8d35d32d2a63",
   "metadata": {},
   "outputs": [],
   "source": []
  }
 ],
 "metadata": {
  "kernelspec": {
   "display_name": "Python 3 (ipykernel)",
   "language": "python",
   "name": "python3"
  },
  "language_info": {
   "codemirror_mode": {
    "name": "ipython",
    "version": 3
   },
   "file_extension": ".py",
   "mimetype": "text/x-python",
   "name": "python",
   "nbconvert_exporter": "python",
   "pygments_lexer": "ipython3",
   "version": "3.9.5"
  }
 },
 "nbformat": 4,
 "nbformat_minor": 5
}
