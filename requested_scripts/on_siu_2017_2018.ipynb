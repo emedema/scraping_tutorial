{
 "cells": [
  {
   "cell_type": "code",
   "execution_count": 1,
   "id": "192bed8f-237f-4804-9322-6211ff7c0390",
   "metadata": {},
   "outputs": [],
   "source": [
    "# scraping the Ontario SIU Directors Reports from 2017 to 2018\n",
    "# the reports to scrape are in an csv file in reports_to_scrape folder downloaded from their site\n",
    "\n",
    "# import libraries\n",
    "import pandas as pd\n",
    "import numpy as np\n",
    "from urllib.request import urlopen\n",
    "from bs4 import BeautifulSoup\n",
    "import re"
   ]
  },
  {
   "cell_type": "code",
   "execution_count": 2,
   "id": "9342ecdb-ac08-484f-b6b3-7a60b270c0d7",
   "metadata": {},
   "outputs": [
    {
     "data": {
      "text/html": [
       "<div>\n",
       "<style scoped>\n",
       "    .dataframe tbody tr th:only-of-type {\n",
       "        vertical-align: middle;\n",
       "    }\n",
       "\n",
       "    .dataframe tbody tr th {\n",
       "        vertical-align: top;\n",
       "    }\n",
       "\n",
       "    .dataframe thead th {\n",
       "        text-align: right;\n",
       "    }\n",
       "</style>\n",
       "<table border=\"1\" class=\"dataframe\">\n",
       "  <thead>\n",
       "    <tr style=\"text-align: right;\">\n",
       "      <th></th>\n",
       "      <th>Case number</th>\n",
       "      <th>Special Investigations Unit incident date</th>\n",
       "      <th>Special Investigations Unit published date</th>\n",
       "    </tr>\n",
       "  </thead>\n",
       "  <tbody>\n",
       "    <tr>\n",
       "      <th>0</th>\n",
       "      <td>&lt;a href=\"/page/siu-directors-report-case-17-of...</td>\n",
       "      <td>2017-12-30</td>\n",
       "      <td>2018-10-05</td>\n",
       "    </tr>\n",
       "    <tr>\n",
       "      <th>1</th>\n",
       "      <td>&lt;a href=\"/page/siu-directors-report-case-17-ov...</td>\n",
       "      <td>2017-10-11</td>\n",
       "      <td>2018-10-02</td>\n",
       "    </tr>\n",
       "    <tr>\n",
       "      <th>2</th>\n",
       "      <td>&lt;a href=\"/page/siu-directors-report-case-17-tc...</td>\n",
       "      <td>2017-11-08</td>\n",
       "      <td>2018-10-02</td>\n",
       "    </tr>\n",
       "    <tr>\n",
       "      <th>3</th>\n",
       "      <td>&lt;a href=\"/page/siu-directors-report-case-17-of...</td>\n",
       "      <td>2017-10-27</td>\n",
       "      <td>2018-09-26</td>\n",
       "    </tr>\n",
       "    <tr>\n",
       "      <th>4</th>\n",
       "      <td>&lt;a href=\"/page/siu-directors-report-case-18-pv...</td>\n",
       "      <td>2018-06-09</td>\n",
       "      <td>2018-09-25</td>\n",
       "    </tr>\n",
       "  </tbody>\n",
       "</table>\n",
       "</div>"
      ],
      "text/plain": [
       "                                         Case number  \\\n",
       "0  <a href=\"/page/siu-directors-report-case-17-of...   \n",
       "1  <a href=\"/page/siu-directors-report-case-17-ov...   \n",
       "2  <a href=\"/page/siu-directors-report-case-17-tc...   \n",
       "3  <a href=\"/page/siu-directors-report-case-17-of...   \n",
       "4  <a href=\"/page/siu-directors-report-case-18-pv...   \n",
       "\n",
       "  Special Investigations Unit incident date  \\\n",
       "0                                2017-12-30   \n",
       "1                                2017-10-11   \n",
       "2                                2017-11-08   \n",
       "3                                2017-10-27   \n",
       "4                                2018-06-09   \n",
       "\n",
       "  Special Investigations Unit published date  \n",
       "0                                 2018-10-05  \n",
       "1                                 2018-10-02  \n",
       "2                                 2018-10-02  \n",
       "3                                 2018-09-26  \n",
       "4                                 2018-09-25  "
      ]
     },
     "execution_count": 2,
     "metadata": {},
     "output_type": "execute_result"
    }
   ],
   "source": [
    "# import pages to scrape from the csv file\n",
    "df = pd.read_csv(\"reports_to_scrape/on_siu_2018.csv\")\n",
    "df.head()"
   ]
  },
  {
   "cell_type": "code",
   "execution_count": 3,
   "id": "a36109e4-37ba-47f0-90af-e2d95755a56c",
   "metadata": {},
   "outputs": [],
   "source": [
    "# base url for page is: https://www.ontario.ca/\n",
    "baseurl = \"https://www.ontario.ca\""
   ]
  },
  {
   "cell_type": "code",
   "execution_count": 4,
   "id": "3ca0b41e-cbff-42e4-a723-8a7c4653e15f",
   "metadata": {},
   "outputs": [
    {
     "name": "stdout",
     "output_type": "stream",
     "text": [
      "<a href=\"/page/siu-directors-report-case-17-ofd-379\">17-OFD-379</a>\n",
      "/page/siu-directors-report-case-17-ofd-379\n"
     ]
    }
   ],
   "source": [
    "# get the link from the case number part of the df\n",
    "\n",
    "cases = df[\"Case number\"].tolist()\n",
    "print(cases[0])\n",
    "\n",
    "soup = BeautifulSoup(cases[0], \"html.parser\")\n",
    "link = soup.find(\"a\")['href']\n",
    "\n",
    "print(link)"
   ]
  },
  {
   "cell_type": "code",
   "execution_count": 5,
   "id": "8f9c2c7a-48e0-43b7-a00c-559575fbb52b",
   "metadata": {},
   "outputs": [
    {
     "data": {
      "text/plain": [
       "'https://www.ontario.ca//page/siu-directors-report-case-17-ofd-379'"
      ]
     },
     "execution_count": 5,
     "metadata": {},
     "output_type": "execute_result"
    }
   ],
   "source": [
    "url = baseurl + link\n",
    "url"
   ]
  },
  {
   "cell_type": "code",
   "execution_count": 6,
   "id": "f5904b27-8915-4f21-b294-36e3e07bb991",
   "metadata": {},
   "outputs": [
    {
     "name": "stdout",
     "output_type": "stream",
     "text": [
      "<title>SIU Director’s Report - Case # 17-OFD-379 | ontario.ca</title>\n"
     ]
    }
   ],
   "source": [
    "# scrape the first directors report 17-OFD-379\n",
    "page = urlopen(url)\n",
    "html = page.read().decode(\"utf-8\")\n",
    "soup = BeautifulSoup(html, \"html.parser\")\n",
    "print(soup.find(\"title\"))"
   ]
  },
  {
   "cell_type": "code",
   "execution_count": 7,
   "id": "f7182c9e-dee3-401e-993b-e4382e9d0ed0",
   "metadata": {},
   "outputs": [
    {
     "data": {
      "text/plain": [
       "'At approximately 2:09\\xa0a.m. on December\\xa030,\\xa02017, the Peel Regional Police (PRP) notified the SIU of the firearm death of a man in Mississauga. At the time of the notification, the man had not yet been identified.footnote 1[1]'"
      ]
     },
     "execution_count": 7,
     "metadata": {},
     "output_type": "execute_result"
    }
   ],
   "source": [
    "# Information we are looking for:\n",
    "# Province, city, police service, officer name, year, consequences for civilians (injuries), \n",
    "# consequences, if any, for officers (fine, dismissal, none, etc.), \n",
    "# investigation outcome (charge, acquittal complaint dismissal, etc.), and reason for police call. \n",
    "\n",
    "province = \"Ontario\"\n",
    "\n",
    "# a lot of the information we might be looking for can be found in section 3 of the report\n",
    "text = soup.find_all(\"h3\")[3].next_sibling.get_text()\n",
    "text"
   ]
  },
  {
   "cell_type": "code",
   "execution_count": 8,
   "id": "d1c1d99c-7d98-400d-9c38-226abcb0b191",
   "metadata": {},
   "outputs": [
    {
     "data": {
      "text/plain": [
       "'2017'"
      ]
     },
     "execution_count": 8,
     "metadata": {},
     "output_type": "execute_result"
    }
   ],
   "source": [
    "year = re.search(r\"(\\d{4})\", text).group(1)\n",
    "year"
   ]
  },
  {
   "cell_type": "code",
   "execution_count": 9,
   "id": "b9f1f23b-09c1-4e17-a067-e5382ef86c64",
   "metadata": {},
   "outputs": [
    {
     "data": {
      "text/plain": [
       "'Peel Regional Police (PRP)'"
      ]
     },
     "execution_count": 9,
     "metadata": {},
     "output_type": "execute_result"
    }
   ],
   "source": [
    "pattern = \"the.*?notified\"\n",
    "match_results = re.search(pattern, text, re.IGNORECASE)\n",
    "police_service = match_results.group()\n",
    "police_service = re.sub(\"the \", \"\", police_service)\n",
    "police_service = re.sub(\" notified\", \"\", police_service)\n",
    "police_service"
   ]
  },
  {
   "cell_type": "code",
   "execution_count": 10,
   "id": "90653028-eadf-4f52-aa92-d69309c4701c",
   "metadata": {},
   "outputs": [
    {
     "data": {
      "text/plain": [
       "'Mississauga'"
      ]
     },
     "execution_count": 10,
     "metadata": {},
     "output_type": "execute_result"
    }
   ],
   "source": [
    "import string\n",
    "# find the city\n",
    "webpage = soup.get_text()\n",
    "\n",
    "#text = webpage.split(\"City of \")[1]\n",
    "split_str = webpage.partition('City of')\n",
    "word_after_cityof = split_str[2].strip().split(\" \")\n",
    "city = word_after_cityof[0].strip(string.punctuation)\n",
    "city\n",
    "# row['beds'] = number_of_beds #append column to existing row"
   ]
  },
  {
   "cell_type": "code",
   "execution_count": 11,
   "id": "0bb23997-980e-4a7d-94cd-415dd4fbfaab",
   "metadata": {},
   "outputs": [
    {
     "data": {
      "text/plain": [
       "'The Post-Mortem Report, which the SIU received on October\\xa02,\\xa02018, determined the cause of death to be a gunshot wound to the left chest.'"
      ]
     },
     "execution_count": 11,
     "metadata": {},
     "output_type": "execute_result"
    }
   ],
   "source": [
    "# officer name is not included in accordance with section 21 of FIPPA\n",
    "# moving onto civilian consquences, this can be found more easily in section 4\n",
    "text = soup.find_all(\"h3\")[9].next_sibling.get_text()\n",
    "text"
   ]
  },
  {
   "cell_type": "code",
   "execution_count": null,
   "id": "780a5c5e-46b7-44bc-a14a-54d361470b18",
   "metadata": {},
   "outputs": [],
   "source": []
  }
 ],
 "metadata": {
  "kernelspec": {
   "display_name": "Python 3 (ipykernel)",
   "language": "python",
   "name": "python3"
  },
  "language_info": {
   "codemirror_mode": {
    "name": "ipython",
    "version": 3
   },
   "file_extension": ".py",
   "mimetype": "text/x-python",
   "name": "python",
   "nbconvert_exporter": "python",
   "pygments_lexer": "ipython3",
   "version": "3.9.12"
  }
 },
 "nbformat": 4,
 "nbformat_minor": 5
}
