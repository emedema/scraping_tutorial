{
 "cells": [
  {
   "cell_type": "code",
   "execution_count": 1,
   "id": "5c219a5e-72c1-44f1-8017-2c0e639806bf",
   "metadata": {},
   "outputs": [],
   "source": [
    "'''\n",
    "narrowing SIU reports from 2017/18 to only those with the following keywords\n",
    "the list of all the reports to scrape are in an csv file in reports_to_scrape folder downloaded from their site\n",
    "Ontario - Special Investigations Unit (SIU Annual Report 2021-2022 and Special Investigations Unit (SIU) director’s reports from 2005 to November 2018 | Ontario.ca) \n",
    "Firearm injuries\n",
    "Custody injuries\n",
    "Other injuries/deaths\n",
    "Vehicle injuries\n",
    "Use of force\n",
    "Unlawful or unnecessary exercise of authority \n",
    "Unnecessary force\n",
    "Unnecessary use of force\n",
    "Assault\n",
    "Sexual assault\n",
    "Harm\n",
    "Excessive force\n",
    "Injury\n",
    "'''\n",
    "\n",
    "# import libraries\n",
    "import pandas as pd\n",
    "import numpy as np\n",
    "from urllib.request import urlopen\n",
    "from bs4 import BeautifulSoup\n",
    "import re"
   ]
  },
  {
   "cell_type": "code",
   "execution_count": 2,
   "id": "864dbb16-5476-451e-aa7c-2f325b2d135d",
   "metadata": {},
   "outputs": [
    {
     "data": {
      "text/html": [
       "<div>\n",
       "<style scoped>\n",
       "    .dataframe tbody tr th:only-of-type {\n",
       "        vertical-align: middle;\n",
       "    }\n",
       "\n",
       "    .dataframe tbody tr th {\n",
       "        vertical-align: top;\n",
       "    }\n",
       "\n",
       "    .dataframe thead th {\n",
       "        text-align: right;\n",
       "    }\n",
       "</style>\n",
       "<table border=\"1\" class=\"dataframe\">\n",
       "  <thead>\n",
       "    <tr style=\"text-align: right;\">\n",
       "      <th></th>\n",
       "      <th>Case Number</th>\n",
       "      <th>Date Report Signed</th>\n",
       "      <th>Link Text</th>\n",
       "      <th>URLs</th>\n",
       "    </tr>\n",
       "  </thead>\n",
       "  <tbody>\n",
       "    <tr>\n",
       "      <th>0</th>\n",
       "      <td>23-OCI-103</td>\n",
       "      <td>03-Aug-23</td>\n",
       "      <td>Read Full Text</td>\n",
       "      <td>https://www.siu.on.ca/en/directors_report_deta...</td>\n",
       "    </tr>\n",
       "    <tr>\n",
       "      <th>1</th>\n",
       "      <td>23-OCI-102</td>\n",
       "      <td>02-Aug-23</td>\n",
       "      <td>Read Full Text</td>\n",
       "      <td>https://www.siu.on.ca/en/directors_report_deta...</td>\n",
       "    </tr>\n",
       "    <tr>\n",
       "      <th>2</th>\n",
       "      <td>23-PVI-099</td>\n",
       "      <td>11-Jul-23</td>\n",
       "      <td>Read Full Text</td>\n",
       "      <td>https://www.siu.on.ca/en/directors_report_deta...</td>\n",
       "    </tr>\n",
       "    <tr>\n",
       "      <th>3</th>\n",
       "      <td>23-TCD-098</td>\n",
       "      <td>11-Jul-23</td>\n",
       "      <td>Read Full Text</td>\n",
       "      <td>https://www.siu.on.ca/en/directors_report_deta...</td>\n",
       "    </tr>\n",
       "    <tr>\n",
       "      <th>4</th>\n",
       "      <td>23-OCD-094</td>\n",
       "      <td>10-Jul-23</td>\n",
       "      <td>Read Full Text</td>\n",
       "      <td>https://www.siu.on.ca/en/directors_report_deta...</td>\n",
       "    </tr>\n",
       "  </tbody>\n",
       "</table>\n",
       "</div>"
      ],
      "text/plain": [
       "  Case Number Date Report Signed       Link Text  \\\n",
       "0  23-OCI-103          03-Aug-23  Read Full Text   \n",
       "1  23-OCI-102          02-Aug-23  Read Full Text   \n",
       "2  23-PVI-099          11-Jul-23  Read Full Text   \n",
       "3  23-TCD-098          11-Jul-23  Read Full Text   \n",
       "4  23-OCD-094          10-Jul-23  Read Full Text   \n",
       "\n",
       "                                                URLs  \n",
       "0  https://www.siu.on.ca/en/directors_report_deta...  \n",
       "1  https://www.siu.on.ca/en/directors_report_deta...  \n",
       "2  https://www.siu.on.ca/en/directors_report_deta...  \n",
       "3  https://www.siu.on.ca/en/directors_report_deta...  \n",
       "4  https://www.siu.on.ca/en/directors_report_deta...  "
      ]
     },
     "execution_count": 2,
     "metadata": {},
     "output_type": "execute_result"
    }
   ],
   "source": [
    "# import pages to scrape from the csv file\n",
    "df = pd.read_csv(\"reports_to_scrape/tracking_injustice_siu_2018_2023_data.csv\")\n",
    "df.head()"
   ]
  },
  {
   "cell_type": "code",
   "execution_count": 3,
   "id": "51326c9b-ab63-4be0-9d89-dad0a0e77f71",
   "metadata": {},
   "outputs": [
    {
     "data": {
      "text/plain": [
       "1108"
      ]
     },
     "execution_count": 3,
     "metadata": {},
     "output_type": "execute_result"
    }
   ],
   "source": [
    "len(df)"
   ]
  },
  {
   "cell_type": "code",
   "execution_count": null,
   "id": "6b13356d-3b80-42b6-949c-ed92698f899c",
   "metadata": {},
   "outputs": [],
   "source": [
    "# get the link from the case number part of the df\n",
    "\n",
    "cases = df[\"URLs\"].tolist()\n",
    "index = 0\n",
    "for caselink in cases:\n",
    "    \n",
    "    # scrape the first directors report 17-OFD-379\n",
    "    page = urlopen(caselink)\n",
    "    html = page.read().decode(\"utf-8\")\n",
    "    soup = BeautifulSoup(html, \"html.parser\")\n",
    "    # print(soup.find(\"title\"))\n",
    "    \n",
    "    # find if the page contains any of the keywords\n",
    "    contains_words = False\n",
    "    keywords = [\"Firearm injuries\", \"Custody injuries\", \"Other injuries/deaths\", \"Vehicle injuries\", \"Use of force\", \n",
    "                \"Unlawful or unnecessary exercise of authority\", \"Unnecessary force\", \"Unnecessary use of force\",\n",
    "                \"Assault\", \"Sexual assault\", \"Harm\", \"Excessive force\", \"Injury\"]\n",
    "\n",
    "    for i in keywords:\n",
    "        results = soup.body.find_all(string=re.compile('.*{0}.*'.format(i)), recursive=True)\n",
    "        # print('Found the word \"{0}\" {1} times\\n'.format(i, len(results)))\n",
    "        if len(results) > 0:\n",
    "            contains_words = True\n",
    "    \n",
    "    if contains_words == False:\n",
    "        df = df.drop(index)\n",
    "    \n",
    "    index += 1"
   ]
  },
  {
   "cell_type": "code",
   "execution_count": null,
   "id": "f9d1db10-bfef-45d7-abca-24dd401ada85",
   "metadata": {},
   "outputs": [],
   "source": [
    "df.head"
   ]
  },
  {
   "cell_type": "code",
   "execution_count": null,
   "id": "912ab267-a81e-401f-a31a-bfe67a596611",
   "metadata": {},
   "outputs": [],
   "source": [
    "len(df)"
   ]
  },
  {
   "cell_type": "code",
   "execution_count": null,
   "id": "8331f493-60af-481f-809e-ffce2f6feec7",
   "metadata": {},
   "outputs": [],
   "source": [
    "df.to_csv(\"reports_to_scrape/on_siu_2018_2023_w_keywords.csv\")"
   ]
  },
  {
   "cell_type": "code",
   "execution_count": null,
   "id": "670edf56-7450-48fb-9e4d-d085350e1a00",
   "metadata": {},
   "outputs": [],
   "source": []
  }
 ],
 "metadata": {
  "kernelspec": {
   "display_name": "Python 3 (ipykernel)",
   "language": "python",
   "name": "python3"
  },
  "language_info": {
   "codemirror_mode": {
    "name": "ipython",
    "version": 3
   },
   "file_extension": ".py",
   "mimetype": "text/x-python",
   "name": "python",
   "nbconvert_exporter": "python",
   "pygments_lexer": "ipython3",
   "version": "3.9.12"
  }
 },
 "nbformat": 4,
 "nbformat_minor": 5
}
