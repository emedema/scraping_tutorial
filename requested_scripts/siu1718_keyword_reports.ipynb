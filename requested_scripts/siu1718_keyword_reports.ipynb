{
 "cells": [
  {
   "cell_type": "code",
   "execution_count": 1,
   "id": "aff60ef8-9e8e-4bd5-abe2-3568b242aba0",
   "metadata": {},
   "outputs": [],
   "source": [
    "'''\n",
    "narrowing SIU reports from 2017/18 to only those with the following keywords\n",
    "the list of all the reports to scrape are in an csv file in reports_to_scrape folder downloaded from their site\n",
    "Ontario - Special Investigations Unit (SIU Annual Report 2021-2022 and Special Investigations Unit (SIU) director’s reports from 2005 to November 2018 | Ontario.ca) \n",
    "Firearm injuries\n",
    "Custody injuries\n",
    "Other injuries/deaths\n",
    "Vehicle injuries\n",
    "Use of force\n",
    "Unlawful or unnecessary exercise of authority \n",
    "Unnecessary force\n",
    "Unnecessary use of force\n",
    "Assault\n",
    "Sexual assault\n",
    "Harm\n",
    "Excessive force\n",
    "Injury\n",
    "'''\n",
    "\n",
    "# import libraries\n",
    "import pandas as pd\n",
    "import numpy as np\n",
    "from urllib.request import urlopen\n",
    "from bs4 import BeautifulSoup\n",
    "import re"
   ]
  },
  {
   "cell_type": "code",
   "execution_count": 2,
   "id": "13c5e56f-558a-44ea-becb-51f151cb4783",
   "metadata": {},
   "outputs": [
    {
     "data": {
      "text/html": [
       "<div>\n",
       "<style scoped>\n",
       "    .dataframe tbody tr th:only-of-type {\n",
       "        vertical-align: middle;\n",
       "    }\n",
       "\n",
       "    .dataframe tbody tr th {\n",
       "        vertical-align: top;\n",
       "    }\n",
       "\n",
       "    .dataframe thead th {\n",
       "        text-align: right;\n",
       "    }\n",
       "</style>\n",
       "<table border=\"1\" class=\"dataframe\">\n",
       "  <thead>\n",
       "    <tr style=\"text-align: right;\">\n",
       "      <th></th>\n",
       "      <th>Case number</th>\n",
       "      <th>Special Investigations Unit incident date</th>\n",
       "      <th>Special Investigations Unit published date</th>\n",
       "    </tr>\n",
       "  </thead>\n",
       "  <tbody>\n",
       "    <tr>\n",
       "      <th>0</th>\n",
       "      <td>&lt;a href=\"/page/siu-directors-report-case-17-of...</td>\n",
       "      <td>2017-12-30</td>\n",
       "      <td>2018-10-05</td>\n",
       "    </tr>\n",
       "    <tr>\n",
       "      <th>1</th>\n",
       "      <td>&lt;a href=\"/page/siu-directors-report-case-17-ov...</td>\n",
       "      <td>2017-10-11</td>\n",
       "      <td>2018-10-02</td>\n",
       "    </tr>\n",
       "    <tr>\n",
       "      <th>2</th>\n",
       "      <td>&lt;a href=\"/page/siu-directors-report-case-17-tc...</td>\n",
       "      <td>2017-11-08</td>\n",
       "      <td>2018-10-02</td>\n",
       "    </tr>\n",
       "    <tr>\n",
       "      <th>3</th>\n",
       "      <td>&lt;a href=\"/page/siu-directors-report-case-17-of...</td>\n",
       "      <td>2017-10-27</td>\n",
       "      <td>2018-09-26</td>\n",
       "    </tr>\n",
       "    <tr>\n",
       "      <th>4</th>\n",
       "      <td>&lt;a href=\"/page/siu-directors-report-case-18-pv...</td>\n",
       "      <td>2018-06-09</td>\n",
       "      <td>2018-09-25</td>\n",
       "    </tr>\n",
       "  </tbody>\n",
       "</table>\n",
       "</div>"
      ],
      "text/plain": [
       "                                         Case number  \\\n",
       "0  <a href=\"/page/siu-directors-report-case-17-of...   \n",
       "1  <a href=\"/page/siu-directors-report-case-17-ov...   \n",
       "2  <a href=\"/page/siu-directors-report-case-17-tc...   \n",
       "3  <a href=\"/page/siu-directors-report-case-17-of...   \n",
       "4  <a href=\"/page/siu-directors-report-case-18-pv...   \n",
       "\n",
       "  Special Investigations Unit incident date  \\\n",
       "0                                2017-12-30   \n",
       "1                                2017-10-11   \n",
       "2                                2017-11-08   \n",
       "3                                2017-10-27   \n",
       "4                                2018-06-09   \n",
       "\n",
       "  Special Investigations Unit published date  \n",
       "0                                 2018-10-05  \n",
       "1                                 2018-10-02  \n",
       "2                                 2018-10-02  \n",
       "3                                 2018-09-26  \n",
       "4                                 2018-09-25  "
      ]
     },
     "execution_count": 2,
     "metadata": {},
     "output_type": "execute_result"
    }
   ],
   "source": [
    "# import pages to scrape from the csv file\n",
    "df = pd.read_csv(\"reports_to_scrape/on_siu_2018.csv\")\n",
    "df.head()"
   ]
  },
  {
   "cell_type": "code",
   "execution_count": 3,
   "id": "7b2f7f2a-b8d6-45dd-bcd2-9483befd6b1f",
   "metadata": {},
   "outputs": [
    {
     "data": {
      "text/plain": [
       "301"
      ]
     },
     "execution_count": 3,
     "metadata": {},
     "output_type": "execute_result"
    }
   ],
   "source": [
    "len(df)"
   ]
  },
  {
   "cell_type": "code",
   "execution_count": 4,
   "id": "9ce92b4a-dbd1-4897-be55-32b5e8f54684",
   "metadata": {},
   "outputs": [],
   "source": [
    "# base url for page is: https://www.ontario.ca/\n",
    "baseurl = \"https://www.ontario.ca\""
   ]
  },
  {
   "cell_type": "code",
   "execution_count": 5,
   "id": "cfd8d41a-4bd7-41bd-99bf-0aeda77b186f",
   "metadata": {},
   "outputs": [],
   "source": [
    "# get the link from the case number part of the df\n",
    "\n",
    "cases = df[\"Case number\"].tolist()\n",
    "index = 0\n",
    "for case in cases:\n",
    "    # print(case)\n",
    "\n",
    "    soup = BeautifulSoup(case, \"html.parser\")\n",
    "    link = soup.find(\"a\")['href']\n",
    "\n",
    "    # print(link)\n",
    "    url = baseurl + link\n",
    "    \n",
    "    # scrape the first directors report 17-OFD-379\n",
    "    page = urlopen(url)\n",
    "    html = page.read().decode(\"utf-8\")\n",
    "    soup = BeautifulSoup(html, \"html.parser\")\n",
    "    # print(soup.find(\"title\"))\n",
    "    \n",
    "    # find if the page contains any of the keywords\n",
    "    contains_words = False\n",
    "    keywords = [\"Firearm injuries\", \"Custody injuries\", \"Other injuries/deaths\", \"Vehicle injuries\", \"Use of force\", \n",
    "                \"Unlawful or unnecessary exercise of authority Unnecessary force\", \"Unnecessary use of force\",\n",
    "                \"Assault\", \"Sexual assault\", \"Harm\", \"Excessive force\", \"Injury\"]\n",
    "\n",
    "    for i in keywords:\n",
    "        results = soup.body.find_all(string=re.compile('.*{0}.*'.format(i)), recursive=True)\n",
    "        # print('Found the word \"{0}\" {1} times\\n'.format(i, len(results)))\n",
    "        if len(results) > 0:\n",
    "            contains_words = True\n",
    "    \n",
    "    if contains_words == False:\n",
    "        df = df.drop(index)\n",
    "    \n",
    "    index += 1"
   ]
  },
  {
   "cell_type": "code",
   "execution_count": 6,
   "id": "68c0e3f5-4ef3-481f-8730-740724618426",
   "metadata": {},
   "outputs": [
    {
     "data": {
      "text/plain": [
       "<bound method NDFrame.head of                                            Case number  \\\n",
       "0    <a href=\"/page/siu-directors-report-case-17-of...   \n",
       "1    <a href=\"/page/siu-directors-report-case-17-ov...   \n",
       "2    <a href=\"/page/siu-directors-report-case-17-tc...   \n",
       "3    <a href=\"/page/siu-directors-report-case-17-of...   \n",
       "4    <a href=\"/page/siu-directors-report-case-18-pv...   \n",
       "..                                                 ...   \n",
       "294  <a href=\"/page/siu-directors-report-case-16-oc...   \n",
       "295  <a href=\"/page/siu-directors-report-case-16-tc...   \n",
       "296  <a href=\"/page/siu-directors-report-case-17-pc...   \n",
       "298  <a href=\"/page/siu-directors-report-case-17-ov...   \n",
       "299  <a href=\"/page/siu-directors-report-case-16-oc...   \n",
       "\n",
       "    Special Investigations Unit incident date  \\\n",
       "0                                  2017-12-30   \n",
       "1                                  2017-10-11   \n",
       "2                                  2017-11-08   \n",
       "3                                  2017-10-27   \n",
       "4                                  2018-06-09   \n",
       "..                                        ...   \n",
       "294                                2016-02-28   \n",
       "295                                2016-02-07   \n",
       "296                                2017-06-24   \n",
       "298                                2017-01-16   \n",
       "299                                2016-02-23   \n",
       "\n",
       "    Special Investigations Unit published date  \n",
       "0                                   2018-10-05  \n",
       "1                                   2018-10-02  \n",
       "2                                   2018-10-02  \n",
       "3                                   2018-09-26  \n",
       "4                                   2018-09-25  \n",
       "..                                         ...  \n",
       "294                                 2017-06-20  \n",
       "295                                 2017-06-19  \n",
       "296                                 2017-06-08  \n",
       "298                                 2017-05-26  \n",
       "299                                 2017-05-25  \n",
       "\n",
       "[290 rows x 3 columns]>"
      ]
     },
     "execution_count": 6,
     "metadata": {},
     "output_type": "execute_result"
    }
   ],
   "source": [
    "df.head"
   ]
  },
  {
   "cell_type": "code",
   "execution_count": 7,
   "id": "f4c84b12-fe01-43c9-8153-76864d3ad2ee",
   "metadata": {},
   "outputs": [
    {
     "data": {
      "text/plain": [
       "290"
      ]
     },
     "execution_count": 7,
     "metadata": {},
     "output_type": "execute_result"
    }
   ],
   "source": [
    "len(df)"
   ]
  },
  {
   "cell_type": "code",
   "execution_count": 8,
   "id": "7ec838e0-b08b-4be8-ba72-5852568e5c2b",
   "metadata": {},
   "outputs": [],
   "source": [
    "df.to_csv(\"reports_to_scrape/on_siu_2018_w_keywords.csv\")"
   ]
  },
  {
   "cell_type": "code",
   "execution_count": null,
   "id": "865d19e0-0911-4081-8393-da7b62fc7ab4",
   "metadata": {},
   "outputs": [],
   "source": []
  }
 ],
 "metadata": {
  "kernelspec": {
   "display_name": "Python 3 (ipykernel)",
   "language": "python",
   "name": "python3"
  },
  "language_info": {
   "codemirror_mode": {
    "name": "ipython",
    "version": 3
   },
   "file_extension": ".py",
   "mimetype": "text/x-python",
   "name": "python",
   "nbconvert_exporter": "python",
   "pygments_lexer": "ipython3",
   "version": "3.9.12"
  }
 },
 "nbformat": 4,
 "nbformat_minor": 5
}
