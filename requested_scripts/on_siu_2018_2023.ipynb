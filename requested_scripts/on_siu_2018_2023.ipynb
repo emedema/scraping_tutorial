{
 "cells": [
  {
   "cell_type": "code",
   "execution_count": 1,
   "id": "192bed8f-237f-4804-9322-6211ff7c0390",
   "metadata": {},
   "outputs": [],
   "source": [
    "# scraping the Ontario SIU Directors Reports from 2017 to 2018\n",
    "# the reports to scrape are in an csv file in reports_to_scrape folder downloaded from their site\n",
    "\n",
    "# import libraries\n",
    "import pandas as pd\n",
    "import numpy as np\n",
    "from urllib.request import Request, urlopen\n",
    "from bs4 import BeautifulSoup\n",
    "import bs4\n",
    "import re\n",
    "from tqdm import tqdm"
   ]
  },
  {
   "cell_type": "code",
   "execution_count": 2,
   "id": "6897b532-310c-471e-bb87-49a717a13225",
   "metadata": {},
   "outputs": [],
   "source": [
    "def get_inner_text(tag):\n",
    "    if isinstance(tag, bs4.element.NavigableString):\n",
    "        return tag\n",
    "    \n",
    "    if len(tag.contents) > 0:\n",
    "        results = []\n",
    "        \n",
    "        for content in tag.contents:\n",
    "            text = get_inner_text(content)\n",
    "            if text is not None:\n",
    "                results.append(text)\n",
    "            \n",
    "        return ''.join(results)\n",
    "    \n",
    "    return tag.string  "
   ]
  },
  {
   "cell_type": "code",
   "execution_count": 3,
   "id": "9342ecdb-ac08-484f-b6b3-7a60b270c0d7",
   "metadata": {},
   "outputs": [
    {
     "data": {
      "text/html": [
       "<div>\n",
       "<style scoped>\n",
       "    .dataframe tbody tr th:only-of-type {\n",
       "        vertical-align: middle;\n",
       "    }\n",
       "\n",
       "    .dataframe tbody tr th {\n",
       "        vertical-align: top;\n",
       "    }\n",
       "\n",
       "    .dataframe thead th {\n",
       "        text-align: right;\n",
       "    }\n",
       "</style>\n",
       "<table border=\"1\" class=\"dataframe\">\n",
       "  <thead>\n",
       "    <tr style=\"text-align: right;\">\n",
       "      <th></th>\n",
       "      <th>Unnamed: 0</th>\n",
       "      <th>Case Number</th>\n",
       "      <th>Date Report Signed</th>\n",
       "      <th>Link Text</th>\n",
       "      <th>URLs</th>\n",
       "    </tr>\n",
       "  </thead>\n",
       "  <tbody>\n",
       "    <tr>\n",
       "      <th>0</th>\n",
       "      <td>2</td>\n",
       "      <td>23-PVI-099</td>\n",
       "      <td>11-Jul-23</td>\n",
       "      <td>Read Full Text</td>\n",
       "      <td>https://www.siu.on.ca/en/directors_report_deta...</td>\n",
       "    </tr>\n",
       "    <tr>\n",
       "      <th>1</th>\n",
       "      <td>6</td>\n",
       "      <td>23-OCI-091</td>\n",
       "      <td>10-Jul-23</td>\n",
       "      <td>Read Full Text</td>\n",
       "      <td>https://www.siu.on.ca/en/directors_report_deta...</td>\n",
       "    </tr>\n",
       "    <tr>\n",
       "      <th>2</th>\n",
       "      <td>10</td>\n",
       "      <td>23-OCI-083</td>\n",
       "      <td>10-Jul-23</td>\n",
       "      <td>Read Full Text</td>\n",
       "      <td>https://www.siu.on.ca/en/directors_report_deta...</td>\n",
       "    </tr>\n",
       "    <tr>\n",
       "      <th>3</th>\n",
       "      <td>13</td>\n",
       "      <td>23-OVI-078</td>\n",
       "      <td>07-Jul-23</td>\n",
       "      <td>Read Full Text</td>\n",
       "      <td>https://www.siu.on.ca/en/directors_report_deta...</td>\n",
       "    </tr>\n",
       "    <tr>\n",
       "      <th>4</th>\n",
       "      <td>14</td>\n",
       "      <td>23-OCI-077</td>\n",
       "      <td>07-Jul-23</td>\n",
       "      <td>Read Full Text</td>\n",
       "      <td>https://www.siu.on.ca/en/directors_report_deta...</td>\n",
       "    </tr>\n",
       "  </tbody>\n",
       "</table>\n",
       "</div>"
      ],
      "text/plain": [
       "   Unnamed: 0 Case Number Date Report Signed       Link Text  \\\n",
       "0           2  23-PVI-099          11-Jul-23  Read Full Text   \n",
       "1           6  23-OCI-091          10-Jul-23  Read Full Text   \n",
       "2          10  23-OCI-083          10-Jul-23  Read Full Text   \n",
       "3          13  23-OVI-078          07-Jul-23  Read Full Text   \n",
       "4          14  23-OCI-077          07-Jul-23  Read Full Text   \n",
       "\n",
       "                                                URLs  \n",
       "0  https://www.siu.on.ca/en/directors_report_deta...  \n",
       "1  https://www.siu.on.ca/en/directors_report_deta...  \n",
       "2  https://www.siu.on.ca/en/directors_report_deta...  \n",
       "3  https://www.siu.on.ca/en/directors_report_deta...  \n",
       "4  https://www.siu.on.ca/en/directors_report_deta...  "
      ]
     },
     "execution_count": 3,
     "metadata": {},
     "output_type": "execute_result"
    }
   ],
   "source": [
    "# import pages to scrape from the csv file\n",
    "df = pd.read_csv(\"reports_to_scrape/on_siu_2018_2023_w_keywords.csv\")\n",
    "df.head()"
   ]
  },
  {
   "cell_type": "code",
   "execution_count": 4,
   "id": "3ca0b41e-cbff-42e4-a723-8a7c4653e15f",
   "metadata": {},
   "outputs": [],
   "source": [
    "# get the link from the case number part of the df\n",
    "\n",
    "case_urls = df[\"URLs\"].tolist()"
   ]
  },
  {
   "cell_type": "code",
   "execution_count": 5,
   "id": "f5904b27-8915-4f21-b294-36e3e07bb991",
   "metadata": {},
   "outputs": [
    {
     "name": "stdout",
     "output_type": "stream",
     "text": [
      "<title>Special Investigations Unit -- Director's Report Details, Case Number: 23-PVI-099</title>\n"
     ]
    }
   ],
   "source": [
    "# scrape the first directors report 23-PVI-099 \t\n",
    "\n",
    "hdr = {'User-Agent': 'Mozilla/5.0'}\n",
    "req = Request(case_urls[0],headers=hdr)\n",
    "page = urlopen(req)\n",
    "html = page.read().decode(\"utf-8\")\n",
    "soup = BeautifulSoup(html, \"html.parser\")\n",
    "print(soup.find(\"title\"))"
   ]
  },
  {
   "cell_type": "code",
   "execution_count": 6,
   "id": "969eb26b-9714-4579-89f1-d29157555614",
   "metadata": {},
   "outputs": [],
   "source": [
    "def find_investigation_section(soup):\n",
    "    try:\n",
    "        investigation_title = soup.find(\"h2\", string=\"The Investigation\")\n",
    "\n",
    "\n",
    "        next_sibling = investigation_title.next_sibling\n",
    "        notification = [next_sibling]\n",
    "\n",
    "        while next_sibling.next_sibling.name == \"div\":\n",
    "            next_sibling = next_sibling.next_sibling\n",
    "            notification.append(next_sibling)\n",
    "\n",
    "        #print(notification)\n",
    "        return notification\n",
    "    except:\n",
    "        return \"Error finding Investigation Section\""
   ]
  },
  {
   "cell_type": "code",
   "execution_count": 7,
   "id": "f7182c9e-dee3-401e-993b-e4382e9d0ed0",
   "metadata": {},
   "outputs": [
    {
     "data": {
      "text/plain": [
       "'On March 30, 2023, at 8:41 p.m., the '"
      ]
     },
     "execution_count": 7,
     "metadata": {},
     "output_type": "execute_result"
    }
   ],
   "source": [
    "# Information we are looking for:\n",
    "# Province, city, police service, officer name, year, consequences for civilians (injuries), \n",
    "# consequences, if any, for officers (fine, dismissal, none, etc.), \n",
    "# investigation outcome (charge, acquittal complaint dismissal, etc.), and reason for police call. \n",
    "\n",
    "province = \"Ontario\"\n",
    "\n",
    "# a lot of the information we might be looking for can be found in section 3 of the report\n",
    "text = soup.find_all(\"h3\")[5].next_sibling.get_text()\n",
    "text"
   ]
  },
  {
   "cell_type": "code",
   "execution_count": 8,
   "id": "d1c1d99c-7d98-400d-9c38-226abcb0b191",
   "metadata": {},
   "outputs": [
    {
     "name": "stdout",
     "output_type": "stream",
     "text": [
      "2023\n"
     ]
    }
   ],
   "source": [
    "def find_year(soup):\n",
    "    text = str(find_investigation_section(soup))\n",
    "    if text != \"Error finding Investigation Section\":\n",
    "        match = re.search(r\"(20\\d{2})\", text)\n",
    "        if match is not None:\n",
    "            return match.group(1)\n",
    "    else:\n",
    "        return text\n",
    "\n",
    "year = find_year(soup)\n",
    "print(year)"
   ]
  },
  {
   "cell_type": "code",
   "execution_count": 9,
   "id": "b9f1f23b-09c1-4e17-a067-e5382ef86c64",
   "metadata": {},
   "outputs": [],
   "source": [
    "# list from https://www.oacp.ca/en/about-us/ontario-police-organizations.aspx\n",
    "ontario_police_services = [\n",
    "    'Akwesasne Mohawk Police Service',\n",
    "    'Anishinabek Police Service',\n",
    "    'Aylmer Police Service',\n",
    "    'Barrie Police Service',\n",
    "    'Belleville Police Service',\n",
    "    'Brantford Police Service',\n",
    "    'Brockville Police Service',\n",
    "    'Chatham Kent Police Service',\n",
    "    'City of Kawartha Lakes Police Service',\n",
    "    'Cobourg Police Service',\n",
    "    'Cornwall Police Service',\n",
    "    'Deep River Police Service',\n",
    "    'Durham Regional Police Service',\n",
    "    'Dryden Police Service',\n",
    "    'Greater Sudbury Police Service',\n",
    "    'Guelph Police Service',\n",
    "    'Halton Regional Police Service',\n",
    "    'Hamilton Police Service',\n",
    "    'Hanover Police Service',\n",
    "    'Kingston Police',\n",
    "    'Lac Seul Police Service',\n",
    "    'LaSalle Police Service',\n",
    "    'London Police Service',\n",
    "    'Niagara Parks Police',\n",
    "    'Niagara Regional Police Service',\n",
    "    'Nishnawbe-Aski Police Service',\n",
    "    'North Bay Police Service',\n",
    "    'Ontario Provincial Police',\n",
    "    'Owen Sound Police Service',\n",
    "    'Ottawa Police Service',\n",
    "    'Peterborough Police Service',\n",
    "    'Peel Regional Police',\n",
    "    'Port Hope Police Service',\n",
    "    'Rama Police Service',\n",
    "    'Sarnia Police Service',\n",
    "    'Royal Canadian Mounted Police',\n",
    "    'Sault Ste. Marie Police Service',\n",
    "    'Saugeen Shores Police Service',\n",
    "    'Smiths Falls Police Service',\n",
    "    'Six Nations Police Service',\n",
    "    'St. Thomas Police Service',\n",
    "    'Strathroy-Caradoc Police Service',\n",
    "    'South Simcoe Police Service',\n",
    "    'Timmins Police Service',\n",
    "    'Stratford Police Service',\n",
    "    'Thunder Bay Police Service',\n",
    "    'Treaty Three Police Service',\n",
    "    'Toronto Police Service',\n",
    "    'Waterloo Regional Police Service',\n",
    "    'U.C.C.M. Anishnaabe Police',\n",
    "    'Wikwemikong Tribal Police Service',\n",
    "    'West Grey Police Service',\n",
    "    'Woodstock Police Service',\n",
    "    'Windsor Police Service',\n",
    "    'York Regional Police'\n",
    "]"
   ]
  },
  {
   "cell_type": "code",
   "execution_count": 10,
   "id": "f0ff1637-8d2b-4d37-a215-b26a0e90678f",
   "metadata": {},
   "outputs": [],
   "source": [
    "def find_police_service(soup):\n",
    "    text = str(find_investigation_section(soup))\n",
    "    if text != \"Error finding Investigation Section\":\n",
    "        for service_name in ontario_police_services:\n",
    "            if service_name in text:\n",
    "                return service_name\n",
    "    else:\n",
    "        return text"
   ]
  },
  {
   "cell_type": "code",
   "execution_count": 11,
   "id": "0923444f-a8d9-4bef-9acd-7025a9a9f2d6",
   "metadata": {},
   "outputs": [
    {
     "name": "stdout",
     "output_type": "stream",
     "text": [
      "Ontario Provincial Police\n"
     ]
    }
   ],
   "source": [
    "police = find_police_service(soup)\n",
    "print(police)\n",
    "#print(text)"
   ]
  },
  {
   "cell_type": "code",
   "execution_count": 12,
   "id": "e9532f53-65ff-4bd7-92bd-72703d5d55f5",
   "metadata": {},
   "outputs": [],
   "source": [
    "municipalities_df = pd.read_csv(\"mmah-list-of-ontario-municipalities-en-utf8-2022-10-05.csv\")\n",
    "\n",
    "def get_municipality_name(tag):\n",
    "    a_soup = BeautifulSoup(tag, \"html.parser\")\n",
    "    \n",
    "    if isinstance(a_soup, bs4.element.Tag):\n",
    "        full_name = get_inner_text(a_soup)\n",
    "    else:\n",
    "        full_name = tag\n",
    "        \n",
    "    \n",
    "        \n",
    "    return full_name.split(\", \")[0]\n",
    "    \n",
    "\n",
    "list_of_municipalities_in_ontario = list(municipalities_df[\"Municipality\"].apply(get_municipality_name))"
   ]
  },
  {
   "cell_type": "code",
   "execution_count": 13,
   "id": "da4ec4f7-011e-43d1-af62-ee8e31a1a9c4",
   "metadata": {},
   "outputs": [],
   "source": [
    "def find_incident_narrative():\n",
    "    try:\n",
    "        \n",
    "        if soup.find(\"h2\", string=\"Incident Narrative\"):\n",
    "            incident_narrative_title = soup.find(\"h2\", string=\"Incident Narrative\")\n",
    "        elif soup.find(\"h2\", string=\"Incident narrative\"): \n",
    "            incident_narrative_title = soup.find(\"h2\", string=\"Incident Narrative\")\n",
    "        elif soup.find(\"h2\", string=\"Event Chronology\"):\n",
    "            incident_narrative_title = soup.find(\"h2\", string=\"Event Chronology\")\n",
    "        else:\n",
    "            incident_narrative_title = soup.find(\"h2\", string=\"The Investigation\")\n",
    "        \n",
    "        \n",
    "        next_sibling = incident_narrative_title.next_sibling\n",
    "        incident_narrative = [next_sibling]\n",
    "\n",
    "        while next_sibling.next_sibling.name == \"div\":\n",
    "            next_sibling = next_sibling.next_sibling\n",
    "            incident_narrative.append(next_sibling)\n",
    "\n",
    "        #print(incident_narrative)\n",
    "        return incident_narrative\n",
    "    except:\n",
    "        print(\"Issue with finding Incident Narrative\")\n",
    "        return \"Issue with finding Incident Narrative\""
   ]
  },
  {
   "cell_type": "code",
   "execution_count": 14,
   "id": "58ccbfe8-052e-4def-981a-2c7ea86af903",
   "metadata": {},
   "outputs": [],
   "source": [
    "def find_city(soup):\n",
    "    incident_narratives = find_incident_narrative()\n",
    "    if incident_narratives != \"Issue with finding Incident Narrative\":    \n",
    "        for p in incident_narratives:\n",
    "            for municipality in list_of_municipalities_in_ontario:\n",
    "                regex = r\"\\b(?=\\w)\" + re.escape(municipality) + r\"\\b(?!\\w)\"\n",
    "                match = re.search(regex, get_inner_text(p), re.IGNORECASE)\n",
    "                if match:\n",
    "                    return municipality\n",
    "    else:\n",
    "        return \"Municipality not found\""
   ]
  },
  {
   "cell_type": "code",
   "execution_count": 15,
   "id": "efa822f9-fed9-487f-9acb-ff268287b88a",
   "metadata": {},
   "outputs": [],
   "source": [
    "find_city(soup)"
   ]
  },
  {
   "cell_type": "code",
   "execution_count": 16,
   "id": "0bb23997-980e-4a7d-94cd-415dd4fbfaab",
   "metadata": {},
   "outputs": [],
   "source": [
    "# officer name is not included in accordance with section 21 of FIPPA\n",
    "# moving onto civilian consquences, this can be found in the text we have\n",
    "# apparent its not always consistent where this info is\n",
    "    \n",
    "from string import punctuation\n",
    "\n",
    "def find_civilian_consequences(soup):\n",
    "    \n",
    "    keywords = ['death', 'injury', 'fracture', 'diagnosed', \n",
    "                'diagnoses', 'dead', 'post-mortem', 'cause of death', \n",
    "                'injuries', 'CT scan', 'assessed', 'assessment', 'treated']\n",
    "    \n",
    "    try:\n",
    "    \n",
    "        if soup.find(\"h3\", string = \"Nature of Injuries / Treatment\"):\n",
    "            temp = soup.find(\"h3\", string = \"Nature of Injuries / Treatment\")\n",
    "        elif soup.find(\"h3\", string = \"Nature of Injury/Treatment\"): \n",
    "            temp = soup.find(\"h3\", string = \"Nature of Injury/Treatment\")\n",
    "        elif soup.find(\"h3\", string = \"Cause of Death\"):\n",
    "            temp = soup.find(\"h3\", string = \"Cause of Death\")\n",
    "        elif soup.find(\"h3\", string = \"Cause of death\"):\n",
    "            temp = soup.find(\"h3\", string = \"Cause of death\")\n",
    "        elif soup.find(\"h3\", string = \"Nature of Injuries / Treatment/Cause of Death\"):\n",
    "            temp = soup.find(\"h3\", string = \"Nature of Injuries / Treatment/Cause of Death\")\n",
    "        elif soup.find(\"h3\", string = \"Nature of injury/treatment\"):\n",
    "            temp = soup.find(\"h3\", string = \"Nature of injury/treatment\")\n",
    "        else:\n",
    "            temp = soup.find(\"h2\", string=\"Incident Narrative\")\n",
    "\n",
    "        next_sibling = temp.next_sibling\n",
    "        incident = [next_sibling]\n",
    "\n",
    "\n",
    "        while next_sibling.next_sibling.name == \"div\":\n",
    "            next_sibling = next_sibling.next_sibling\n",
    "            incident.append(next_sibling.text)\n",
    "\n",
    "        civilian_consequences = \"\"\n",
    "\n",
    "        CLEANR = re.compile('<.*?>|&([a-z0-9]+|#[0-9]{1,6}|#x[0-9a-f]{1,6});')\n",
    "        cleantext = re.sub(CLEANR, '', str(incident))\n",
    "        temp = cleantext.split('.')\n",
    "        for i in temp:\n",
    "            for j in keywords:\n",
    "                if j in i:\n",
    "                    civilian_consequences = i\n",
    "\n",
    "        if civilian_consequences == \"\":\n",
    "            civilian_consequences = cleantext\n",
    "\n",
    "        civilian_consequences=[i.strip(punctuation) for i in civilian_consequences.split()]\n",
    "        civilian_consequences = \" \".join(civilian_consequences)\n",
    "    \n",
    "    except:\n",
    "        print(soup.find(\"title\"))\n",
    "        civilian_consequences = \"Error when extracting consequences.\"\n",
    "        # I think it is because they use the Event Chronology title instead \n",
    "        # but I want to see how many use it before fixing it all over\n",
    "    \n",
    "    return civilian_consequences"
   ]
  },
  {
   "cell_type": "code",
   "execution_count": 17,
   "id": "8d560897-6f73-4913-88b5-5cdbb7717910",
   "metadata": {},
   "outputs": [
    {
     "name": "stdout",
     "output_type": "stream",
     "text": [
      "He was taken to hospital with a fractured back and possibly other injuries\n"
     ]
    }
   ],
   "source": [
    "print(find_civilian_consequences(soup))"
   ]
  },
  {
   "cell_type": "code",
   "execution_count": 18,
   "id": "780a5c5e-46b7-44bc-a14a-54d361470b18",
   "metadata": {},
   "outputs": [],
   "source": [
    "# find consequences for officer\n",
    "# personally, I can't find an area of these reports that mention consequences for the officers"
   ]
  },
  {
   "cell_type": "code",
   "execution_count": 19,
   "id": "7db78201-90c1-41ec-ae93-75da1f8a01f2",
   "metadata": {},
   "outputs": [],
   "source": [
    "def find_decision_date(soup):\n",
    "    body = soup.find(\"div\", class_=\"body-field\")\n",
    "    decision_date_element = body.contents[-3]\n",
    "    decision_date = decision_date_element.string\n",
    "    \n",
    "    if decision_date is not None:\n",
    "        decision_date = decision_date.replace(\"\\xa0\", \" \")"
   ]
  },
  {
   "cell_type": "code",
   "execution_count": 20,
   "id": "0f37f94e-fbc6-49bd-91d5-c4ef886513bc",
   "metadata": {},
   "outputs": [],
   "source": [
    "def find_investigation_outcome(soup):\n",
    "    # investigation outcome\n",
    "    # this is found in the director's analysis section/last paragraph of the report\n",
    "    all_h2 = soup.find_all(\"h2\")\n",
    "\n",
    "    \n",
    "    mandate = None\n",
    "    for h2 in all_h2:\n",
    "        if h2.find(text=re.compile(\"Mandate of the\")):\n",
    "            mandate = h2\n",
    "            break\n",
    "            \n",
    "    if mandate is None:\n",
    "        return None\n",
    "    \n",
    "    decision_paragraph = mandate.parent.contents[-9]\n",
    "    decision_final_paragraph_text = get_inner_text(decision_paragraph)\n",
    "    \n",
    "    keywords = ['basis', 'reasonable grounds']\n",
    "    \n",
    "    decision = \"\"\n",
    "\n",
    "    CLEANR = re.compile('<.*?>|&([a-z0-9]+|#[0-9]{1,6}|#x[0-9a-f]{1,6});')\n",
    "    cleantext = re.sub(CLEANR, '', str(decision_final_paragraph_text))\n",
    "    temp = cleantext.split('.')\n",
    "    for i in temp:\n",
    "        for j in keywords:\n",
    "            if j in i:\n",
    "                decision = i\n",
    "\n",
    "    if decision == \"\":\n",
    "        decision = cleantext\n",
    "\n",
    "    decision=[i.strip(punctuation) for i in decision.split()]\n",
    "    decision = \" \".join(decision)\n",
    "\n",
    "    return decision"
   ]
  },
  {
   "cell_type": "code",
   "execution_count": 21,
   "id": "2f9b10bf-4959-4f7e-a7e8-0105f626f192",
   "metadata": {},
   "outputs": [
    {
     "data": {
      "text/plain": [
       "'As such there is no basis for proceeding with criminal charges in this case'"
      ]
     },
     "execution_count": 21,
     "metadata": {},
     "output_type": "execute_result"
    }
   ],
   "source": [
    "\n",
    "find_investigation_outcome(soup)"
   ]
  },
  {
   "cell_type": "code",
   "execution_count": 22,
   "id": "d875c987-be8d-4698-8dea-b9bf10dbf9a2",
   "metadata": {},
   "outputs": [],
   "source": [
    "# reason for police investigation\n",
    "# not really sure about this one\n"
   ]
  },
  {
   "cell_type": "code",
   "execution_count": 23,
   "id": "0285fe52-a442-4fac-96a8-8d35d32d2a63",
   "metadata": {},
   "outputs": [
    {
     "name": "stderr",
     "output_type": "stream",
     "text": [
      " 37%|██████████████████████████▏                                            | 257/697 [01:05<02:11,  3.34it/s]"
     ]
    },
    {
     "name": "stdout",
     "output_type": "stream",
     "text": [
      "<title>Special Investigations Unit -- Director's Report Details, Case Number: 20-TCD-124</title>\n"
     ]
    },
    {
     "name": "stderr",
     "output_type": "stream",
     "text": [
      " 67%|███████████████████████████████████████████████▎                       | 464/697 [01:56<00:56,  4.11it/s]"
     ]
    },
    {
     "name": "stdout",
     "output_type": "stream",
     "text": [
      "<title>Special Investigations Unit -- Director's Report Details, Case Number: 19-TCI-073a</title>\n"
     ]
    },
    {
     "name": "stderr",
     "output_type": "stream",
     "text": [
      " 74%|████████████████████████████████████████████████████▋                  | 517/697 [02:09<00:41,  4.32it/s]"
     ]
    },
    {
     "name": "stdout",
     "output_type": "stream",
     "text": [
      "<title>Special Investigations Unit -- Director's Report Details, Case Number: 18-OCI-342</title>\n",
      "Issue with finding Incident Narrative\n"
     ]
    },
    {
     "name": "stderr",
     "output_type": "stream",
     "text": [
      "100%|███████████████████████████████████████████████████████████████████████| 697/697 [02:53<00:00,  4.02it/s]\n"
     ]
    }
   ],
   "source": [
    "results = []\n",
    "for case in tqdm(case_urls):\n",
    "    \n",
    "    hdr = {'User-Agent': 'Mozilla/5.0'}\n",
    "    req = Request(case,headers=hdr)\n",
    "    page = urlopen(req)\n",
    "    html = page.read().decode(\"utf-8\")\n",
    "    soup = BeautifulSoup(html, \"html.parser\")\n",
    "    \n",
    "    province = \"Ontario\"\n",
    "    \n",
    "    year = find_year(soup)\n",
    "    police_service = find_police_service(soup)\n",
    "    \n",
    "    civilian_consequences = find_civilian_consequences(soup)\n",
    "    \n",
    "    city = find_city(soup)\n",
    "    \n",
    "    investigation_outcome = find_investigation_outcome(soup)\n",
    "    \n",
    "    results.append([year, police_service, city, province, civilian_consequences, investigation_outcome, case])\n",
    "    \n",
    "results_df = pd.DataFrame(results, columns=['Year',  'Police Service', 'City', 'Province', 'Civilian Consequences', 'Investigation Final Decision', 'Link'])\n",
    "    "
   ]
  },
  {
   "cell_type": "code",
   "execution_count": 24,
   "id": "e3f8468c-d7b5-4f1a-908d-2fac1e8a4222",
   "metadata": {},
   "outputs": [
    {
     "data": {
      "text/html": [
       "<div>\n",
       "<style scoped>\n",
       "    .dataframe tbody tr th:only-of-type {\n",
       "        vertical-align: middle;\n",
       "    }\n",
       "\n",
       "    .dataframe tbody tr th {\n",
       "        vertical-align: top;\n",
       "    }\n",
       "\n",
       "    .dataframe thead th {\n",
       "        text-align: right;\n",
       "    }\n",
       "</style>\n",
       "<table border=\"1\" class=\"dataframe\">\n",
       "  <thead>\n",
       "    <tr style=\"text-align: right;\">\n",
       "      <th></th>\n",
       "      <th>Year</th>\n",
       "      <th>Police Service</th>\n",
       "      <th>City</th>\n",
       "      <th>Province</th>\n",
       "      <th>Civilian Consequences</th>\n",
       "      <th>Investigation Final Decision</th>\n",
       "      <th>Link</th>\n",
       "    </tr>\n",
       "  </thead>\n",
       "  <tbody>\n",
       "    <tr>\n",
       "      <th>0</th>\n",
       "      <td>2023</td>\n",
       "      <td>Ontario Provincial Police</td>\n",
       "      <td>None</td>\n",
       "      <td>Ontario</td>\n",
       "      <td>He was taken to hospital with a fractured back...</td>\n",
       "      <td>As such there is no basis for proceeding with ...</td>\n",
       "      <td>https://www.siu.on.ca/en/directors_report_deta...</td>\n",
       "    </tr>\n",
       "    <tr>\n",
       "      <th>1</th>\n",
       "      <td>2023</td>\n",
       "      <td>Kingston Police</td>\n",
       "      <td>Kingston</td>\n",
       "      <td>Ontario</td>\n",
       "      <td>The Complainant was transported to hospital in...</td>\n",
       "      <td>In the result as there are no reasonable groun...</td>\n",
       "      <td>https://www.siu.on.ca/en/directors_report_deta...</td>\n",
       "    </tr>\n",
       "    <tr>\n",
       "      <th>2</th>\n",
       "      <td>2023</td>\n",
       "      <td>London Police Service</td>\n",
       "      <td>London</td>\n",
       "      <td>Ontario</td>\n",
       "      <td>Following his arrest the Complainant was taken...</td>\n",
       "      <td>In the result whether or not the Complainant’s...</td>\n",
       "      <td>https://www.siu.on.ca/en/directors_report_deta...</td>\n",
       "    </tr>\n",
       "    <tr>\n",
       "      <th>3</th>\n",
       "      <td>2023</td>\n",
       "      <td>Peel Regional Police</td>\n",
       "      <td>None</td>\n",
       "      <td>Ontario</td>\n",
       "      <td>His wife and son were fortunate to have escape...</td>\n",
       "      <td>Be that as it may as there are no reasonable g...</td>\n",
       "      <td>https://www.siu.on.ca/en/directors_report_deta...</td>\n",
       "    </tr>\n",
       "    <tr>\n",
       "      <th>4</th>\n",
       "      <td>2023</td>\n",
       "      <td>Niagara Regional Police Service</td>\n",
       "      <td>Niagara</td>\n",
       "      <td>Ontario</td>\n",
       "      <td>The Complainant was taken into custody and tra...</td>\n",
       "      <td>4 As such there is no basis for proceeding wit...</td>\n",
       "      <td>https://www.siu.on.ca/en/directors_report_deta...</td>\n",
       "    </tr>\n",
       "  </tbody>\n",
       "</table>\n",
       "</div>"
      ],
      "text/plain": [
       "   Year                   Police Service      City Province  \\\n",
       "0  2023        Ontario Provincial Police      None  Ontario   \n",
       "1  2023                  Kingston Police  Kingston  Ontario   \n",
       "2  2023            London Police Service    London  Ontario   \n",
       "3  2023             Peel Regional Police      None  Ontario   \n",
       "4  2023  Niagara Regional Police Service   Niagara  Ontario   \n",
       "\n",
       "                               Civilian Consequences  \\\n",
       "0  He was taken to hospital with a fractured back...   \n",
       "1  The Complainant was transported to hospital in...   \n",
       "2  Following his arrest the Complainant was taken...   \n",
       "3  His wife and son were fortunate to have escape...   \n",
       "4  The Complainant was taken into custody and tra...   \n",
       "\n",
       "                        Investigation Final Decision  \\\n",
       "0  As such there is no basis for proceeding with ...   \n",
       "1  In the result as there are no reasonable groun...   \n",
       "2  In the result whether or not the Complainant’s...   \n",
       "3  Be that as it may as there are no reasonable g...   \n",
       "4  4 As such there is no basis for proceeding wit...   \n",
       "\n",
       "                                                Link  \n",
       "0  https://www.siu.on.ca/en/directors_report_deta...  \n",
       "1  https://www.siu.on.ca/en/directors_report_deta...  \n",
       "2  https://www.siu.on.ca/en/directors_report_deta...  \n",
       "3  https://www.siu.on.ca/en/directors_report_deta...  \n",
       "4  https://www.siu.on.ca/en/directors_report_deta...  "
      ]
     },
     "execution_count": 24,
     "metadata": {},
     "output_type": "execute_result"
    }
   ],
   "source": [
    "results_df.head()"
   ]
  },
  {
   "cell_type": "code",
   "execution_count": 25,
   "id": "9d48c903-6cf7-40e2-a2ed-478106d04a14",
   "metadata": {},
   "outputs": [],
   "source": [
    "results_df.to_csv(\"results_on_2018_2023.csv\", index=False)"
   ]
  },
  {
   "cell_type": "code",
   "execution_count": null,
   "id": "06cc43fb-27b7-459e-9678-4888a0941266",
   "metadata": {},
   "outputs": [],
   "source": []
  }
 ],
 "metadata": {
  "kernelspec": {
   "display_name": "Python 3 (ipykernel)",
   "language": "python",
   "name": "python3"
  },
  "language_info": {
   "codemirror_mode": {
    "name": "ipython",
    "version": 3
   },
   "file_extension": ".py",
   "mimetype": "text/x-python",
   "name": "python",
   "nbconvert_exporter": "python",
   "pygments_lexer": "ipython3",
   "version": "3.9.12"
  }
 },
 "nbformat": 4,
 "nbformat_minor": 5
}
