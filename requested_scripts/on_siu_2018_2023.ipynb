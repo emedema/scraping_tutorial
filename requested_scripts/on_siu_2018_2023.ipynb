{
 "cells": [
  {
   "cell_type": "code",
   "execution_count": 1,
   "id": "192bed8f-237f-4804-9322-6211ff7c0390",
   "metadata": {},
   "outputs": [],
   "source": [
    "# scraping the Ontario SIU Directors Reports from 2017 to 2018\n",
    "# the reports to scrape are in an csv file in reports_to_scrape folder downloaded from their site\n",
    "\n",
    "# import libraries\n",
    "import pandas as pd\n",
    "import numpy as np\n",
    "from urllib.request import Request, urlopen\n",
    "from bs4 import BeautifulSoup\n",
    "import bs4\n",
    "import re\n",
    "from tqdm import tqdm"
   ]
  },
  {
   "cell_type": "code",
   "execution_count": 2,
   "id": "6897b532-310c-471e-bb87-49a717a13225",
   "metadata": {},
   "outputs": [],
   "source": [
    "def get_inner_text(tag):\n",
    "    if isinstance(tag, bs4.element.NavigableString):\n",
    "        return tag\n",
    "    \n",
    "    if len(tag.contents) > 0:\n",
    "        results = []\n",
    "        \n",
    "        for content in tag.contents:\n",
    "            text = get_inner_text(content)\n",
    "            if text is not None:\n",
    "                results.append(text)\n",
    "            \n",
    "        return ''.join(results)\n",
    "    \n",
    "    return tag.string  "
   ]
  },
  {
   "cell_type": "code",
   "execution_count": 3,
   "id": "9342ecdb-ac08-484f-b6b3-7a60b270c0d7",
   "metadata": {},
   "outputs": [
    {
     "data": {
      "text/html": [
       "<div>\n",
       "<style scoped>\n",
       "    .dataframe tbody tr th:only-of-type {\n",
       "        vertical-align: middle;\n",
       "    }\n",
       "\n",
       "    .dataframe tbody tr th {\n",
       "        vertical-align: top;\n",
       "    }\n",
       "\n",
       "    .dataframe thead th {\n",
       "        text-align: right;\n",
       "    }\n",
       "</style>\n",
       "<table border=\"1\" class=\"dataframe\">\n",
       "  <thead>\n",
       "    <tr style=\"text-align: right;\">\n",
       "      <th></th>\n",
       "      <th>Unnamed: 0</th>\n",
       "      <th>Case Number</th>\n",
       "      <th>Date Report Signed</th>\n",
       "      <th>Link Text</th>\n",
       "      <th>URLs</th>\n",
       "    </tr>\n",
       "  </thead>\n",
       "  <tbody>\n",
       "    <tr>\n",
       "      <th>0</th>\n",
       "      <td>2</td>\n",
       "      <td>23-PVI-099</td>\n",
       "      <td>11-Jul-23</td>\n",
       "      <td>Read Full Text</td>\n",
       "      <td>https://www.siu.on.ca/en/directors_report_deta...</td>\n",
       "    </tr>\n",
       "    <tr>\n",
       "      <th>1</th>\n",
       "      <td>6</td>\n",
       "      <td>23-OCI-091</td>\n",
       "      <td>10-Jul-23</td>\n",
       "      <td>Read Full Text</td>\n",
       "      <td>https://www.siu.on.ca/en/directors_report_deta...</td>\n",
       "    </tr>\n",
       "    <tr>\n",
       "      <th>2</th>\n",
       "      <td>10</td>\n",
       "      <td>23-OCI-083</td>\n",
       "      <td>10-Jul-23</td>\n",
       "      <td>Read Full Text</td>\n",
       "      <td>https://www.siu.on.ca/en/directors_report_deta...</td>\n",
       "    </tr>\n",
       "    <tr>\n",
       "      <th>3</th>\n",
       "      <td>13</td>\n",
       "      <td>23-OVI-078</td>\n",
       "      <td>07-Jul-23</td>\n",
       "      <td>Read Full Text</td>\n",
       "      <td>https://www.siu.on.ca/en/directors_report_deta...</td>\n",
       "    </tr>\n",
       "    <tr>\n",
       "      <th>4</th>\n",
       "      <td>14</td>\n",
       "      <td>23-OCI-077</td>\n",
       "      <td>07-Jul-23</td>\n",
       "      <td>Read Full Text</td>\n",
       "      <td>https://www.siu.on.ca/en/directors_report_deta...</td>\n",
       "    </tr>\n",
       "  </tbody>\n",
       "</table>\n",
       "</div>"
      ],
      "text/plain": [
       "   Unnamed: 0 Case Number Date Report Signed       Link Text  \\\n",
       "0           2  23-PVI-099          11-Jul-23  Read Full Text   \n",
       "1           6  23-OCI-091          10-Jul-23  Read Full Text   \n",
       "2          10  23-OCI-083          10-Jul-23  Read Full Text   \n",
       "3          13  23-OVI-078          07-Jul-23  Read Full Text   \n",
       "4          14  23-OCI-077          07-Jul-23  Read Full Text   \n",
       "\n",
       "                                                URLs  \n",
       "0  https://www.siu.on.ca/en/directors_report_deta...  \n",
       "1  https://www.siu.on.ca/en/directors_report_deta...  \n",
       "2  https://www.siu.on.ca/en/directors_report_deta...  \n",
       "3  https://www.siu.on.ca/en/directors_report_deta...  \n",
       "4  https://www.siu.on.ca/en/directors_report_deta...  "
      ]
     },
     "execution_count": 3,
     "metadata": {},
     "output_type": "execute_result"
    }
   ],
   "source": [
    "# import pages to scrape from the csv file\n",
    "df = pd.read_csv(\"reports_to_scrape/on_siu_2018_2023_w_keywords.csv\")\n",
    "df.head()"
   ]
  },
  {
   "cell_type": "code",
   "execution_count": 4,
   "id": "3ca0b41e-cbff-42e4-a723-8a7c4653e15f",
   "metadata": {},
   "outputs": [],
   "source": [
    "# get the link from the case number part of the df\n",
    "\n",
    "case_urls = df[\"URLs\"].tolist()"
   ]
  },
  {
   "cell_type": "code",
   "execution_count": 5,
   "id": "f5904b27-8915-4f21-b294-36e3e07bb991",
   "metadata": {},
   "outputs": [
    {
     "name": "stdout",
     "output_type": "stream",
     "text": [
      "<title>Special Investigations Unit -- Director's Report Details, Case Number: 23-PVI-099</title>\n"
     ]
    }
   ],
   "source": [
    "# scrape the first directors report 23-PVI-099 \t\n",
    "\n",
    "hdr = {'User-Agent': 'Mozilla/5.0'}\n",
    "req = Request(case_urls[0],headers=hdr)\n",
    "page = urlopen(req)\n",
    "html = page.read().decode(\"utf-8\")\n",
    "soup = BeautifulSoup(html, \"html.parser\")\n",
    "print(soup.find(\"title\"))"
   ]
  },
  {
   "cell_type": "code",
   "execution_count": 6,
   "id": "f7182c9e-dee3-401e-993b-e4382e9d0ed0",
   "metadata": {},
   "outputs": [
    {
     "data": {
      "text/plain": [
       "'On March 30, 2023, at 8:41 p.m., the '"
      ]
     },
     "execution_count": 6,
     "metadata": {},
     "output_type": "execute_result"
    }
   ],
   "source": [
    "# Information we are looking for:\n",
    "# Province, city, police service, officer name, year, consequences for civilians (injuries), \n",
    "# consequences, if any, for officers (fine, dismissal, none, etc.), \n",
    "# investigation outcome (charge, acquittal complaint dismissal, etc.), and reason for police call. \n",
    "\n",
    "province = \"Ontario\"\n",
    "\n",
    "# a lot of the information we might be looking for can be found in section 3 of the report\n",
    "text = soup.find_all(\"h3\")[5].next_sibling.get_text()\n",
    "text"
   ]
  },
  {
   "cell_type": "code",
   "execution_count": 7,
   "id": "d1c1d99c-7d98-400d-9c38-226abcb0b191",
   "metadata": {},
   "outputs": [
    {
     "name": "stdout",
     "output_type": "stream",
     "text": [
      "2023\n"
     ]
    }
   ],
   "source": [
    "def find_year(text):\n",
    "    match = re.search(r\"(20\\d{2})\", text)\n",
    "    if match is not None:\n",
    "        return match.group(1)\n",
    "\n",
    "\n",
    "year = find_year(text)\n",
    "print(year)"
   ]
  },
  {
   "cell_type": "code",
   "execution_count": 8,
   "id": "b9f1f23b-09c1-4e17-a067-e5382ef86c64",
   "metadata": {},
   "outputs": [],
   "source": [
    "# list from https://www.oacp.ca/en/about-us/ontario-police-organizations.aspx\n",
    "ontario_police_services = [\n",
    "    'Akwesasne Mohawk Police Service',\n",
    "    'Anishinabek Police Service',\n",
    "    'Aylmer Police Service',\n",
    "    'Barrie Police Service',\n",
    "    'Belleville Police Service',\n",
    "    'Brantford Police Service',\n",
    "    'Brockville Police Service',\n",
    "    'Chatham Kent Police Service',\n",
    "    'City of Kawartha Lakes Police Service',\n",
    "    'Cobourg Police Service',\n",
    "    'Cornwall Police Service',\n",
    "    'Deep River Police Service',\n",
    "    'Dryden Police Service',\n",
    "    'Greater Sudbury Police Service',\n",
    "    'Guelph Police Service',\n",
    "    'Halton Regional Police Service',\n",
    "    'Hamilton Police Service',\n",
    "    'Hanover Police Service',\n",
    "    'Kingston Police',\n",
    "    'Lac Seul Police Service',\n",
    "    'LaSalle Police Service',\n",
    "    'London Police Service',\n",
    "    'Niagara Parks Police',\n",
    "    'Niagara Regional Police Service',\n",
    "    'Nishnawbe-Aski Police Service',\n",
    "    'North Bay Police Service',\n",
    "    'Ontario Provincial Police',\n",
    "    'Owen Sound Police Service',\n",
    "    'Ottawa Police Service',\n",
    "    'Peterborough Police Service',\n",
    "    'Peel Regional Police',\n",
    "    'Port Hope Police Service',\n",
    "    'Rama Police Service',\n",
    "    'Sarnia Police Service',\n",
    "    'Royal Canadian Mounted Police',\n",
    "    'Sault Ste. Marie Police Service',\n",
    "    'Saugeen Shores Police Service',\n",
    "    'Smiths Falls Police Service',\n",
    "    'Six Nations Police Service',\n",
    "    'St. Thomas Police Service',\n",
    "    'Strathroy-Caradoc Police Service',\n",
    "    'South Simcoe Police Service',\n",
    "    'Timmins Police Service',\n",
    "    'Stratford Police Service',\n",
    "    'Thunder Bay Police Service',\n",
    "    'Treaty Three Police Service',\n",
    "    'Toronto Police Service',\n",
    "    'Waterloo Regional Police Service',\n",
    "    'U.C.C.M. Anishnaabe Police',\n",
    "    'Wikwemikong Tribal Police Service',\n",
    "    'West Grey Police Service',\n",
    "    'Woodstock Police Service',\n",
    "    'Windsor Police Service',\n",
    "    'York Regional Police'\n",
    "]"
   ]
  },
  {
   "cell_type": "code",
   "execution_count": 9,
   "id": "f0ff1637-8d2b-4d37-a215-b26a0e90678f",
   "metadata": {},
   "outputs": [],
   "source": [
    "def find_police_service(text):\n",
    "    for service_name in ontario_police_services:\n",
    "        if service_name in text:\n",
    "            return service_name"
   ]
  },
  {
   "cell_type": "code",
   "execution_count": 10,
   "id": "e9532f53-65ff-4bd7-92bd-72703d5d55f5",
   "metadata": {},
   "outputs": [],
   "source": [
    "municipalities_df = pd.read_csv(\"mmah-list-of-ontario-municipalities-en-utf8-2022-10-05.csv\")\n",
    "\n",
    "def get_municipality_name(tag):\n",
    "    a_soup = BeautifulSoup(tag, \"html.parser\")\n",
    "    \n",
    "    if isinstance(a_soup, bs4.element.Tag):\n",
    "        full_name = get_inner_text(a_soup)\n",
    "    else:\n",
    "        full_name = tag\n",
    "        \n",
    "    \n",
    "        \n",
    "    return full_name.split(\", \")[0]\n",
    "    \n",
    "\n",
    "list_of_municipalities_in_ontario = list(municipalities_df[\"Municipality\"].apply(get_municipality_name))"
   ]
  },
  {
   "cell_type": "code",
   "execution_count": 11,
   "id": "9d01a3b0-5826-4502-a931-f4b5e5b90cde",
   "metadata": {},
   "outputs": [],
   "source": [
    "incident_narrative_title = soup.find(\"h2\", string=\"Incident Narrative\")"
   ]
  },
  {
   "cell_type": "code",
   "execution_count": 12,
   "id": "da4ec4f7-011e-43d1-af62-ee8e31a1a9c4",
   "metadata": {},
   "outputs": [
    {
     "name": "stdout",
     "output_type": "stream",
     "text": [
      "['\\n', <div>\n",
      "          The material events in question are clear on the evidence collected by the <abbr title=\"Special Investigations Unit\">SIU</abbr> and may briefly be summarized.<br> <br>  In the afternoon of March 30, 2023, the Complainant was operating a Mercedes-Benz vehicle eastbound on Highway 401.  He was doing so recklessly and at speed, weaving in and out of traffic, passing motorists on the shoulders of the highway, and travelling upwards of 160 km/h on the estimate of some witnesses. <br> <br>  The <abbr title=\"Subject Officer\">SO</abbr> was also travelling eastbound on Highway 401 at the time.  While operating an unmarked Charger at about 120 km/h, the officer was passed in the centre lane by the Complainant’s Mercedes-Benz.  Deciding he would stop the vehicle for speeding, the <abbr title=\"Subject Officer\">SO</abbr> activated his vehicle’s emergency lights and accelerated to about 180 km/h attempting to catch up to the Mercedes-Benz.  As the Complainant continued to increase the distance between their vehicles, the officer pulled over onto the south shoulder of the highway and came to a stop east of Culloden Line.<br> <br>  The Complainant continued apace.  As he approached Plank Line, he veered onto the off-ramp and lost control of the vehicle.  The Mercedes-Benz left the roadway, entered onto a grassy median and flipped several times before coming to a rest on its roof.<br> <br>  First responders arrived on scene and extricated the Complainant from the wreckage.  He was taken to hospital with a fractured back and, possibly, other injuries.                    \n",
      "\n",
      "</br></br></br></br></br></br></br></br></div>]\n"
     ]
    }
   ],
   "source": [
    "next_sibling = incident_narrative_title.next_sibling\n",
    "incident_narrative = [next_sibling]\n",
    "\n",
    "while next_sibling.next_sibling.name == \"div\":\n",
    "    next_sibling = next_sibling.next_sibling\n",
    "    incident_narrative.append(next_sibling)\n",
    "    \n",
    "print(incident_narrative)"
   ]
  },
  {
   "cell_type": "code",
   "execution_count": 13,
   "id": "58ccbfe8-052e-4def-981a-2c7ea86af903",
   "metadata": {},
   "outputs": [],
   "source": [
    "def find_city(soup):\n",
    "    incident_narrative_title = soup.find(\"h2\", string=\"Incident Narrative\")\n",
    "    \n",
    "    \n",
    "    next_sibling = incident_narrative_title.next_sibling\n",
    "    incident_narratives = [next_sibling]\n",
    "    \n",
    "\n",
    "    while next_sibling.next_sibling.name == \"div\":\n",
    "        next_sibling = next_sibling.next_sibling\n",
    "        incident_narratives.append(next_sibling)\n",
    "        \n",
    "    for p in incident_narratives:\n",
    "        for municipality in list_of_municipalities_in_ontario:\n",
    "            regex = r\"\\b(?=\\w)\" + re.escape(municipality) + r\"\\b(?!\\w)\"\n",
    "            match = re.search(regex, get_inner_text(p), re.IGNORECASE)\n",
    "            if match:\n",
    "                return municipality"
   ]
  },
  {
   "cell_type": "code",
   "execution_count": 14,
   "id": "efa822f9-fed9-487f-9acb-ff268287b88a",
   "metadata": {},
   "outputs": [],
   "source": [
    "find_city(soup)"
   ]
  },
  {
   "cell_type": "code",
   "execution_count": 15,
   "id": "0bb23997-980e-4a7d-94cd-415dd4fbfaab",
   "metadata": {},
   "outputs": [],
   "source": [
    "# officer name is not included in accordance with section 21 of FIPPA\n",
    "# moving onto civilian consquences, this can be found in the text we have\n",
    "# apparent its not always consistent where this info is\n",
    "    \n",
    "from string import punctuation\n",
    "\n",
    "def find_civilian_consequences(soup):\n",
    "    \n",
    "    keywords = ['death', 'injury', 'fracture', 'diagnosed', \n",
    "                'diagnoses', 'dead', 'post-mortem', 'cause of death', \n",
    "                'injuries', 'CT scan', 'assessed', 'assessment', 'treated']\n",
    "    \n",
    "    try:\n",
    "    \n",
    "        if soup.find(\"h3\", string = \"Nature of Injuries / Treatment\"):\n",
    "            temp = soup.find(\"h3\", string = \"Nature of Injuries / Treatment\")\n",
    "        elif soup.find(\"h3\", string = \"Nature of Injury/Treatment\"): \n",
    "            temp = soup.find(\"h3\", string = \"Nature of Injury/Treatment\")\n",
    "        elif soup.find(\"h3\", string = \"Cause of Death\"):\n",
    "            temp = soup.find(\"h3\", string = \"Cause of Death\")\n",
    "        elif soup.find(\"h3\", string = \"Cause of death\"):\n",
    "            temp = soup.find(\"h3\", string = \"Cause of death\")\n",
    "        elif soup.find(\"h3\", string = \"Nature of Injuries / Treatment/Cause of Death\"):\n",
    "            temp = soup.find(\"h3\", string = \"Nature of Injuries / Treatment/Cause of Death\")\n",
    "        elif soup.find(\"h3\", string = \"Nature of injury/treatment\"):\n",
    "            temp = soup.find(\"h3\", string = \"Nature of injury/treatment\")\n",
    "        else:\n",
    "            temp = soup.find(\"h2\", string=\"Incident Narrative\")\n",
    "\n",
    "        next_sibling = temp.next_sibling\n",
    "        incident = [next_sibling]\n",
    "\n",
    "\n",
    "        while next_sibling.next_sibling.name == \"div\":\n",
    "            next_sibling = next_sibling.next_sibling\n",
    "            incident.append(next_sibling.text)\n",
    "\n",
    "        civilian_consequences = \"\"\n",
    "\n",
    "        CLEANR = re.compile('<.*?>|&([a-z0-9]+|#[0-9]{1,6}|#x[0-9a-f]{1,6});')\n",
    "        cleantext = re.sub(CLEANR, '', str(incident))\n",
    "        temp = cleantext.split('.')\n",
    "        for i in temp:\n",
    "            for j in keywords:\n",
    "                if j in i:\n",
    "                    civilian_consequences = i\n",
    "\n",
    "        if civilian_consequences == \"\":\n",
    "            civilian_consequences = cleantext\n",
    "\n",
    "        civilian_consequences=[i.strip(punctuation) for i in civilian_consequences.split()]\n",
    "        civilian_consequences = \" \".join(civilian_consequences)\n",
    "    \n",
    "    except:\n",
    "        print(soup.find(\"title\"))\n",
    "        civilian_consequences = \"Error when extracting consequences.\"\n",
    "        # I think it is because they use the Event Chronology title instead \n",
    "        # but I want to see how many use it before fixing it all over\n",
    "    \n",
    "    return civilian_consequences"
   ]
  },
  {
   "cell_type": "code",
   "execution_count": 16,
   "id": "8d560897-6f73-4913-88b5-5cdbb7717910",
   "metadata": {},
   "outputs": [
    {
     "name": "stdout",
     "output_type": "stream",
     "text": [
      "He was taken to hospital with a fractured back and possibly other injuries\n"
     ]
    }
   ],
   "source": [
    "print(find_civilian_consequences(soup))"
   ]
  },
  {
   "cell_type": "code",
   "execution_count": 17,
   "id": "780a5c5e-46b7-44bc-a14a-54d361470b18",
   "metadata": {},
   "outputs": [],
   "source": [
    "# find consequences for officer\n",
    "# personally, I can't find an area of these reports that mention consequences for the officers"
   ]
  },
  {
   "cell_type": "code",
   "execution_count": 18,
   "id": "7db78201-90c1-41ec-ae93-75da1f8a01f2",
   "metadata": {},
   "outputs": [],
   "source": [
    "def find_decision_date(soup):\n",
    "    body = soup.find(\"div\", class_=\"body-field\")\n",
    "    decision_date_element = body.contents[-3]\n",
    "    decision_date = decision_date_element.string\n",
    "    \n",
    "    if decision_date is not None:\n",
    "        decision_date = decision_date.replace(\"\\xa0\", \" \")"
   ]
  },
  {
   "cell_type": "code",
   "execution_count": 19,
   "id": "0f37f94e-fbc6-49bd-91d5-c4ef886513bc",
   "metadata": {},
   "outputs": [],
   "source": [
    "def find_investigation_outcome(soup):\n",
    "    # investigation outcome\n",
    "    # this is found in the director's analysis section/last paragraph of the report\n",
    "    all_h2 = soup.find_all(\"h2\")\n",
    "\n",
    "    \n",
    "    mandate = None\n",
    "    for h2 in all_h2:\n",
    "        if h2.find(text=re.compile(\"Mandate of the\")):\n",
    "            mandate = h2\n",
    "            break\n",
    "            \n",
    "    if mandate is None:\n",
    "        return None\n",
    "    \n",
    "    \n",
    "    \n",
    "    decision_paragraph = mandate.parent.contents[-4]\n",
    "    decision_final_paragraph_text = get_inner_text(decision_paragraph)\n",
    "\n",
    "    return decision_final_paragraph_text"
   ]
  },
  {
   "cell_type": "code",
   "execution_count": 20,
   "id": "2f9b10bf-4959-4f7e-a7e8-0105f626f192",
   "metadata": {},
   "outputs": [
    {
     "data": {
      "text/plain": [
       "'<aside style=\"margin-top:2em;\"></aside>'"
      ]
     },
     "execution_count": 20,
     "metadata": {},
     "output_type": "execute_result"
    }
   ],
   "source": [
    "\n",
    "find_investigation_outcome(soup)"
   ]
  },
  {
   "cell_type": "code",
   "execution_count": 21,
   "id": "d875c987-be8d-4698-8dea-b9bf10dbf9a2",
   "metadata": {},
   "outputs": [],
   "source": [
    "# reason for police investigation\n",
    "# not really sure about this one\n"
   ]
  },
  {
   "cell_type": "code",
   "execution_count": 22,
   "id": "0285fe52-a442-4fac-96a8-8d35d32d2a63",
   "metadata": {},
   "outputs": [
    {
     "name": "stderr",
     "output_type": "stream",
     "text": [
      " 37%|██████████████████████████                                             | 256/697 [03:12<05:32,  1.33it/s]"
     ]
    },
    {
     "name": "stdout",
     "output_type": "stream",
     "text": [
      "<title>Special Investigations Unit -- Director's Report Details, Case Number: 20-TCD-124</title>\n"
     ]
    },
    {
     "name": "stderr",
     "output_type": "stream",
     "text": [
      "\n"
     ]
    },
    {
     "ename": "AttributeError",
     "evalue": "'NoneType' object has no attribute 'next_sibling'",
     "output_type": "error",
     "traceback": [
      "\u001b[0;31m---------------------------------------------------------------------------\u001b[0m",
      "\u001b[0;31mAttributeError\u001b[0m                            Traceback (most recent call last)",
      "\u001b[0;32m/var/folders/q_/d2k9l24j62lbjw452v2y9gbr0000gn/T/ipykernel_70382/3966472421.py\u001b[0m in \u001b[0;36m<module>\u001b[0;34m\u001b[0m\n\u001b[1;32m     18\u001b[0m     \u001b[0mcivilian_consequences\u001b[0m \u001b[0;34m=\u001b[0m \u001b[0mfind_civilian_consequences\u001b[0m\u001b[0;34m(\u001b[0m\u001b[0msoup\u001b[0m\u001b[0;34m)\u001b[0m\u001b[0;34m\u001b[0m\u001b[0;34m\u001b[0m\u001b[0m\n\u001b[1;32m     19\u001b[0m \u001b[0;34m\u001b[0m\u001b[0m\n\u001b[0;32m---> 20\u001b[0;31m     \u001b[0mcity\u001b[0m \u001b[0;34m=\u001b[0m \u001b[0mfind_city\u001b[0m\u001b[0;34m(\u001b[0m\u001b[0msoup\u001b[0m\u001b[0;34m)\u001b[0m\u001b[0;34m\u001b[0m\u001b[0;34m\u001b[0m\u001b[0m\n\u001b[0m\u001b[1;32m     21\u001b[0m \u001b[0;34m\u001b[0m\u001b[0m\n\u001b[1;32m     22\u001b[0m     \u001b[0minvestigation_outcome\u001b[0m \u001b[0;34m=\u001b[0m \u001b[0mfind_investigation_outcome\u001b[0m\u001b[0;34m(\u001b[0m\u001b[0msoup\u001b[0m\u001b[0;34m)\u001b[0m\u001b[0;34m\u001b[0m\u001b[0;34m\u001b[0m\u001b[0m\n",
      "\u001b[0;32m/var/folders/q_/d2k9l24j62lbjw452v2y9gbr0000gn/T/ipykernel_70382/4257838407.py\u001b[0m in \u001b[0;36mfind_city\u001b[0;34m(soup)\u001b[0m\n\u001b[1;32m      3\u001b[0m \u001b[0;34m\u001b[0m\u001b[0m\n\u001b[1;32m      4\u001b[0m \u001b[0;34m\u001b[0m\u001b[0m\n\u001b[0;32m----> 5\u001b[0;31m     \u001b[0mnext_sibling\u001b[0m \u001b[0;34m=\u001b[0m \u001b[0mincident_narrative_title\u001b[0m\u001b[0;34m.\u001b[0m\u001b[0mnext_sibling\u001b[0m\u001b[0;34m\u001b[0m\u001b[0;34m\u001b[0m\u001b[0m\n\u001b[0m\u001b[1;32m      6\u001b[0m     \u001b[0mincident_narratives\u001b[0m \u001b[0;34m=\u001b[0m \u001b[0;34m[\u001b[0m\u001b[0mnext_sibling\u001b[0m\u001b[0;34m]\u001b[0m\u001b[0;34m\u001b[0m\u001b[0;34m\u001b[0m\u001b[0m\n\u001b[1;32m      7\u001b[0m \u001b[0;34m\u001b[0m\u001b[0m\n",
      "\u001b[0;31mAttributeError\u001b[0m: 'NoneType' object has no attribute 'next_sibling'"
     ]
    }
   ],
   "source": [
    "results = []\n",
    "for case in tqdm(case_urls):\n",
    "    \n",
    "    hdr = {'User-Agent': 'Mozilla/5.0'}\n",
    "    req = Request(case,headers=hdr)\n",
    "    page = urlopen(req)\n",
    "    html = page.read().decode(\"utf-8\")\n",
    "    soup = BeautifulSoup(html, \"html.parser\")\n",
    "    \n",
    "    province = \"Ontario\"\n",
    "\n",
    "    # a lot of the information we might be looking for can be found in section 3 of the report\n",
    "    text = soup.find_all(\"h3\")[3].next_sibling.get_text()\n",
    "    \n",
    "    year = find_year(text)\n",
    "    police_service = find_police_service(text)\n",
    "    \n",
    "    civilian_consequences = find_civilian_consequences(soup)\n",
    "    \n",
    "    city = find_city(soup)\n",
    "    \n",
    "    investigation_outcome = find_investigation_outcome(soup)\n",
    "    \n",
    "    results.append([year, police_service, city, province, civilian_consequences, investigation_outcome, case])\n",
    "    \n",
    "results_df = pd.DataFrame(results, columns=['Year',  'Police Service', 'City', 'Province', 'Civilian Consequences', 'Investigation Final Decision', 'Link'])\n",
    "    "
   ]
  },
  {
   "cell_type": "code",
   "execution_count": null,
   "id": "e3f8468c-d7b5-4f1a-908d-2fac1e8a4222",
   "metadata": {},
   "outputs": [],
   "source": [
    "results_df.head()"
   ]
  },
  {
   "cell_type": "code",
   "execution_count": null,
   "id": "9d48c903-6cf7-40e2-a2ed-478106d04a14",
   "metadata": {},
   "outputs": [],
   "source": [
    "results_df.to_csv(\"results_on_2018_2023.csv\", index=False)"
   ]
  },
  {
   "cell_type": "code",
   "execution_count": null,
   "id": "06cc43fb-27b7-459e-9678-4888a0941266",
   "metadata": {},
   "outputs": [],
   "source": []
  }
 ],
 "metadata": {
  "kernelspec": {
   "display_name": "Python 3 (ipykernel)",
   "language": "python",
   "name": "python3"
  },
  "language_info": {
   "codemirror_mode": {
    "name": "ipython",
    "version": 3
   },
   "file_extension": ".py",
   "mimetype": "text/x-python",
   "name": "python",
   "nbconvert_exporter": "python",
   "pygments_lexer": "ipython3",
   "version": "3.9.12"
  }
 },
 "nbformat": 4,
 "nbformat_minor": 5
}
