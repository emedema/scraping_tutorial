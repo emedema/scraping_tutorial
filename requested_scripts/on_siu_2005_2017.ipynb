{
 "cells": [
  {
   "cell_type": "code",
   "execution_count": 1,
   "id": "192bed8f-237f-4804-9322-6211ff7c0390",
   "metadata": {},
   "outputs": [],
   "source": [
    "# scraping the Ontario SIU Directors Reports from 2017 to 2018\n",
    "# the reports to scrape are in an csv file in reports_to_scrape folder downloaded from their site\n",
    "\n",
    "# import libraries\n",
    "import pandas as pd\n",
    "import numpy as np\n",
    "from urllib.request import Request, urlopen\n",
    "from bs4 import BeautifulSoup\n",
    "import bs4\n",
    "import re\n",
    "from tqdm import tqdm"
   ]
  },
  {
   "cell_type": "code",
   "execution_count": 2,
   "id": "6897b532-310c-471e-bb87-49a717a13225",
   "metadata": {},
   "outputs": [],
   "source": [
    "def get_inner_text(tag):\n",
    "    if isinstance(tag, bs4.element.NavigableString):\n",
    "        return tag\n",
    "    \n",
    "    if len(tag.contents) > 0:\n",
    "        results = []\n",
    "        \n",
    "        for content in tag.contents:\n",
    "            text = get_inner_text(content)\n",
    "            if text is not None:\n",
    "                results.append(text)\n",
    "            \n",
    "        return ''.join(results)\n",
    "    \n",
    "    return tag.string  "
   ]
  },
  {
   "cell_type": "code",
   "execution_count": 4,
   "id": "9342ecdb-ac08-484f-b6b3-7a60b270c0d7",
   "metadata": {},
   "outputs": [
    {
     "data": {
      "text/html": [
       "<div>\n",
       "<style scoped>\n",
       "    .dataframe tbody tr th:only-of-type {\n",
       "        vertical-align: middle;\n",
       "    }\n",
       "\n",
       "    .dataframe tbody tr th {\n",
       "        vertical-align: top;\n",
       "    }\n",
       "\n",
       "    .dataframe thead th {\n",
       "        text-align: right;\n",
       "    }\n",
       "</style>\n",
       "<table border=\"1\" class=\"dataframe\">\n",
       "  <thead>\n",
       "    <tr style=\"text-align: right;\">\n",
       "      <th></th>\n",
       "      <th>Unnamed: 0</th>\n",
       "      <th>Case number</th>\n",
       "      <th>Special Investigations Unit incident date</th>\n",
       "      <th>Special Investigations Unit published date</th>\n",
       "    </tr>\n",
       "  </thead>\n",
       "  <tbody>\n",
       "    <tr>\n",
       "      <th>0</th>\n",
       "      <td>2</td>\n",
       "      <td>&lt;a href=\"/page/siu-directors-report-case-05-tf...</td>\n",
       "      <td>2005-05-27</td>\n",
       "      <td>2005-08-25</td>\n",
       "    </tr>\n",
       "    <tr>\n",
       "      <th>1</th>\n",
       "      <td>12</td>\n",
       "      <td>&lt;a href=\"/page/siu-directors-report-case-15-of...</td>\n",
       "      <td>2015-04-04</td>\n",
       "      <td>2015-11-26</td>\n",
       "    </tr>\n",
       "    <tr>\n",
       "      <th>2</th>\n",
       "      <td>14</td>\n",
       "      <td>&lt;a href=\"/page/siu-directors-report-case-10-pf...</td>\n",
       "      <td>2010-05-10</td>\n",
       "      <td>2010-09-29</td>\n",
       "    </tr>\n",
       "    <tr>\n",
       "      <th>3</th>\n",
       "      <td>25</td>\n",
       "      <td>&lt;a href=\"/page/siu-directors-report-case-10-of...</td>\n",
       "      <td>2010-08-25</td>\n",
       "      <td>2011-01-11</td>\n",
       "    </tr>\n",
       "    <tr>\n",
       "      <th>4</th>\n",
       "      <td>32</td>\n",
       "      <td>&lt;a href=\"/page/siu-directors-report-case-11-of...</td>\n",
       "      <td>2011-06-22</td>\n",
       "      <td>2011-10-25</td>\n",
       "    </tr>\n",
       "  </tbody>\n",
       "</table>\n",
       "</div>"
      ],
      "text/plain": [
       "   Unnamed: 0                                        Case number  \\\n",
       "0           2  <a href=\"/page/siu-directors-report-case-05-tf...   \n",
       "1          12  <a href=\"/page/siu-directors-report-case-15-of...   \n",
       "2          14  <a href=\"/page/siu-directors-report-case-10-pf...   \n",
       "3          25  <a href=\"/page/siu-directors-report-case-10-of...   \n",
       "4          32  <a href=\"/page/siu-directors-report-case-11-of...   \n",
       "\n",
       "  Special Investigations Unit incident date  \\\n",
       "0                                2005-05-27   \n",
       "1                                2015-04-04   \n",
       "2                                2010-05-10   \n",
       "3                                2010-08-25   \n",
       "4                                2011-06-22   \n",
       "\n",
       "  Special Investigations Unit published date  \n",
       "0                                 2005-08-25  \n",
       "1                                 2015-11-26  \n",
       "2                                 2010-09-29  \n",
       "3                                 2011-01-11  \n",
       "4                                 2011-10-25  "
      ]
     },
     "execution_count": 4,
     "metadata": {},
     "output_type": "execute_result"
    }
   ],
   "source": [
    "# import pages to scrape from the csv file\n",
    "df = pd.read_csv(\"reports_to_scrape/on_siu_2005_2017_w_keywords.csv\")\n",
    "df.head()"
   ]
  },
  {
   "cell_type": "code",
   "execution_count": 5,
   "id": "a36109e4-37ba-47f0-90af-e2d95755a56c",
   "metadata": {},
   "outputs": [],
   "source": [
    "# base url for page is: https://www.ontario.ca/\n",
    "baseurl = \"https://www.ontario.ca\""
   ]
  },
  {
   "cell_type": "code",
   "execution_count": 6,
   "id": "3ca0b41e-cbff-42e4-a723-8a7c4653e15f",
   "metadata": {},
   "outputs": [
    {
     "name": "stdout",
     "output_type": "stream",
     "text": [
      "<a href=\"/page/siu-directors-report-case-15-ofd-061\">15-OFD-061</a>\n",
      "/page/siu-directors-report-case-15-ofd-061\n"
     ]
    }
   ],
   "source": [
    "# get the link from the case number part of the df\n",
    "\n",
    "cases = df[\"Case number\"].tolist()\n",
    "print(cases[1])\n",
    "\n",
    "soup = BeautifulSoup(cases[1], \"html.parser\")\n",
    "link = soup.find(\"a\")['href']\n",
    "\n",
    "print(link)"
   ]
  },
  {
   "cell_type": "code",
   "execution_count": 7,
   "id": "8f9c2c7a-48e0-43b7-a00c-559575fbb52b",
   "metadata": {},
   "outputs": [
    {
     "data": {
      "text/plain": [
       "'https://www.ontario.ca/page/siu-directors-report-case-15-ofd-061'"
      ]
     },
     "execution_count": 7,
     "metadata": {},
     "output_type": "execute_result"
    }
   ],
   "source": [
    "url = baseurl + link\n",
    "url"
   ]
  },
  {
   "cell_type": "code",
   "execution_count": 8,
   "id": "f5904b27-8915-4f21-b294-36e3e07bb991",
   "metadata": {},
   "outputs": [
    {
     "name": "stdout",
     "output_type": "stream",
     "text": [
      "<title>SIU Director’s Report - Case # 15-OFD-061 | ontario.ca</title>\n"
     ]
    }
   ],
   "source": [
    "# scrape the first directors report 17-OFD-379\n",
    "\n",
    "hdr = {'User-Agent': 'Mozilla/5.0'}\n",
    "req = Request(url,headers=hdr)\n",
    "page = urlopen(req)\n",
    "html = page.read().decode(\"utf-8\")\n",
    "soup = BeautifulSoup(html, \"html.parser\")\n",
    "print(soup.find(\"title\"))"
   ]
  },
  {
   "cell_type": "code",
   "execution_count": 19,
   "id": "132c8c0a-c61b-4ecb-92c4-8e88f80c7364",
   "metadata": {},
   "outputs": [
    {
     "data": {
      "text/plain": [
       "[<h2 class=\"alert__header-title h4\">Ontario.ca needs JavaScript to function properly and provide you with a fast, stable experience.</h2>,\n",
       " <h2 class=\"small\"> On this page <a class=\"show-on-focus text-right small margin-left-16-!\" href=\"#toc-end\">Skip this page navigation</a></h2>,\n",
       " <h2>Explanatory note</h2>,\n",
       " <h2>Director’s report</h2>,\n",
       " <h2>Notification of the <abbr title=\"Special Investigations Unit\">SIU</abbr></h2>,\n",
       " <h2>Overview - Tim Hortons</h2>,\n",
       " <h2>The investigation</h2>,\n",
       " <h2>Director’s decision under <abbr title=\"section\">s.</abbr> 113(7) of the <a href=\"/laws/statute/90p15\"><cite>Police Services Act</cite></a></h2>,\n",
       " <h2 class=\"h5 sidebar__header\" id=\"section-related\"> Related <span class=\"show-for-sr\">information</span></h2>,\n",
       " <h2 class=\"h3\">Footnotes</h2>,\n",
       " <h2 class=\"h4 footer-ministry__heading\"><div>Ministry of the Attorney General</div></h2>,\n",
       " <h2 class=\"h4 footer-ministry__heading\">Questions or comments</h2>]"
      ]
     },
     "execution_count": 19,
     "metadata": {},
     "output_type": "execute_result"
    }
   ],
   "source": [
    "soup.find_all(\"h2\")[3]"
   ]
  },
  {
   "cell_type": "code",
   "execution_count": 26,
   "id": "f7182c9e-dee3-401e-993b-e4382e9d0ed0",
   "metadata": {},
   "outputs": [
    {
     "name": "stdout",
     "output_type": "stream",
     "text": [
      "<h2>Notification of the <abbr title=\"Special Investigations Unit\">SIU</abbr></h2>\n"
     ]
    }
   ],
   "source": [
    "# Information we are looking for:\n",
    "# Province, city, police service, officer name, year, consequences for civilians (injuries), \n",
    "# consequences, if any, for officers (fine, dismissal, none, etc.), \n",
    "# investigation outcome (charge, acquittal complaint dismissal, etc.), and reason for police call. \n",
    "\n",
    "province = \"Ontario\"\n",
    "\n",
    "\n",
    "section_headers = soup.find_all(\"h2\")\n",
    "for header in section_headers:\n",
    "    if \"Notification\" in header.text:\n",
    "        notification_of_the_siu = header\n",
    "        print(notification_of_the_siu)\n"
   ]
  },
  {
   "cell_type": "code",
   "execution_count": 33,
   "id": "86b7f825-a121-4c87-b1c5-384b35763987",
   "metadata": {},
   "outputs": [
    {
     "data": {
      "text/plain": [
       "'Notification Date and Time: 04/05/2015 at 0030\\xa0hours Notified By: Police On April\\xa05,\\xa02015, at 0030\\xa0hrs, Notifying Officer of the Peterborough Police Service (PPS) reported the following. On April\\xa04,\\xa02015, at 2344\\xa0hrs, the PPS received a call for service at the Tim Hortons restaurant at 157 George Street North, Peterborough, regarding a man later identified by the PPS investigation to be [Deceased] waving a knife around. Civilian witnesses followed Deceased to the area of a location, Peterborough. A police officer later identified as [Subject Officer] arrived and at 2352\\xa0hrs, the officer reported shots fired. Deceased was pronounced dead at the scene. A police officer was taken to the hospital for treatment of a stab wound. Deceased was identified by a health card as bearing the name Deceased with a date of birth of ----redacted,\\xa01991.'"
      ]
     },
     "execution_count": 33,
     "metadata": {},
     "output_type": "execute_result"
    }
   ],
   "source": [
    "next_sibling = notification_of_the_siu.next_sibling\n",
    "notification_of_the_siu_paragraphs = []\n",
    "\n",
    "while next_sibling.name == \"p\":\n",
    "    notification_of_the_siu_paragraphs.append(next_sibling.get_text())\n",
    "    next_sibling = next_sibling.next_sibling\n",
    "    \n",
    "notification_of_the_siu_text = \" \".join(notification_of_the_siu_paragraphs)\n",
    "notification_of_the_siu_text"
   ]
  },
  {
   "cell_type": "code",
   "execution_count": 83,
   "id": "b7743de2-08b2-4561-9e2a-f6639629020d",
   "metadata": {},
   "outputs": [],
   "source": [
    "def get_notification_of_the_siu_text(soup):\n",
    "    section_headers = soup.find_all(\"h2\")\n",
    "    for header in section_headers:\n",
    "        if \"Notification\" in header.text:\n",
    "            notification_of_the_siu = header\n",
    "            \n",
    "            next_sibling = notification_of_the_siu.next_sibling\n",
    "            notification_of_the_siu_paragraphs = []\n",
    "\n",
    "            while next_sibling.name == \"p\":\n",
    "                notification_of_the_siu_paragraphs.append(next_sibling.get_text())\n",
    "                next_sibling = next_sibling.next_sibling\n",
    "\n",
    "            notification_of_the_siu_text = \" \".join(notification_of_the_siu_paragraphs)\n",
    "            \n",
    "            return  notification_of_the_siu_text            "
   ]
  },
  {
   "cell_type": "code",
   "execution_count": 34,
   "id": "d1c1d99c-7d98-400d-9c38-226abcb0b191",
   "metadata": {},
   "outputs": [
    {
     "name": "stdout",
     "output_type": "stream",
     "text": [
      "2015\n"
     ]
    }
   ],
   "source": [
    "def find_year(text):\n",
    "    match = re.search(r\"(20\\d{2})\", text)\n",
    "    if match is not None:\n",
    "        return match.group(1)\n",
    "\n",
    "\n",
    "year = find_year(notification_of_the_siu_text)\n",
    "print(year)"
   ]
  },
  {
   "cell_type": "code",
   "execution_count": 11,
   "id": "b9f1f23b-09c1-4e17-a067-e5382ef86c64",
   "metadata": {},
   "outputs": [],
   "source": [
    "# list from https://www.oacp.ca/en/about-us/ontario-police-organizations.aspx\n",
    "ontario_police_services = [\n",
    "    'Akwesasne Mohawk Police Service',\n",
    "    'Anishinabek Police Service',\n",
    "    'Aylmer Police Service',\n",
    "    'Barrie Police Service',\n",
    "    'Belleville Police Service',\n",
    "    'Brantford Police Service',\n",
    "    'Brockville Police Service',\n",
    "    'Chatham Kent Police Service',\n",
    "    'City of Kawartha Lakes Police Service',\n",
    "    'Cobourg Police Service',\n",
    "    'Cornwall Police Service',\n",
    "    'Deep River Police Service',\n",
    "    'Dryden Police Service',\n",
    "    'Greater Sudbury Police Service',\n",
    "    'Guelph Police Service',\n",
    "    'Halton Regional Police Service',\n",
    "    'Hamilton Police Service',\n",
    "    'Hanover Police Service',\n",
    "    'Kingston Police',\n",
    "    'Lac Seul Police Service',\n",
    "    'LaSalle Police Service',\n",
    "    'London Police Service',\n",
    "    'Niagara Parks Police',\n",
    "    'Niagara Regional Police Service',\n",
    "    'Nishnawbe-Aski Police Service',\n",
    "    'North Bay Police Service',\n",
    "    'Ontario Provincial Police',\n",
    "    'Owen Sound Police Service',\n",
    "    'Ottawa Police Service',\n",
    "    'Peterborough Police Service',\n",
    "    'Peel Regional Police',\n",
    "    'Port Hope Police Service',\n",
    "    'Rama Police Service',\n",
    "    'Sarnia Police Service',\n",
    "    'Royal Canadian Mounted Police',\n",
    "    'Sault Ste. Marie Police Service',\n",
    "    'Saugeen Shores Police Service',\n",
    "    'Smiths Falls Police Service',\n",
    "    'Six Nations Police Service',\n",
    "    'St. Thomas Police Service',\n",
    "    'Strathroy-Caradoc Police Service',\n",
    "    'South Simcoe Police Service',\n",
    "    'Timmins Police Service',\n",
    "    'Stratford Police Service',\n",
    "    'Thunder Bay Police Service',\n",
    "    'Treaty Three Police Service',\n",
    "    'Toronto Police Service',\n",
    "    'Waterloo Regional Police Service',\n",
    "    'U.C.C.M. Anishnaabe Police',\n",
    "    'Wikwemikong Tribal Police Service',\n",
    "    'West Grey Police Service',\n",
    "    'Woodstock Police Service',\n",
    "    'Windsor Police Service',\n",
    "    'York Regional Police'\n",
    "]"
   ]
  },
  {
   "cell_type": "code",
   "execution_count": 35,
   "id": "f0ff1637-8d2b-4d37-a215-b26a0e90678f",
   "metadata": {},
   "outputs": [],
   "source": [
    "def find_police_service(text):\n",
    "    for service_name in ontario_police_services:\n",
    "        if service_name in notification_of_the_siu_text:\n",
    "            return service_name"
   ]
  },
  {
   "cell_type": "code",
   "execution_count": 37,
   "id": "0657a710-7814-4b27-9faf-17469ec2d3d6",
   "metadata": {},
   "outputs": [
    {
     "data": {
      "text/plain": [
       "'Peterborough Police Service'"
      ]
     },
     "execution_count": 37,
     "metadata": {},
     "output_type": "execute_result"
    }
   ],
   "source": [
    "find_police_service(notification_of_the_siu_text)"
   ]
  },
  {
   "cell_type": "code",
   "execution_count": 38,
   "id": "e9532f53-65ff-4bd7-92bd-72703d5d55f5",
   "metadata": {},
   "outputs": [],
   "source": [
    "municipalities_df = pd.read_csv(\"mmah-list-of-ontario-municipalities-en-utf8-2022-10-05.csv\")\n",
    "\n",
    "def get_municipality_name(tag):\n",
    "    a_soup = BeautifulSoup(tag, \"html.parser\")\n",
    "    \n",
    "    if isinstance(a_soup, bs4.element.Tag):\n",
    "        full_name = get_inner_text(a_soup)\n",
    "    else:\n",
    "        full_name = tag\n",
    "        \n",
    "    \n",
    "        \n",
    "    return full_name.split(\", \")[0]\n",
    "    \n",
    "\n",
    "list_of_municipalities_in_ontario = list(municipalities_df[\"Municipality\"].apply(get_municipality_name))"
   ]
  },
  {
   "cell_type": "code",
   "execution_count": 40,
   "id": "58ccbfe8-052e-4def-981a-2c7ea86af903",
   "metadata": {},
   "outputs": [],
   "source": [
    "def find_city(text):\n",
    "    for municipality in list_of_municipalities_in_ontario:\n",
    "        regex = r\"\\b(?=\\w)\" + re.escape(municipality) + r\"\\b(?!\\w)\"\n",
    "        match = re.search(regex, text, re.IGNORECASE)\n",
    "        if match:\n",
    "            return municipality"
   ]
  },
  {
   "cell_type": "code",
   "execution_count": 42,
   "id": "efa822f9-fed9-487f-9acb-ff268287b88a",
   "metadata": {},
   "outputs": [
    {
     "data": {
      "text/plain": [
       "'Peterborough'"
      ]
     },
     "execution_count": 42,
     "metadata": {},
     "output_type": "execute_result"
    }
   ],
   "source": [
    "find_city(notification_of_the_siu_text)"
   ]
  },
  {
   "cell_type": "code",
   "execution_count": 43,
   "id": "0bb23997-980e-4a7d-94cd-415dd4fbfaab",
   "metadata": {},
   "outputs": [],
   "source": [
    "# officer name is not included in accordance with section 21 of FIPPA\n",
    "# moving onto civilian consquences, this can be found in the text we have\n",
    "# apparent its not always consistent where this info is\n",
    "    \n",
    "from string import punctuation\n",
    "\n",
    "def find_civilian_consequences(soup):\n",
    "    \n",
    "    keywords = ['death', 'injury', 'fracture', 'diagnosed', \n",
    "                'diagnoses', 'dead', 'post-mortem', 'cause of death', \n",
    "                'injuries', 'CT scan', 'assessed', 'assessment', 'treated']\n",
    "    \n",
    "    if soup.find(\"h3\", string = \"Nature of Injuries / Treatment\"):\n",
    "        temp = soup.find(\"h3\", string = \"Nature of Injuries / Treatment\")\n",
    "    elif soup.find(\"h3\", string = \"Nature of Injury/Treatment\"): \n",
    "        temp = soup.find(\"h3\", string = \"Nature of Injury/Treatment\")\n",
    "    elif soup.find(\"h3\", string = \"Cause of Death\"):\n",
    "        temp = soup.find(\"h3\", string = \"Cause of Death\")\n",
    "    elif soup.find(\"h3\", string = \"Cause of death\"):\n",
    "        temp = soup.find(\"h3\", string = \"Cause of death\")\n",
    "    elif soup.find(\"h3\", string = \"Nature of Injuries / Treatment/Cause of Death\"):\n",
    "        temp = soup.find(\"h3\", string = \"Nature of Injuries / Treatment/Cause of Death\")\n",
    "    elif soup.find(\"h3\", string = \"Nature of injury/treatment\"):\n",
    "        temp = soup.find(\"h3\", string = \"Nature of injury/treatment\")\n",
    "    else:\n",
    "        temp = soup.find(\"h2\", string=\"Incident narrative\")\n",
    "\n",
    "    next_sibling = temp.next_sibling\n",
    "    incident = [next_sibling]\n",
    "\n",
    "\n",
    "    while next_sibling.next_sibling.name == \"p\":\n",
    "        next_sibling = next_sibling.next_sibling\n",
    "        incident.append(next_sibling.text)\n",
    "    \n",
    "    civilian_consequences = \"\"\n",
    "    \n",
    "    CLEANR = re.compile('<.*?>|&([a-z0-9]+|#[0-9]{1,6}|#x[0-9a-f]{1,6});')\n",
    "    cleantext = re.sub(CLEANR, '', str(incident))\n",
    "    temp = cleantext.split('.')\n",
    "    for i in temp:\n",
    "        for j in keywords:\n",
    "            if j in i:\n",
    "                civilian_consequences = i\n",
    "    \n",
    "    if civilian_consequences == \"\":\n",
    "        civilian_consequences = cleantext\n",
    "    \n",
    "    civilian_consequences=[i.strip(punctuation) for i in civilian_consequences.split()]\n",
    "    civilian_consequences = \" \".join(civilian_consequences)\n",
    "    \n",
    "    return civilian_consequences"
   ]
  },
  {
   "cell_type": "code",
   "execution_count": 44,
   "id": "8d560897-6f73-4913-88b5-5cdbb7717910",
   "metadata": {},
   "outputs": [
    {
     "ename": "AttributeError",
     "evalue": "'NoneType' object has no attribute 'next_sibling'",
     "output_type": "error",
     "traceback": [
      "\u001b[1;31m---------------------------------------------------------------------------\u001b[0m",
      "\u001b[1;31mAttributeError\u001b[0m                            Traceback (most recent call last)",
      "Input \u001b[1;32mIn [44]\u001b[0m, in \u001b[0;36m<module>\u001b[1;34m\u001b[0m\n\u001b[1;32m----> 1\u001b[0m \u001b[38;5;28mprint\u001b[39m(\u001b[43mfind_civilian_consequences\u001b[49m\u001b[43m(\u001b[49m\u001b[43msoup\u001b[49m\u001b[43m)\u001b[49m)\n",
      "Input \u001b[1;32mIn [43]\u001b[0m, in \u001b[0;36mfind_civilian_consequences\u001b[1;34m(soup)\u001b[0m\n\u001b[0;32m     25\u001b[0m \u001b[38;5;28;01melse\u001b[39;00m:\n\u001b[0;32m     26\u001b[0m     temp \u001b[38;5;241m=\u001b[39m soup\u001b[38;5;241m.\u001b[39mfind(\u001b[38;5;124m\"\u001b[39m\u001b[38;5;124mh2\u001b[39m\u001b[38;5;124m\"\u001b[39m, string\u001b[38;5;241m=\u001b[39m\u001b[38;5;124m\"\u001b[39m\u001b[38;5;124mIncident narrative\u001b[39m\u001b[38;5;124m\"\u001b[39m)\n\u001b[1;32m---> 28\u001b[0m next_sibling \u001b[38;5;241m=\u001b[39m \u001b[43mtemp\u001b[49m\u001b[38;5;241;43m.\u001b[39;49m\u001b[43mnext_sibling\u001b[49m\n\u001b[0;32m     29\u001b[0m incident \u001b[38;5;241m=\u001b[39m [next_sibling]\n\u001b[0;32m     32\u001b[0m \u001b[38;5;28;01mwhile\u001b[39;00m next_sibling\u001b[38;5;241m.\u001b[39mnext_sibling\u001b[38;5;241m.\u001b[39mname \u001b[38;5;241m==\u001b[39m \u001b[38;5;124m\"\u001b[39m\u001b[38;5;124mp\u001b[39m\u001b[38;5;124m\"\u001b[39m:\n",
      "\u001b[1;31mAttributeError\u001b[0m: 'NoneType' object has no attribute 'next_sibling'"
     ]
    }
   ],
   "source": [
    "print(find_civilian_consequences(soup)) # looks like this is non-existent for pre 2017 cases"
   ]
  },
  {
   "cell_type": "code",
   "execution_count": 22,
   "id": "780a5c5e-46b7-44bc-a14a-54d361470b18",
   "metadata": {},
   "outputs": [],
   "source": [
    "# find consequences for officer\n",
    "# personally, I can't find an area of these reports that mention consequences for the officers"
   ]
  },
  {
   "cell_type": "code",
   "execution_count": 45,
   "id": "7db78201-90c1-41ec-ae93-75da1f8a01f2",
   "metadata": {},
   "outputs": [],
   "source": [
    "def find_decision_date(soup):\n",
    "    body = soup.find(\"div\", class_=\"body-field\")\n",
    "    decision_date_element = body.contents[-3]\n",
    "    decision_date = decision_date_element.string\n",
    "    \n",
    "    if decision_date is not None:\n",
    "        decision_date = decision_date.replace(\"\\xa0\", \" \")"
   ]
  },
  {
   "cell_type": "code",
   "execution_count": 95,
   "id": "4227733d-1364-49db-ac0f-ed07bafb173e",
   "metadata": {},
   "outputs": [],
   "source": [
    "def get_all_following_tags_till_next_header(tag):\n",
    "    if tag.next_sibling is None:\n",
    "        return\n",
    "    \n",
    "    results = []\n",
    "    next_sibling = tag.next_sibling\n",
    "    \n",
    "    while next_sibling is not None and next_sibling.name not in [\"h1\", \"h2\", \"h3\"]:\n",
    "        results.append(next_sibling.get_text())\n",
    "        next_sibling = next_sibling.next_sibling\n",
    "        \n",
    "    return results\n",
    "    "
   ]
  },
  {
   "cell_type": "code",
   "execution_count": 100,
   "id": "0f37f94e-fbc6-49bd-91d5-c4ef886513bc",
   "metadata": {},
   "outputs": [],
   "source": [
    "def find_investigation_outcome(soup):\n",
    "    # investigation outcome\n",
    "    # this is found in the director's analysis section/last paragraph of the report\n",
    "    all_h2 = soup.find_all(\"h2\")\n",
    "\n",
    "    \n",
    "    decision = None\n",
    "    for h2 in all_h2:\n",
    "        if \"decision\" in h2.get_text():\n",
    "            decision = h2\n",
    "            break\n",
    "\n",
    "    if decision is None:\n",
    "        return None\n",
    "    \n",
    "    text = decision.next_sibling.get_text()\n",
    "    text.replace(\"\\xa0\", \" \")\n",
    "    \n",
    "    return text"
   ]
  },
  {
   "cell_type": "code",
   "execution_count": 101,
   "id": "2f9b10bf-4959-4f7e-a7e8-0105f626f192",
   "metadata": {},
   "outputs": [
    {
     "data": {
      "text/plain": [
       "'In my view, there are no reasonable grounds to believe that the named subject officer, Subject Officer, committed a criminal offence in relation to the firearms fatality of Mr. Darren Burnside on May\\xa010,\\xa02010. The following are the facts as I understand them.'"
      ]
     },
     "execution_count": 101,
     "metadata": {},
     "output_type": "execute_result"
    }
   ],
   "source": [
    "find_investigation_outcome(soup)"
   ]
  },
  {
   "cell_type": "code",
   "execution_count": 26,
   "id": "d875c987-be8d-4698-8dea-b9bf10dbf9a2",
   "metadata": {},
   "outputs": [],
   "source": [
    "# reason for police investigation\n",
    "# not really sure about this one\n"
   ]
  },
  {
   "cell_type": "code",
   "execution_count": 102,
   "id": "0285fe52-a442-4fac-96a8-8d35d32d2a63",
   "metadata": {},
   "outputs": [
    {
     "name": "stderr",
     "output_type": "stream",
     "text": [
      "100%|█████████████████████████████████████████████████████████████████████████████████████████████████████████████████████████████████████████████████████████████████████| 10/10 [00:04<00:00,  2.23it/s]\n"
     ]
    }
   ],
   "source": [
    "results = []\n",
    "for case in tqdm(cases):\n",
    "    link_soup = BeautifulSoup(case, \"html.parser\")\n",
    "    link = link_soup.find(\"a\")['href']\n",
    "    url = baseurl + link\n",
    "    \n",
    "    hdr = {'User-Agent': 'Mozilla/5.0'}\n",
    "    req = Request(url,headers=hdr)\n",
    "    page = urlopen(req)\n",
    "    html = page.read().decode(\"utf-8\")\n",
    "    soup = BeautifulSoup(html, \"html.parser\")\n",
    "    \n",
    "    province = \"Ontario\"\n",
    "\n",
    "    text = get_notification_of_the_siu_text(soup)\n",
    "    \n",
    "    year = find_year(text)\n",
    "    police_service = find_police_service(text)\n",
    "    \n",
    "    # civilian_consequences = find_civilian_consequences(soup)\n",
    "    \n",
    "    city = find_city(text)\n",
    "    \n",
    "    investigation_outcome = find_investigation_outcome(soup)\n",
    "    \n",
    "    # results.append([year, police_service, city, province, civilian_consequences, investigation_outcome, url])\n",
    "    results.append([year, police_service, city, province, investigation_outcome, url])\n",
    "    \n",
    "# results_df = pd.DataFrame(results, columns=['Year',  'Police Service', 'City', 'Province', 'Civilian Consequences', 'Investigation Final Decision', 'Link'])\n",
    "results_df = pd.DataFrame(results, columns=['Year',  'Police Service', 'City', 'Province', 'Investigation Final Decision', 'Link'])  "
   ]
  },
  {
   "cell_type": "code",
   "execution_count": 103,
   "id": "e3f8468c-d7b5-4f1a-908d-2fac1e8a4222",
   "metadata": {},
   "outputs": [
    {
     "data": {
      "text/html": [
       "<div>\n",
       "<style scoped>\n",
       "    .dataframe tbody tr th:only-of-type {\n",
       "        vertical-align: middle;\n",
       "    }\n",
       "\n",
       "    .dataframe tbody tr th {\n",
       "        vertical-align: top;\n",
       "    }\n",
       "\n",
       "    .dataframe thead th {\n",
       "        text-align: right;\n",
       "    }\n",
       "</style>\n",
       "<table border=\"1\" class=\"dataframe\">\n",
       "  <thead>\n",
       "    <tr style=\"text-align: right;\">\n",
       "      <th></th>\n",
       "      <th>Year</th>\n",
       "      <th>Police Service</th>\n",
       "      <th>City</th>\n",
       "      <th>Province</th>\n",
       "      <th>Investigation Final Decision</th>\n",
       "      <th>Link</th>\n",
       "    </tr>\n",
       "  </thead>\n",
       "  <tbody>\n",
       "    <tr>\n",
       "      <th>0</th>\n",
       "      <td>2005</td>\n",
       "      <td>Peterborough Police Service</td>\n",
       "      <td>Toronto</td>\n",
       "      <td>Ontario</td>\n",
       "      <td>There are no reasonable grounds to believe tha...</td>\n",
       "      <td>https://www.ontario.ca/page/siu-directors-repo...</td>\n",
       "    </tr>\n",
       "    <tr>\n",
       "      <th>1</th>\n",
       "      <td>2015</td>\n",
       "      <td>Peterborough Police Service</td>\n",
       "      <td>Peterborough</td>\n",
       "      <td>Ontario</td>\n",
       "      <td>There are no reasonable grounds, in my view, t...</td>\n",
       "      <td>https://www.ontario.ca/page/siu-directors-repo...</td>\n",
       "    </tr>\n",
       "    <tr>\n",
       "      <th>2</th>\n",
       "      <td>2010</td>\n",
       "      <td>Peterborough Police Service</td>\n",
       "      <td>None</td>\n",
       "      <td>Ontario</td>\n",
       "      <td>In my view, there are no reasonable grounds to...</td>\n",
       "      <td>https://www.ontario.ca/page/siu-directors-repo...</td>\n",
       "    </tr>\n",
       "    <tr>\n",
       "      <th>3</th>\n",
       "      <td>2010</td>\n",
       "      <td>Peterborough Police Service</td>\n",
       "      <td>Brantford</td>\n",
       "      <td>Ontario</td>\n",
       "      <td>In my view, there are no reasonable grounds to...</td>\n",
       "      <td>https://www.ontario.ca/page/siu-directors-repo...</td>\n",
       "    </tr>\n",
       "    <tr>\n",
       "      <th>4</th>\n",
       "      <td>2011</td>\n",
       "      <td>Peterborough Police Service</td>\n",
       "      <td>Armstrong</td>\n",
       "      <td>Ontario</td>\n",
       "      <td>In my view, there are no reasonable grounds to...</td>\n",
       "      <td>https://www.ontario.ca/page/siu-directors-repo...</td>\n",
       "    </tr>\n",
       "    <tr>\n",
       "      <th>5</th>\n",
       "      <td>2009</td>\n",
       "      <td>Peterborough Police Service</td>\n",
       "      <td>Toronto</td>\n",
       "      <td>Ontario</td>\n",
       "      <td>In my view, there are no reasonable grounds to...</td>\n",
       "      <td>https://www.ontario.ca/page/siu-directors-repo...</td>\n",
       "    </tr>\n",
       "    <tr>\n",
       "      <th>6</th>\n",
       "      <td>2013</td>\n",
       "      <td>Peterborough Police Service</td>\n",
       "      <td>None</td>\n",
       "      <td>Ontario</td>\n",
       "      <td>The investigation by this Unit has been comple...</td>\n",
       "      <td>https://www.ontario.ca/page/siu-directors-repo...</td>\n",
       "    </tr>\n",
       "    <tr>\n",
       "      <th>7</th>\n",
       "      <td>2015</td>\n",
       "      <td>Peterborough Police Service</td>\n",
       "      <td>St. Joseph</td>\n",
       "      <td>Ontario</td>\n",
       "      <td>None</td>\n",
       "      <td>https://www.ontario.ca/page/siu-directors-repo...</td>\n",
       "    </tr>\n",
       "    <tr>\n",
       "      <th>8</th>\n",
       "      <td>2010</td>\n",
       "      <td>Peterborough Police Service</td>\n",
       "      <td>Ottawa</td>\n",
       "      <td>Ontario</td>\n",
       "      <td>None</td>\n",
       "      <td>https://www.ontario.ca/page/siu-directors-repo...</td>\n",
       "    </tr>\n",
       "    <tr>\n",
       "      <th>9</th>\n",
       "      <td>2013</td>\n",
       "      <td>Peterborough Police Service</td>\n",
       "      <td>Toronto</td>\n",
       "      <td>Ontario</td>\n",
       "      <td>In my view, there are no reasonable grounds to...</td>\n",
       "      <td>https://www.ontario.ca/page/siu-directors-repo...</td>\n",
       "    </tr>\n",
       "  </tbody>\n",
       "</table>\n",
       "</div>"
      ],
      "text/plain": [
       "   Year               Police Service          City Province  \\\n",
       "0  2005  Peterborough Police Service       Toronto  Ontario   \n",
       "1  2015  Peterborough Police Service  Peterborough  Ontario   \n",
       "2  2010  Peterborough Police Service          None  Ontario   \n",
       "3  2010  Peterborough Police Service     Brantford  Ontario   \n",
       "4  2011  Peterborough Police Service     Armstrong  Ontario   \n",
       "5  2009  Peterborough Police Service       Toronto  Ontario   \n",
       "6  2013  Peterborough Police Service          None  Ontario   \n",
       "7  2015  Peterborough Police Service    St. Joseph  Ontario   \n",
       "8  2010  Peterborough Police Service        Ottawa  Ontario   \n",
       "9  2013  Peterborough Police Service       Toronto  Ontario   \n",
       "\n",
       "                        Investigation Final Decision  \\\n",
       "0  There are no reasonable grounds to believe tha...   \n",
       "1  There are no reasonable grounds, in my view, t...   \n",
       "2  In my view, there are no reasonable grounds to...   \n",
       "3  In my view, there are no reasonable grounds to...   \n",
       "4  In my view, there are no reasonable grounds to...   \n",
       "5  In my view, there are no reasonable grounds to...   \n",
       "6  The investigation by this Unit has been comple...   \n",
       "7                                               None   \n",
       "8                                               None   \n",
       "9  In my view, there are no reasonable grounds to...   \n",
       "\n",
       "                                                Link  \n",
       "0  https://www.ontario.ca/page/siu-directors-repo...  \n",
       "1  https://www.ontario.ca/page/siu-directors-repo...  \n",
       "2  https://www.ontario.ca/page/siu-directors-repo...  \n",
       "3  https://www.ontario.ca/page/siu-directors-repo...  \n",
       "4  https://www.ontario.ca/page/siu-directors-repo...  \n",
       "5  https://www.ontario.ca/page/siu-directors-repo...  \n",
       "6  https://www.ontario.ca/page/siu-directors-repo...  \n",
       "7  https://www.ontario.ca/page/siu-directors-repo...  \n",
       "8  https://www.ontario.ca/page/siu-directors-repo...  \n",
       "9  https://www.ontario.ca/page/siu-directors-repo...  "
      ]
     },
     "execution_count": 103,
     "metadata": {},
     "output_type": "execute_result"
    }
   ],
   "source": [
    "results_df"
   ]
  },
  {
   "cell_type": "code",
   "execution_count": 104,
   "id": "9d48c903-6cf7-40e2-a2ed-478106d04a14",
   "metadata": {},
   "outputs": [],
   "source": [
    "results_df.to_csv(\"results_on_2005.csv\", index=False)"
   ]
  },
  {
   "cell_type": "code",
   "execution_count": null,
   "id": "06cc43fb-27b7-459e-9678-4888a0941266",
   "metadata": {},
   "outputs": [],
   "source": []
  }
 ],
 "metadata": {
  "kernelspec": {
   "display_name": "Python 3 (ipykernel)",
   "language": "python",
   "name": "python3"
  },
  "language_info": {
   "codemirror_mode": {
    "name": "ipython",
    "version": 3
   },
   "file_extension": ".py",
   "mimetype": "text/x-python",
   "name": "python",
   "nbconvert_exporter": "python",
   "pygments_lexer": "ipython3",
   "version": "3.9.5"
  }
 },
 "nbformat": 4,
 "nbformat_minor": 5
}
